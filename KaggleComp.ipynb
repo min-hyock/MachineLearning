{
 "cells": [
  {
   "cell_type": "markdown",
   "id": "8747bd88",
   "metadata": {},
   "source": [
    "# 도서관 수입, CSV 수입"
   ]
  },
  {
   "cell_type": "code",
   "execution_count": 1,
   "id": "ee53b0d5",
   "metadata": {
    "ExecuteTime": {
     "end_time": "2023-05-31T07:00:12.383453Z",
     "start_time": "2023-05-31T07:00:10.245818Z"
    }
   },
   "outputs": [],
   "source": [
    "import pandas as pd\n",
    "import numpy as np\n",
    "import matplotlib.pyplot as plt\n",
    "import seaborn\n",
    "import warnings\n",
    "warnings.filterwarnings('ignore')\n",
    "from sklearn.preprocessing import StandardScaler, LabelEncoder"
   ]
  },
  {
   "cell_type": "code",
   "execution_count": 2,
   "id": "f3615e98",
   "metadata": {
    "ExecuteTime": {
     "end_time": "2023-05-31T07:00:12.490191Z",
     "start_time": "2023-05-31T07:00:12.385450Z"
    }
   },
   "outputs": [],
   "source": [
    "train = pd.read_csv('train.csv')\n",
    "test = pd.read_csv('test.csv')"
   ]
  },
  {
   "cell_type": "markdown",
   "id": "276b787f",
   "metadata": {},
   "source": [
    "# 문제 정의"
   ]
  },
  {
   "cell_type": "markdown",
   "id": "fa447d5c",
   "metadata": {},
   "source": [
    "<hr style=\"background-color: red; height: 2px\">\n",
    "<Description of fnlwgt (final weight)>\n",
    " The weights on the CPS files are controlled to independent estimates of the\n",
    " civilian noninstitutional population of the US.  These are prepared monthly\n",
    " for us by Population Division here at the Census Bureau.  We use 3 sets of\n",
    " controls.\n",
    " These are:\n",
    "          1.  A single cell estimate of the population 16+ for each state.\n",
    "          2.  Controls for Hispanic Origin by age and sex.\n",
    "          3.  Controls by Race, age and sex.\n",
    "\n",
    "We use all three sets of controls in our weighting program and \"rake\" through\n",
    "them 6 times so that by the end we come back to all the controls we used.\n",
    "\n",
    "The term estimate refers to population totals derived from CPS by creating\n",
    "\"weighted tallies\" of any specified socio-economic characteristics of the\n",
    "population.\n",
    "\n",
    "People with similar demographic characteristics should have\n",
    "similar weights.  There is one important caveat to remember\n",
    "about this statement.  That is that since the CPS sample is\n",
    "actually a collection of 51 state samples, each with its own\n",
    "probability of selection, the statement only applies within\n",
    "state.\n",
    "\n",
    "=================================================================================\n",
    "컬럼 설명\n",
    "<Attribute information>\n",
    "\n",
    "age: continuous.\n",
    "workclass: Private, Self-emp-not-inc, Self-emp-inc, Federal-gov, Local-gov, State-gov, Without-pay, Never-worked.\n",
    "fnlwgt: continuous.\n",
    "education: Bachelors, Some-college, 11th, HS-grad, Prof-school, Assoc-acdm, Assoc-voc, 9th, 7th-8th, 12th, Masters, 1st-4th, 10th, Doctorate, 5th-6th, Preschool.\n",
    "education-num: continuous.\n",
    "marital-status: Married-civ-spouse, Divorced, Never-married, Separated, Widowed, Married-spouse-absent, Married-AF-spouse.\n",
    "occupation: Tech-support, Craft-repair, Other-service, Sales, Exec-managerial, Prof-specialty, Handlers-cleaners, Machine-op-inspct, Adm-clerical, Farming-fishing, Transport-moving, Priv-house-serv, Protective-serv, Armed-Forces.\n",
    "relationship: Wife, Own-child, Husband, Not-in-family, Other-relative, Unmarried.\n",
    "race: White, Asian-Pac-Islander, Amer-Indian-Eskimo, Other, Black.\n",
    "sex: Female, Male.\n",
    "capital-gain: continuous.\n",
    "capital-loss: continuous.\n",
    "hours-per-week: continuous.\n",
    "native-country: United-States, Cambodia, England, Puerto-Rico, Canada, Germany, Outlying-US(Guam-USVI-etc), India, Japan, Greece, South, China, Cuba, Iran, Honduras, Philippines, Italy, Poland, Jamaica, Vietnam, Mexico, Portugal, Ireland, France, Dominican-Republic, Laos, Ecuador, Taiwan, Haiti, Columbia, Hungary, Guatemala, Nicaragua, Scotland, Thailand, Yugoslavia, El-Salvador, Trinadad&Tobago, Peru, Hong, Holand-Netherlands\n",
    "\n",
    "<hr style=\"background-color: red; height: 2px\">"
   ]
  },
  {
   "cell_type": "code",
   "execution_count": 3,
   "id": "83d038ff",
   "metadata": {
    "ExecuteTime": {
     "end_time": "2023-05-31T07:00:12.521138Z",
     "start_time": "2023-05-31T07:00:12.492185Z"
    }
   },
   "outputs": [
    {
     "data": {
      "text/html": [
       "<div>\n",
       "<style scoped>\n",
       "    .dataframe tbody tr th:only-of-type {\n",
       "        vertical-align: middle;\n",
       "    }\n",
       "\n",
       "    .dataframe tbody tr th {\n",
       "        vertical-align: top;\n",
       "    }\n",
       "\n",
       "    .dataframe thead th {\n",
       "        text-align: right;\n",
       "    }\n",
       "</style>\n",
       "<table border=\"1\" class=\"dataframe\">\n",
       "  <thead>\n",
       "    <tr style=\"text-align: right;\">\n",
       "      <th></th>\n",
       "      <th>income</th>\n",
       "      <th>fnlwgt</th>\n",
       "    </tr>\n",
       "  </thead>\n",
       "  <tbody>\n",
       "    <tr>\n",
       "      <th>income</th>\n",
       "      <td>1.000000</td>\n",
       "      <td>-0.002994</td>\n",
       "    </tr>\n",
       "    <tr>\n",
       "      <th>fnlwgt</th>\n",
       "      <td>-0.002994</td>\n",
       "      <td>1.000000</td>\n",
       "    </tr>\n",
       "  </tbody>\n",
       "</table>\n",
       "</div>"
      ],
      "text/plain": [
       "          income    fnlwgt\n",
       "income  1.000000 -0.002994\n",
       "fnlwgt -0.002994  1.000000"
      ]
     },
     "execution_count": 3,
     "metadata": {},
     "output_type": "execute_result"
    }
   ],
   "source": [
    "train[['income', 'fnlwgt']].corr()"
   ]
  },
  {
   "cell_type": "code",
   "execution_count": 4,
   "id": "0b6affb6",
   "metadata": {
    "ExecuteTime": {
     "end_time": "2023-05-31T07:00:13.005249Z",
     "start_time": "2023-05-31T07:00:12.524098Z"
    }
   },
   "outputs": [
    {
     "data": {
      "text/plain": [
       "<AxesSubplot:xlabel='income', ylabel='fnlwgt'>"
      ]
     },
     "execution_count": 4,
     "metadata": {},
     "output_type": "execute_result"
    },
    {
     "data": {
      "image/png": "[encoded data removed]",
      "text/plain": [
       "<Figure size 640x480 with 1 Axes>"
      ]
     },
     "metadata": {},
     "output_type": "display_data"
    }
   ],
   "source": [
    "seaborn.barplot(x=train['income'], y=train['fnlwgt'])"
   ]
  },
  {
   "cell_type": "code",
   "execution_count": 5,
   "id": "baa54518",
   "metadata": {
    "ExecuteTime": {
     "end_time": "2023-05-31T07:00:13.021234Z",
     "start_time": "2023-05-31T07:00:13.007217Z"
    }
   },
   "outputs": [],
   "source": [
    "# 나는 e1 시러용\n",
    "pd.set_option('display.float_format', '{:.0f}'.format)\n",
    "\n",
    "# 플로팅포인트 포맷 리셋용\n",
    "# pd.reset_option('display.float_format')"
   ]
  },
  {
   "cell_type": "code",
   "execution_count": 6,
   "id": "79cdf18f",
   "metadata": {
    "ExecuteTime": {
     "end_time": "2023-05-31T07:00:13.068230Z",
     "start_time": "2023-05-31T07:00:13.023206Z"
    }
   },
   "outputs": [
    {
     "data": {
      "text/html": [
       "<div>\n",
       "<style scoped>\n",
       "    .dataframe tbody tr th:only-of-type {\n",
       "        vertical-align: middle;\n",
       "    }\n",
       "\n",
       "    .dataframe tbody tr th {\n",
       "        vertical-align: top;\n",
       "    }\n",
       "\n",
       "    .dataframe thead tr th {\n",
       "        text-align: left;\n",
       "    }\n",
       "\n",
       "    .dataframe thead tr:last-of-type th {\n",
       "        text-align: right;\n",
       "    }\n",
       "</style>\n",
       "<table border=\"1\" class=\"dataframe\">\n",
       "  <thead>\n",
       "    <tr>\n",
       "      <th></th>\n",
       "      <th colspan=\"8\" halign=\"left\">fnlwgt</th>\n",
       "    </tr>\n",
       "    <tr>\n",
       "      <th></th>\n",
       "      <th>count</th>\n",
       "      <th>mean</th>\n",
       "      <th>std</th>\n",
       "      <th>min</th>\n",
       "      <th>25%</th>\n",
       "      <th>50%</th>\n",
       "      <th>75%</th>\n",
       "      <th>max</th>\n",
       "    </tr>\n",
       "    <tr>\n",
       "      <th>race</th>\n",
       "      <th></th>\n",
       "      <th></th>\n",
       "      <th></th>\n",
       "      <th></th>\n",
       "      <th></th>\n",
       "      <th></th>\n",
       "      <th></th>\n",
       "      <th></th>\n",
       "    </tr>\n",
       "  </thead>\n",
       "  <tbody>\n",
       "    <tr>\n",
       "      <th>Amer-Indian-Eskimo</th>\n",
       "      <td>290</td>\n",
       "      <td>120690</td>\n",
       "      <td>100468</td>\n",
       "      <td>13769</td>\n",
       "      <td>33487</td>\n",
       "      <td>100907</td>\n",
       "      <td>177636</td>\n",
       "      <td>814850</td>\n",
       "    </tr>\n",
       "    <tr>\n",
       "      <th>Asian-Pac-Islander</th>\n",
       "      <td>919</td>\n",
       "      <td>162095</td>\n",
       "      <td>87250</td>\n",
       "      <td>14878</td>\n",
       "      <td>91670</td>\n",
       "      <td>143582</td>\n",
       "      <td>199802</td>\n",
       "      <td>506329</td>\n",
       "    </tr>\n",
       "    <tr>\n",
       "      <th>Black</th>\n",
       "      <td>2776</td>\n",
       "      <td>229903</td>\n",
       "      <td>124508</td>\n",
       "      <td>21189</td>\n",
       "      <td>149908</td>\n",
       "      <td>206482</td>\n",
       "      <td>281714</td>\n",
       "      <td>1268339</td>\n",
       "    </tr>\n",
       "    <tr>\n",
       "      <th>Other</th>\n",
       "      <td>239</td>\n",
       "      <td>196403</td>\n",
       "      <td>93886</td>\n",
       "      <td>24562</td>\n",
       "      <td>133148</td>\n",
       "      <td>181337</td>\n",
       "      <td>238239</td>\n",
       "      <td>655066</td>\n",
       "    </tr>\n",
       "    <tr>\n",
       "      <th>White</th>\n",
       "      <td>25081</td>\n",
       "      <td>187037</td>\n",
       "      <td>102834</td>\n",
       "      <td>18827</td>\n",
       "      <td>116531</td>\n",
       "      <td>177181</td>\n",
       "      <td>234192</td>\n",
       "      <td>1490400</td>\n",
       "    </tr>\n",
       "  </tbody>\n",
       "</table>\n",
       "</div>"
      ],
      "text/plain": [
       "                    fnlwgt                                                 \n",
       "                     count   mean    std   min    25%    50%    75%     max\n",
       "race                                                                       \n",
       " Amer-Indian-Eskimo    290 120690 100468 13769  33487 100907 177636  814850\n",
       " Asian-Pac-Islander    919 162095  87250 14878  91670 143582 199802  506329\n",
       " Black                2776 229903 124508 21189 149908 206482 281714 1268339\n",
       " Other                 239 196403  93886 24562 133148 181337 238239  655066\n",
       " White               25081 187037 102834 18827 116531 177181 234192 1490400"
      ]
     },
     "execution_count": 6,
     "metadata": {},
     "output_type": "execute_result"
    }
   ],
   "source": [
    "train[['fnlwgt', 'race']].groupby(by='race').describe()"
   ]
  },
  {
   "cell_type": "code",
   "execution_count": 7,
   "id": "f1a87bf4",
   "metadata": {
    "ExecuteTime": {
     "end_time": "2023-05-31T07:00:13.195188Z",
     "start_time": "2023-05-31T07:00:13.070195Z"
    }
   },
   "outputs": [
    {
     "data": {
      "text/html": [
       "<div>\n",
       "<style scoped>\n",
       "    .dataframe tbody tr th:only-of-type {\n",
       "        vertical-align: middle;\n",
       "    }\n",
       "\n",
       "    .dataframe tbody tr th {\n",
       "        vertical-align: top;\n",
       "    }\n",
       "\n",
       "    .dataframe thead tr th {\n",
       "        text-align: left;\n",
       "    }\n",
       "\n",
       "    .dataframe thead tr:last-of-type th {\n",
       "        text-align: right;\n",
       "    }\n",
       "</style>\n",
       "<table border=\"1\" class=\"dataframe\">\n",
       "  <thead>\n",
       "    <tr>\n",
       "      <th></th>\n",
       "      <th colspan=\"8\" halign=\"left\">fnlwgt</th>\n",
       "    </tr>\n",
       "    <tr>\n",
       "      <th></th>\n",
       "      <th>count</th>\n",
       "      <th>mean</th>\n",
       "      <th>std</th>\n",
       "      <th>min</th>\n",
       "      <th>25%</th>\n",
       "      <th>50%</th>\n",
       "      <th>75%</th>\n",
       "      <th>max</th>\n",
       "    </tr>\n",
       "    <tr>\n",
       "      <th>native-country</th>\n",
       "      <th></th>\n",
       "      <th></th>\n",
       "      <th></th>\n",
       "      <th></th>\n",
       "      <th></th>\n",
       "      <th></th>\n",
       "      <th></th>\n",
       "      <th></th>\n",
       "    </tr>\n",
       "  </thead>\n",
       "  <tbody>\n",
       "    <tr>\n",
       "      <th>?</th>\n",
       "      <td>495</td>\n",
       "      <td>193049</td>\n",
       "      <td>91679</td>\n",
       "      <td>25806</td>\n",
       "      <td>133923</td>\n",
       "      <td>179048</td>\n",
       "      <td>227332</td>\n",
       "      <td>609789</td>\n",
       "    </tr>\n",
       "    <tr>\n",
       "      <th>Cambodia</th>\n",
       "      <td>19</td>\n",
       "      <td>212084</td>\n",
       "      <td>92452</td>\n",
       "      <td>63685</td>\n",
       "      <td>125790</td>\n",
       "      <td>228608</td>\n",
       "      <td>276874</td>\n",
       "      <td>355856</td>\n",
       "    </tr>\n",
       "    <tr>\n",
       "      <th>Canada</th>\n",
       "      <td>111</td>\n",
       "      <td>181747</td>\n",
       "      <td>97964</td>\n",
       "      <td>28221</td>\n",
       "      <td>102434</td>\n",
       "      <td>187355</td>\n",
       "      <td>221166</td>\n",
       "      <td>505365</td>\n",
       "    </tr>\n",
       "    <tr>\n",
       "      <th>China</th>\n",
       "      <td>68</td>\n",
       "      <td>182983</td>\n",
       "      <td>96225</td>\n",
       "      <td>25806</td>\n",
       "      <td>100079</td>\n",
       "      <td>161942</td>\n",
       "      <td>257485</td>\n",
       "      <td>399246</td>\n",
       "    </tr>\n",
       "    <tr>\n",
       "      <th>Columbia</th>\n",
       "      <td>53</td>\n",
       "      <td>205137</td>\n",
       "      <td>81085</td>\n",
       "      <td>89419</td>\n",
       "      <td>161857</td>\n",
       "      <td>195023</td>\n",
       "      <td>242987</td>\n",
       "      <td>597843</td>\n",
       "    </tr>\n",
       "    <tr>\n",
       "      <th>Cuba</th>\n",
       "      <td>94</td>\n",
       "      <td>239496</td>\n",
       "      <td>66723</td>\n",
       "      <td>48853</td>\n",
       "      <td>213592</td>\n",
       "      <td>236758</td>\n",
       "      <td>276182</td>\n",
       "      <td>505119</td>\n",
       "    </tr>\n",
       "    <tr>\n",
       "      <th>Dominican-Republic</th>\n",
       "      <td>61</td>\n",
       "      <td>192701</td>\n",
       "      <td>63859</td>\n",
       "      <td>44159</td>\n",
       "      <td>145041</td>\n",
       "      <td>188507</td>\n",
       "      <td>230315</td>\n",
       "      <td>331875</td>\n",
       "    </tr>\n",
       "    <tr>\n",
       "      <th>Ecuador</th>\n",
       "      <td>21</td>\n",
       "      <td>160031</td>\n",
       "      <td>48066</td>\n",
       "      <td>61298</td>\n",
       "      <td>132327</td>\n",
       "      <td>153805</td>\n",
       "      <td>173534</td>\n",
       "      <td>264351</td>\n",
       "    </tr>\n",
       "    <tr>\n",
       "      <th>El-Salvador</th>\n",
       "      <td>96</td>\n",
       "      <td>259622</td>\n",
       "      <td>150825</td>\n",
       "      <td>39581</td>\n",
       "      <td>176227</td>\n",
       "      <td>226607</td>\n",
       "      <td>324106</td>\n",
       "      <td>795830</td>\n",
       "    </tr>\n",
       "    <tr>\n",
       "      <th>England</th>\n",
       "      <td>75</td>\n",
       "      <td>190709</td>\n",
       "      <td>102432</td>\n",
       "      <td>19302</td>\n",
       "      <td>109992</td>\n",
       "      <td>181132</td>\n",
       "      <td>246786</td>\n",
       "      <td>440138</td>\n",
       "    </tr>\n",
       "    <tr>\n",
       "      <th>France</th>\n",
       "      <td>20</td>\n",
       "      <td>194623</td>\n",
       "      <td>96960</td>\n",
       "      <td>59829</td>\n",
       "      <td>129296</td>\n",
       "      <td>177165</td>\n",
       "      <td>197630</td>\n",
       "      <td>493689</td>\n",
       "    </tr>\n",
       "    <tr>\n",
       "      <th>Germany</th>\n",
       "      <td>124</td>\n",
       "      <td>206154</td>\n",
       "      <td>99459</td>\n",
       "      <td>19302</td>\n",
       "      <td>134947</td>\n",
       "      <td>192108</td>\n",
       "      <td>265123</td>\n",
       "      <td>606111</td>\n",
       "    </tr>\n",
       "    <tr>\n",
       "      <th>Greece</th>\n",
       "      <td>25</td>\n",
       "      <td>149437</td>\n",
       "      <td>47668</td>\n",
       "      <td>62539</td>\n",
       "      <td>110015</td>\n",
       "      <td>156877</td>\n",
       "      <td>184762</td>\n",
       "      <td>231818</td>\n",
       "    </tr>\n",
       "    <tr>\n",
       "      <th>Guatemala</th>\n",
       "      <td>51</td>\n",
       "      <td>266011</td>\n",
       "      <td>132210</td>\n",
       "      <td>94826</td>\n",
       "      <td>175942</td>\n",
       "      <td>216937</td>\n",
       "      <td>350624</td>\n",
       "      <td>587310</td>\n",
       "    </tr>\n",
       "    <tr>\n",
       "      <th>Haiti</th>\n",
       "      <td>51</td>\n",
       "      <td>214193</td>\n",
       "      <td>67638</td>\n",
       "      <td>82285</td>\n",
       "      <td>169324</td>\n",
       "      <td>216116</td>\n",
       "      <td>256241</td>\n",
       "      <td>418640</td>\n",
       "    </tr>\n",
       "    <tr>\n",
       "      <th>Holand-Netherlands</th>\n",
       "      <td>1</td>\n",
       "      <td>27882</td>\n",
       "      <td>NaN</td>\n",
       "      <td>27882</td>\n",
       "      <td>27882</td>\n",
       "      <td>27882</td>\n",
       "      <td>27882</td>\n",
       "      <td>27882</td>\n",
       "    </tr>\n",
       "    <tr>\n",
       "      <th>Honduras</th>\n",
       "      <td>11</td>\n",
       "      <td>275396</td>\n",
       "      <td>75827</td>\n",
       "      <td>136982</td>\n",
       "      <td>243608</td>\n",
       "      <td>261943</td>\n",
       "      <td>302675</td>\n",
       "      <td>411587</td>\n",
       "    </tr>\n",
       "    <tr>\n",
       "      <th>Hong</th>\n",
       "      <td>19</td>\n",
       "      <td>217175</td>\n",
       "      <td>89468</td>\n",
       "      <td>109996</td>\n",
       "      <td>150358</td>\n",
       "      <td>166386</td>\n",
       "      <td>302968</td>\n",
       "      <td>370675</td>\n",
       "    </tr>\n",
       "    <tr>\n",
       "      <th>Hungary</th>\n",
       "      <td>12</td>\n",
       "      <td>210656</td>\n",
       "      <td>103039</td>\n",
       "      <td>114263</td>\n",
       "      <td>137966</td>\n",
       "      <td>173752</td>\n",
       "      <td>255448</td>\n",
       "      <td>444725</td>\n",
       "    </tr>\n",
       "    <tr>\n",
       "      <th>India</th>\n",
       "      <td>90</td>\n",
       "      <td>164487</td>\n",
       "      <td>87865</td>\n",
       "      <td>23510</td>\n",
       "      <td>117355</td>\n",
       "      <td>144468</td>\n",
       "      <td>176913</td>\n",
       "      <td>588739</td>\n",
       "    </tr>\n",
       "    <tr>\n",
       "      <th>Iran</th>\n",
       "      <td>38</td>\n",
       "      <td>188036</td>\n",
       "      <td>82680</td>\n",
       "      <td>35864</td>\n",
       "      <td>140748</td>\n",
       "      <td>181522</td>\n",
       "      <td>213765</td>\n",
       "      <td>454508</td>\n",
       "    </tr>\n",
       "    <tr>\n",
       "      <th>Ireland</th>\n",
       "      <td>23</td>\n",
       "      <td>143525</td>\n",
       "      <td>63258</td>\n",
       "      <td>63437</td>\n",
       "      <td>112306</td>\n",
       "      <td>131608</td>\n",
       "      <td>159442</td>\n",
       "      <td>390746</td>\n",
       "    </tr>\n",
       "    <tr>\n",
       "      <th>Italy</th>\n",
       "      <td>60</td>\n",
       "      <td>185759</td>\n",
       "      <td>96219</td>\n",
       "      <td>37913</td>\n",
       "      <td>123141</td>\n",
       "      <td>170750</td>\n",
       "      <td>215985</td>\n",
       "      <td>573583</td>\n",
       "    </tr>\n",
       "    <tr>\n",
       "      <th>Jamaica</th>\n",
       "      <td>68</td>\n",
       "      <td>216623</td>\n",
       "      <td>68727</td>\n",
       "      <td>34532</td>\n",
       "      <td>174346</td>\n",
       "      <td>214784</td>\n",
       "      <td>256462</td>\n",
       "      <td>401623</td>\n",
       "    </tr>\n",
       "    <tr>\n",
       "      <th>Japan</th>\n",
       "      <td>54</td>\n",
       "      <td>201441</td>\n",
       "      <td>124194</td>\n",
       "      <td>29807</td>\n",
       "      <td>87960</td>\n",
       "      <td>162618</td>\n",
       "      <td>302509</td>\n",
       "      <td>586657</td>\n",
       "    </tr>\n",
       "    <tr>\n",
       "      <th>Laos</th>\n",
       "      <td>13</td>\n",
       "      <td>230065</td>\n",
       "      <td>99832</td>\n",
       "      <td>90688</td>\n",
       "      <td>138537</td>\n",
       "      <td>269042</td>\n",
       "      <td>303296</td>\n",
       "      <td>350979</td>\n",
       "    </tr>\n",
       "    <tr>\n",
       "      <th>Mexico</th>\n",
       "      <td>579</td>\n",
       "      <td>278454</td>\n",
       "      <td>108054</td>\n",
       "      <td>56121</td>\n",
       "      <td>210970</td>\n",
       "      <td>252327</td>\n",
       "      <td>346734</td>\n",
       "      <td>657397</td>\n",
       "    </tr>\n",
       "    <tr>\n",
       "      <th>Nicaragua</th>\n",
       "      <td>28</td>\n",
       "      <td>280829</td>\n",
       "      <td>129578</td>\n",
       "      <td>111520</td>\n",
       "      <td>196492</td>\n",
       "      <td>259294</td>\n",
       "      <td>297229</td>\n",
       "      <td>615893</td>\n",
       "    </tr>\n",
       "    <tr>\n",
       "      <th>Outlying-US(Guam-USVI-etc)</th>\n",
       "      <td>15</td>\n",
       "      <td>209699</td>\n",
       "      <td>82132</td>\n",
       "      <td>90907</td>\n",
       "      <td>162537</td>\n",
       "      <td>218136</td>\n",
       "      <td>255116</td>\n",
       "      <td>412435</td>\n",
       "    </tr>\n",
       "    <tr>\n",
       "      <th>Peru</th>\n",
       "      <td>25</td>\n",
       "      <td>262419</td>\n",
       "      <td>129364</td>\n",
       "      <td>130513</td>\n",
       "      <td>171231</td>\n",
       "      <td>240612</td>\n",
       "      <td>280422</td>\n",
       "      <td>655066</td>\n",
       "    </tr>\n",
       "    <tr>\n",
       "      <th>Philippines</th>\n",
       "      <td>178</td>\n",
       "      <td>174074</td>\n",
       "      <td>95894</td>\n",
       "      <td>14878</td>\n",
       "      <td>87182</td>\n",
       "      <td>161513</td>\n",
       "      <td>230959</td>\n",
       "      <td>554206</td>\n",
       "    </tr>\n",
       "    <tr>\n",
       "      <th>Poland</th>\n",
       "      <td>53</td>\n",
       "      <td>181947</td>\n",
       "      <td>59529</td>\n",
       "      <td>98611</td>\n",
       "      <td>141807</td>\n",
       "      <td>172571</td>\n",
       "      <td>214242</td>\n",
       "      <td>356838</td>\n",
       "    </tr>\n",
       "    <tr>\n",
       "      <th>Portugal</th>\n",
       "      <td>43</td>\n",
       "      <td>153838</td>\n",
       "      <td>102996</td>\n",
       "      <td>60668</td>\n",
       "      <td>83179</td>\n",
       "      <td>111746</td>\n",
       "      <td>180996</td>\n",
       "      <td>424934</td>\n",
       "    </tr>\n",
       "    <tr>\n",
       "      <th>Puerto-Rico</th>\n",
       "      <td>117</td>\n",
       "      <td>204765</td>\n",
       "      <td>77353</td>\n",
       "      <td>26668</td>\n",
       "      <td>160837</td>\n",
       "      <td>195813</td>\n",
       "      <td>234994</td>\n",
       "      <td>538319</td>\n",
       "    </tr>\n",
       "    <tr>\n",
       "      <th>Scotland</th>\n",
       "      <td>9</td>\n",
       "      <td>157634</td>\n",
       "      <td>93635</td>\n",
       "      <td>71046</td>\n",
       "      <td>105788</td>\n",
       "      <td>132304</td>\n",
       "      <td>182217</td>\n",
       "      <td>387468</td>\n",
       "    </tr>\n",
       "    <tr>\n",
       "      <th>South</th>\n",
       "      <td>74</td>\n",
       "      <td>170535</td>\n",
       "      <td>85995</td>\n",
       "      <td>20469</td>\n",
       "      <td>122955</td>\n",
       "      <td>152911</td>\n",
       "      <td>211943</td>\n",
       "      <td>565769</td>\n",
       "    </tr>\n",
       "    <tr>\n",
       "      <th>Taiwan</th>\n",
       "      <td>39</td>\n",
       "      <td>177507</td>\n",
       "      <td>75441</td>\n",
       "      <td>27494</td>\n",
       "      <td>127065</td>\n",
       "      <td>166386</td>\n",
       "      <td>202062</td>\n",
       "      <td>348986</td>\n",
       "    </tr>\n",
       "    <tr>\n",
       "      <th>Thailand</th>\n",
       "      <td>15</td>\n",
       "      <td>173239</td>\n",
       "      <td>58414</td>\n",
       "      <td>94214</td>\n",
       "      <td>128290</td>\n",
       "      <td>171968</td>\n",
       "      <td>190798</td>\n",
       "      <td>302945</td>\n",
       "    </tr>\n",
       "    <tr>\n",
       "      <th>Trinadad&amp;Tobago</th>\n",
       "      <td>13</td>\n",
       "      <td>223127</td>\n",
       "      <td>143818</td>\n",
       "      <td>122975</td>\n",
       "      <td>137421</td>\n",
       "      <td>170324</td>\n",
       "      <td>237811</td>\n",
       "      <td>659273</td>\n",
       "    </tr>\n",
       "    <tr>\n",
       "      <th>United-States</th>\n",
       "      <td>26301</td>\n",
       "      <td>187042</td>\n",
       "      <td>105415</td>\n",
       "      <td>13769</td>\n",
       "      <td>115420</td>\n",
       "      <td>176458</td>\n",
       "      <td>234542</td>\n",
       "      <td>1490400</td>\n",
       "    </tr>\n",
       "    <tr>\n",
       "      <th>Vietnam</th>\n",
       "      <td>50</td>\n",
       "      <td>177902</td>\n",
       "      <td>73878</td>\n",
       "      <td>52028</td>\n",
       "      <td>134762</td>\n",
       "      <td>156309</td>\n",
       "      <td>235306</td>\n",
       "      <td>339025</td>\n",
       "    </tr>\n",
       "    <tr>\n",
       "      <th>Yugoslavia</th>\n",
       "      <td>13</td>\n",
       "      <td>241003</td>\n",
       "      <td>133119</td>\n",
       "      <td>81280</td>\n",
       "      <td>160631</td>\n",
       "      <td>179479</td>\n",
       "      <td>324629</td>\n",
       "      <td>557349</td>\n",
       "    </tr>\n",
       "  </tbody>\n",
       "</table>\n",
       "</div>"
      ],
      "text/plain": [
       "                            fnlwgt                                            \\\n",
       "                             count   mean    std    min    25%    50%    75%   \n",
       "native-country                                                                 \n",
       " ?                             495 193049  91679  25806 133923 179048 227332   \n",
       " Cambodia                       19 212084  92452  63685 125790 228608 276874   \n",
       " Canada                        111 181747  97964  28221 102434 187355 221166   \n",
       " China                          68 182983  96225  25806 100079 161942 257485   \n",
       " Columbia                       53 205137  81085  89419 161857 195023 242987   \n",
       " Cuba                           94 239496  66723  48853 213592 236758 276182   \n",
       " Dominican-Republic             61 192701  63859  44159 145041 188507 230315   \n",
       " Ecuador                        21 160031  48066  61298 132327 153805 173534   \n",
       " El-Salvador                    96 259622 150825  39581 176227 226607 324106   \n",
       " England                        75 190709 102432  19302 109992 181132 246786   \n",
       " France                         20 194623  96960  59829 129296 177165 197630   \n",
       " Germany                       124 206154  99459  19302 134947 192108 265123   \n",
       " Greece                         25 149437  47668  62539 110015 156877 184762   \n",
       " Guatemala                      51 266011 132210  94826 175942 216937 350624   \n",
       " Haiti                          51 214193  67638  82285 169324 216116 256241   \n",
       " Holand-Netherlands              1  27882    NaN  27882  27882  27882  27882   \n",
       " Honduras                       11 275396  75827 136982 243608 261943 302675   \n",
       " Hong                           19 217175  89468 109996 150358 166386 302968   \n",
       " Hungary                        12 210656 103039 114263 137966 173752 255448   \n",
       " India                          90 164487  87865  23510 117355 144468 176913   \n",
       " Iran                           38 188036  82680  35864 140748 181522 213765   \n",
       " Ireland                        23 143525  63258  63437 112306 131608 159442   \n",
       " Italy                          60 185759  96219  37913 123141 170750 215985   \n",
       " Jamaica                        68 216623  68727  34532 174346 214784 256462   \n",
       " Japan                          54 201441 124194  29807  87960 162618 302509   \n",
       " Laos                           13 230065  99832  90688 138537 269042 303296   \n",
       " Mexico                        579 278454 108054  56121 210970 252327 346734   \n",
       " Nicaragua                      28 280829 129578 111520 196492 259294 297229   \n",
       " Outlying-US(Guam-USVI-etc)     15 209699  82132  90907 162537 218136 255116   \n",
       " Peru                           25 262419 129364 130513 171231 240612 280422   \n",
       " Philippines                   178 174074  95894  14878  87182 161513 230959   \n",
       " Poland                         53 181947  59529  98611 141807 172571 214242   \n",
       " Portugal                       43 153838 102996  60668  83179 111746 180996   \n",
       " Puerto-Rico                   117 204765  77353  26668 160837 195813 234994   \n",
       " Scotland                        9 157634  93635  71046 105788 132304 182217   \n",
       " South                          74 170535  85995  20469 122955 152911 211943   \n",
       " Taiwan                         39 177507  75441  27494 127065 166386 202062   \n",
       " Thailand                       15 173239  58414  94214 128290 171968 190798   \n",
       " Trinadad&Tobago                13 223127 143818 122975 137421 170324 237811   \n",
       " United-States               26301 187042 105415  13769 115420 176458 234542   \n",
       " Vietnam                        50 177902  73878  52028 134762 156309 235306   \n",
       " Yugoslavia                     13 241003 133119  81280 160631 179479 324629   \n",
       "\n",
       "                                     \n",
       "                                max  \n",
       "native-country                       \n",
       " ?                           609789  \n",
       " Cambodia                    355856  \n",
       " Canada                      505365  \n",
       " China                       399246  \n",
       " Columbia                    597843  \n",
       " Cuba                        505119  \n",
       " Dominican-Republic          331875  \n",
       " Ecuador                     264351  \n",
       " El-Salvador                 795830  \n",
       " England                     440138  \n",
       " France                      493689  \n",
       " Germany                     606111  \n",
       " Greece                      231818  \n",
       " Guatemala                   587310  \n",
       " Haiti                       418640  \n",
       " Holand-Netherlands           27882  \n",
       " Honduras                    411587  \n",
       " Hong                        370675  \n",
       " Hungary                     444725  \n",
       " India                       588739  \n",
       " Iran                        454508  \n",
       " Ireland                     390746  \n",
       " Italy                       573583  \n",
       " Jamaica                     401623  \n",
       " Japan                       586657  \n",
       " Laos                        350979  \n",
       " Mexico                      657397  \n",
       " Nicaragua                   615893  \n",
       " Outlying-US(Guam-USVI-etc)  412435  \n",
       " Peru                        655066  \n",
       " Philippines                 554206  \n",
       " Poland                      356838  \n",
       " Portugal                    424934  \n",
       " Puerto-Rico                 538319  \n",
       " Scotland                    387468  \n",
       " South                       565769  \n",
       " Taiwan                      348986  \n",
       " Thailand                    302945  \n",
       " Trinadad&Tobago             659273  \n",
       " United-States              1490400  \n",
       " Vietnam                     339025  \n",
       " Yugoslavia                  557349  "
      ]
     },
     "execution_count": 7,
     "metadata": {},
     "output_type": "execute_result"
    }
   ],
   "source": [
    "train[['fnlwgt', 'native-country']].groupby(by='native-country').describe()"
   ]
  },
  {
   "cell_type": "markdown",
   "id": "8b651254",
   "metadata": {},
   "source": [
    "<hr style=\"background-color: red; height: 2px\">\n",
    "\n",
    "> 즉, fnlwgt도출을 위해 \n",
    "    >> 1. 16살 초과인 인구 제어 <span style=\"text-decoration: underline; color:red\">이미 처리 되잇음</span>\n",
    "    >> 2. 히스패닉인구의 나이 및 성별 별로 나뉜 제어 데이터 <span style=\"text-decoration: underline; color:red\">(**주의**)라티노가 아님, 히스패닉임</span>\n",
    "    >> 3. 단순히 인구, 성별, 나이로 나뉜 제어 데이터\n",
    "\n",
    "> 를 사용했구만?\n",
    "\n",
    "> My insight1 : group by와 bool indexing, binning, 컬럼 연산을 통한 2번 컬럼 추가가 필요한 듯 함\n",
    "\n",
    "> My insight2 : 마지막으로 fnlwgt는 커스텀 수식으로 만들어진 비빔밥이므로 2번 컬럼 생성 후, correlation 비교 해서 의미 해석 후 버릴지 keep 할지 결정\n",
    "\n",
    "> 18 submission later ..... : fnlwgt는 구간별로 비닝해야하는 것 같다 ...\n",
    "\n",
    "> 느낀점 : 이게 SQL이여 ML이여 허허허흫\n",
    "\n",
    "<hr style=\"background-color: red; height: 2px\">"
   ]
  },
  {
   "cell_type": "code",
   "execution_count": 8,
   "id": "154fba0e",
   "metadata": {
    "ExecuteTime": {
     "end_time": "2023-05-31T07:00:13.243217Z",
     "start_time": "2023-05-31T07:00:13.197154Z"
    }
   },
   "outputs": [
    {
     "name": "stdout",
     "output_type": "stream",
     "text": [
      "<class 'pandas.core.frame.DataFrame'>\n",
      "RangeIndex: 29305 entries, 0 to 29304\n",
      "Data columns (total 16 columns):\n",
      " #   Column          Non-Null Count  Dtype \n",
      "---  ------          --------------  ----- \n",
      " 0   no              29305 non-null  int64 \n",
      " 1   age             29305 non-null  int64 \n",
      " 2   workclass       29305 non-null  object\n",
      " 3   fnlwgt          29305 non-null  int64 \n",
      " 4   education       29305 non-null  object\n",
      " 5   education-num   29305 non-null  int64 \n",
      " 6   marital-status  29305 non-null  object\n",
      " 7   occupation      29305 non-null  object\n",
      " 8   relationship    29305 non-null  object\n",
      " 9   race            29305 non-null  object\n",
      " 10  sex             29305 non-null  object\n",
      " 11  capital-gain    29305 non-null  int64 \n",
      " 12  capital-loss    29305 non-null  int64 \n",
      " 13  hours-per-week  29305 non-null  int64 \n",
      " 14  native-country  29305 non-null  object\n",
      " 15  income          29305 non-null  int64 \n",
      "dtypes: int64(8), object(8)\n",
      "memory usage: 3.6+ MB\n"
     ]
    }
   ],
   "source": [
    "train.info()"
   ]
  },
  {
   "cell_type": "code",
   "execution_count": 9,
   "id": "b44a0a6f",
   "metadata": {
    "ExecuteTime": {
     "end_time": "2023-05-31T07:00:13.289554Z",
     "start_time": "2023-05-31T07:00:13.245212Z"
    }
   },
   "outputs": [
    {
     "name": "stdout",
     "output_type": "stream",
     "text": [
      "<class 'pandas.core.frame.DataFrame'>\n",
      "RangeIndex: 19537 entries, 0 to 19536\n",
      "Data columns (total 15 columns):\n",
      " #   Column          Non-Null Count  Dtype \n",
      "---  ------          --------------  ----- \n",
      " 0   no              19537 non-null  int64 \n",
      " 1   age             19537 non-null  int64 \n",
      " 2   workclass       19537 non-null  object\n",
      " 3   fnlwgt          19537 non-null  int64 \n",
      " 4   education       19537 non-null  object\n",
      " 5   education-num   19537 non-null  int64 \n",
      " 6   marital-status  19537 non-null  object\n",
      " 7   occupation      19537 non-null  object\n",
      " 8   relationship    19537 non-null  object\n",
      " 9   race            19537 non-null  object\n",
      " 10  sex             19537 non-null  object\n",
      " 11  capital-gain    19537 non-null  int64 \n",
      " 12  capital-loss    19537 non-null  int64 \n",
      " 13  hours-per-week  19537 non-null  int64 \n",
      " 14  native-country  19537 non-null  object\n",
      "dtypes: int64(7), object(8)\n",
      "memory usage: 2.2+ MB\n"
     ]
    }
   ],
   "source": [
    "test.info()"
   ]
  },
  {
   "cell_type": "markdown",
   "id": "fc9ecc3a",
   "metadata": {},
   "source": [
    "<hr style=\"background-color: red; height: 2px\">\n",
    "\n",
    "> TARGET : INCOME COLUMN (1, 0)\n",
    "\n",
    "<hr style=\"background-color: red; height: 2px\">"
   ]
  },
  {
   "cell_type": "markdown",
   "id": "9707da49",
   "metadata": {},
   "source": [
    "# 전처리\n",
    "    - NaN은 없는데\n",
    "    - 스페이스, 물음표 있음\n",
    "    - 테스트 조회용 데이터프레임 보존"
   ]
  },
  {
   "cell_type": "code",
   "execution_count": 10,
   "id": "871d09f9",
   "metadata": {
    "ExecuteTime": {
     "end_time": "2023-05-31T07:00:13.305542Z",
     "start_time": "2023-05-31T07:00:13.293517Z"
    }
   },
   "outputs": [],
   "source": [
    "#### 인덱스 컬럼 제거\n",
    "train.drop('no', axis=1, inplace=True)"
   ]
  },
  {
   "cell_type": "code",
   "execution_count": 11,
   "id": "26278f28",
   "metadata": {
    "ExecuteTime": {
     "end_time": "2023-05-31T07:00:13.321404Z",
     "start_time": "2023-05-31T07:00:13.307513Z"
    }
   },
   "outputs": [],
   "source": [
    "#### 인덱스 컬럼 제거\n",
    "test.drop('no', axis=1, inplace=True)"
   ]
  },
  {
   "cell_type": "code",
   "execution_count": 12,
   "id": "775e0600",
   "metadata": {
    "ExecuteTime": {
     "end_time": "2023-05-31T07:00:13.337306Z",
     "start_time": "2023-05-31T07:00:13.323369Z"
    }
   },
   "outputs": [],
   "source": [
    "#### X y 분할\n",
    "X_train = train.drop('income', axis=1)\n",
    "y_train = train['income']"
   ]
  },
  {
   "cell_type": "code",
   "execution_count": 13,
   "id": "1fa5901a",
   "metadata": {
    "ExecuteTime": {
     "end_time": "2023-05-31T07:00:13.353244Z",
     "start_time": "2023-05-31T07:00:13.338304Z"
    }
   },
   "outputs": [],
   "source": [
    "X_test = test"
   ]
  },
  {
   "cell_type": "code",
   "execution_count": 14,
   "id": "c95d517b",
   "metadata": {
    "ExecuteTime": {
     "end_time": "2023-05-31T07:00:13.384197Z",
     "start_time": "2023-05-31T07:00:13.355239Z"
    }
   },
   "outputs": [
    {
     "data": {
      "text/html": [
       "<div>\n",
       "<style scoped>\n",
       "    .dataframe tbody tr th:only-of-type {\n",
       "        vertical-align: middle;\n",
       "    }\n",
       "\n",
       "    .dataframe tbody tr th {\n",
       "        vertical-align: top;\n",
       "    }\n",
       "\n",
       "    .dataframe thead th {\n",
       "        text-align: right;\n",
       "    }\n",
       "</style>\n",
       "<table border=\"1\" class=\"dataframe\">\n",
       "  <thead>\n",
       "    <tr style=\"text-align: right;\">\n",
       "      <th></th>\n",
       "      <th>age</th>\n",
       "      <th>fnlwgt</th>\n",
       "      <th>education-num</th>\n",
       "      <th>capital-gain</th>\n",
       "      <th>capital-loss</th>\n",
       "      <th>hours-per-week</th>\n",
       "    </tr>\n",
       "  </thead>\n",
       "  <tbody>\n",
       "    <tr>\n",
       "      <th>count</th>\n",
       "      <td>29305</td>\n",
       "      <td>29305</td>\n",
       "      <td>29305</td>\n",
       "      <td>29305</td>\n",
       "      <td>29305</td>\n",
       "      <td>29305</td>\n",
       "    </tr>\n",
       "    <tr>\n",
       "      <th>mean</th>\n",
       "      <td>39</td>\n",
       "      <td>189736</td>\n",
       "      <td>10</td>\n",
       "      <td>1085</td>\n",
       "      <td>87</td>\n",
       "      <td>40</td>\n",
       "    </tr>\n",
       "    <tr>\n",
       "      <th>std</th>\n",
       "      <td>14</td>\n",
       "      <td>105635</td>\n",
       "      <td>3</td>\n",
       "      <td>7496</td>\n",
       "      <td>401</td>\n",
       "      <td>12</td>\n",
       "    </tr>\n",
       "    <tr>\n",
       "      <th>min</th>\n",
       "      <td>17</td>\n",
       "      <td>13769</td>\n",
       "      <td>1</td>\n",
       "      <td>0</td>\n",
       "      <td>0</td>\n",
       "      <td>1</td>\n",
       "    </tr>\n",
       "    <tr>\n",
       "      <th>25%</th>\n",
       "      <td>28</td>\n",
       "      <td>117606</td>\n",
       "      <td>9</td>\n",
       "      <td>0</td>\n",
       "      <td>0</td>\n",
       "      <td>40</td>\n",
       "    </tr>\n",
       "    <tr>\n",
       "      <th>50%</th>\n",
       "      <td>37</td>\n",
       "      <td>177955</td>\n",
       "      <td>10</td>\n",
       "      <td>0</td>\n",
       "      <td>0</td>\n",
       "      <td>40</td>\n",
       "    </tr>\n",
       "    <tr>\n",
       "      <th>75%</th>\n",
       "      <td>48</td>\n",
       "      <td>237713</td>\n",
       "      <td>12</td>\n",
       "      <td>0</td>\n",
       "      <td>0</td>\n",
       "      <td>45</td>\n",
       "    </tr>\n",
       "    <tr>\n",
       "      <th>max</th>\n",
       "      <td>90</td>\n",
       "      <td>1490400</td>\n",
       "      <td>16</td>\n",
       "      <td>99999</td>\n",
       "      <td>4356</td>\n",
       "      <td>99</td>\n",
       "    </tr>\n",
       "  </tbody>\n",
       "</table>\n",
       "</div>"
      ],
      "text/plain": [
       "        age  fnlwgt  education-num  capital-gain  capital-loss  hours-per-week\n",
       "count 29305   29305          29305         29305         29305           29305\n",
       "mean     39  189736             10          1085            87              40\n",
       "std      14  105635              3          7496           401              12\n",
       "min      17   13769              1             0             0               1\n",
       "25%      28  117606              9             0             0              40\n",
       "50%      37  177955             10             0             0              40\n",
       "75%      48  237713             12             0             0              45\n",
       "max      90 1490400             16         99999          4356              99"
      ]
     },
     "execution_count": 14,
     "metadata": {},
     "output_type": "execute_result"
    }
   ],
   "source": [
    "X_train.describe()"
   ]
  },
  {
   "cell_type": "code",
   "execution_count": 15,
   "id": "07037ca6",
   "metadata": {
    "ExecuteTime": {
     "end_time": "2023-05-31T07:00:13.415016Z",
     "start_time": "2023-05-31T07:00:13.386190Z"
    }
   },
   "outputs": [
    {
     "data": {
      "text/html": [
       "<div>\n",
       "<style scoped>\n",
       "    .dataframe tbody tr th:only-of-type {\n",
       "        vertical-align: middle;\n",
       "    }\n",
       "\n",
       "    .dataframe tbody tr th {\n",
       "        vertical-align: top;\n",
       "    }\n",
       "\n",
       "    .dataframe thead th {\n",
       "        text-align: right;\n",
       "    }\n",
       "</style>\n",
       "<table border=\"1\" class=\"dataframe\">\n",
       "  <thead>\n",
       "    <tr style=\"text-align: right;\">\n",
       "      <th></th>\n",
       "      <th>age</th>\n",
       "      <th>fnlwgt</th>\n",
       "      <th>education-num</th>\n",
       "      <th>capital-gain</th>\n",
       "      <th>capital-loss</th>\n",
       "      <th>hours-per-week</th>\n",
       "      <th>income</th>\n",
       "    </tr>\n",
       "  </thead>\n",
       "  <tbody>\n",
       "    <tr>\n",
       "      <th>age</th>\n",
       "      <td>1</td>\n",
       "      <td>-0</td>\n",
       "      <td>0</td>\n",
       "      <td>0</td>\n",
       "      <td>0</td>\n",
       "      <td>0</td>\n",
       "      <td>0</td>\n",
       "    </tr>\n",
       "    <tr>\n",
       "      <th>fnlwgt</th>\n",
       "      <td>-0</td>\n",
       "      <td>1</td>\n",
       "      <td>-0</td>\n",
       "      <td>-0</td>\n",
       "      <td>-0</td>\n",
       "      <td>-0</td>\n",
       "      <td>-0</td>\n",
       "    </tr>\n",
       "    <tr>\n",
       "      <th>education-num</th>\n",
       "      <td>0</td>\n",
       "      <td>-0</td>\n",
       "      <td>1</td>\n",
       "      <td>0</td>\n",
       "      <td>0</td>\n",
       "      <td>0</td>\n",
       "      <td>0</td>\n",
       "    </tr>\n",
       "    <tr>\n",
       "      <th>capital-gain</th>\n",
       "      <td>0</td>\n",
       "      <td>-0</td>\n",
       "      <td>0</td>\n",
       "      <td>1</td>\n",
       "      <td>-0</td>\n",
       "      <td>0</td>\n",
       "      <td>0</td>\n",
       "    </tr>\n",
       "    <tr>\n",
       "      <th>capital-loss</th>\n",
       "      <td>0</td>\n",
       "      <td>-0</td>\n",
       "      <td>0</td>\n",
       "      <td>-0</td>\n",
       "      <td>1</td>\n",
       "      <td>0</td>\n",
       "      <td>0</td>\n",
       "    </tr>\n",
       "    <tr>\n",
       "      <th>hours-per-week</th>\n",
       "      <td>0</td>\n",
       "      <td>-0</td>\n",
       "      <td>0</td>\n",
       "      <td>0</td>\n",
       "      <td>0</td>\n",
       "      <td>1</td>\n",
       "      <td>0</td>\n",
       "    </tr>\n",
       "    <tr>\n",
       "      <th>income</th>\n",
       "      <td>0</td>\n",
       "      <td>-0</td>\n",
       "      <td>0</td>\n",
       "      <td>0</td>\n",
       "      <td>0</td>\n",
       "      <td>0</td>\n",
       "      <td>1</td>\n",
       "    </tr>\n",
       "  </tbody>\n",
       "</table>\n",
       "</div>"
      ],
      "text/plain": [
       "                age  fnlwgt  education-num  capital-gain  capital-loss  \\\n",
       "age               1      -0              0             0             0   \n",
       "fnlwgt           -0       1             -0            -0            -0   \n",
       "education-num     0      -0              1             0             0   \n",
       "capital-gain      0      -0              0             1            -0   \n",
       "capital-loss      0      -0              0            -0             1   \n",
       "hours-per-week    0      -0              0             0             0   \n",
       "income            0      -0              0             0             0   \n",
       "\n",
       "                hours-per-week  income  \n",
       "age                          0       0  \n",
       "fnlwgt                      -0      -0  \n",
       "education-num                0       0  \n",
       "capital-gain                 0       0  \n",
       "capital-loss                 0       0  \n",
       "hours-per-week               1       0  \n",
       "income                       0       1  "
      ]
     },
     "execution_count": 15,
     "metadata": {},
     "output_type": "execute_result"
    }
   ],
   "source": [
    "#### train은 income과의 correlation 비교용으로 사용할거임 > 실험 후 X_train과 X_test에 적용\n",
    "train.corr()"
   ]
  },
  {
   "cell_type": "markdown",
   "id": "31bb157d",
   "metadata": {
    "ExecuteTime": {
     "end_time": "2023-05-24T07:43:14.797410Z",
     "start_time": "2023-05-24T07:43:14.775272Z"
    }
   },
   "source": [
    "<hr style=\"background-color: red; height: 2px\">   \n",
    "   \n",
    "   - TODO(includes ' ?') : workclass, country, occupation \n",
    "   - includes \\'&nbsp\\' placed at heads : ALL THE COLUMNS\n",
    "\n",
    "<hr style=\"background-color: red; height: 2px\">"
   ]
  },
  {
   "cell_type": "code",
   "execution_count": 16,
   "id": "65904274",
   "metadata": {
    "ExecuteTime": {
     "end_time": "2023-05-31T07:00:13.431063Z",
     "start_time": "2023-05-31T07:00:13.417013Z"
    }
   },
   "outputs": [
    {
     "name": "stdout",
     "output_type": "stream",
     "text": [
      "object\n"
     ]
    }
   ],
   "source": [
    "#### 컬럼 dtype 확인\n",
    "print(np.dtype(train['native-country']))"
   ]
  },
  {
   "cell_type": "markdown",
   "id": "353613d4",
   "metadata": {},
   "source": [
    " <hr style=\"background-color: red; height: 2px\">\n",
    " \n",
    "    - 스페이스 제거\n",
    " \n",
    " <hr style=\"background-color: red; height: 2px\">"
   ]
  },
  {
   "cell_type": "code",
   "execution_count": 17,
   "id": "c5b86f27",
   "metadata": {
    "ExecuteTime": {
     "end_time": "2023-05-31T07:00:13.524034Z",
     "start_time": "2023-05-31T07:00:13.433140Z"
    }
   },
   "outputs": [],
   "source": [
    "X_train.columns\n",
    "X_train.shape[0]\n",
    "for i in range(len(X_train.columns)):\n",
    "    if np.dtype(X_train[X_train.columns[i]]) == 'object':\n",
    "        X_train[X_train.columns[i]] = X_train[X_train.columns[i]].str.strip()"
   ]
  },
  {
   "cell_type": "code",
   "execution_count": 18,
   "id": "d1b288fd",
   "metadata": {
    "ExecuteTime": {
     "end_time": "2023-05-31T07:00:13.602247Z",
     "start_time": "2023-05-31T07:00:13.526026Z"
    }
   },
   "outputs": [],
   "source": [
    "for i in range(len(X_test.columns)):\n",
    "    if np.dtype(X_test[X_test.columns[i]]) == 'object':\n",
    "        X_test[X_test.columns[i]] = X_test[X_test.columns[i]].str.strip()"
   ]
  },
  {
   "cell_type": "markdown",
   "id": "96d53f8c",
   "metadata": {},
   "source": [
    "<hr style=\"background-color: red; height: 2px\">\n",
    "\n",
    "> 편의를 위해 train도 스페이스 제거\n",
    "\n",
    "<hr style=\"background-color: red; height: 2px\">"
   ]
  },
  {
   "cell_type": "code",
   "execution_count": 19,
   "id": "5eb9f0a4",
   "metadata": {
    "ExecuteTime": {
     "end_time": "2023-05-31T07:00:13.665214Z",
     "start_time": "2023-05-31T07:00:13.604218Z"
    }
   },
   "outputs": [],
   "source": [
    "for i in range(len(test.columns)):\n",
    "    if np.dtype(test[test.columns[i]]) == 'object':\n",
    "        test[test.columns[i]] = test[test.columns[i]].str.strip()"
   ]
  },
  {
   "cell_type": "code",
   "execution_count": 20,
   "id": "c3d9593f",
   "metadata": {
    "ExecuteTime": {
     "end_time": "2023-05-31T07:00:13.758171Z",
     "start_time": "2023-05-31T07:00:13.667208Z"
    }
   },
   "outputs": [],
   "source": [
    "for i in range(len(train.columns)):\n",
    "    if np.dtype(train[train.columns[i]]) == 'object':\n",
    "        train[train.columns[i]] = train[train.columns[i]].str.strip()"
   ]
  },
  {
   "cell_type": "markdown",
   "id": "c7d70dd4",
   "metadata": {},
   "source": [
    "# EDA - E : 엥? D: ㄷㄷ A: 아...\n",
    "    - EDA - 전처리 반복 진행 함"
   ]
  },
  {
   "cell_type": "markdown",
   "id": "6690cc24",
   "metadata": {},
   "source": [
    "## 'relationship' 컬럼"
   ]
  },
  {
   "cell_type": "code",
   "execution_count": 21,
   "id": "78221581",
   "metadata": {
    "ExecuteTime": {
     "end_time": "2023-05-31T07:00:13.992241Z",
     "start_time": "2023-05-31T07:00:13.760165Z"
    },
    "scrolled": false
   },
   "outputs": [
    {
     "data": {
      "image/png": "[encoded data removed]",
      "text/plain": [
       "<Figure size 1600x700 with 1 Axes>"
      ]
     },
     "metadata": {},
     "output_type": "display_data"
    }
   ],
   "source": [
    "# 컬럼들 슼핸중\n",
    "X_train['relationship'].unique()\n",
    "plt.figure(figsize=(16,7))\n",
    "seaborn.countplot(data=train, x='relationship', hue='income')\n",
    "plt.show()\n",
    "## 가족이 있다 vs 혼자 로 나눌거임"
   ]
  },
  {
   "cell_type": "markdown",
   "id": "8e96b861",
   "metadata": {},
   "source": [
    "## 'education' 컬럼"
   ]
  },
  {
   "cell_type": "code",
   "execution_count": 22,
   "id": "135d13fc",
   "metadata": {
    "ExecuteTime": {
     "end_time": "2023-05-31T07:00:14.023224Z",
     "start_time": "2023-05-31T07:00:13.994204Z"
    }
   },
   "outputs": [
    {
     "data": {
      "text/plain": [
       "education     education-num\n",
       "10th          6                 816\n",
       "11th          7                1057\n",
       "12th          8                 415\n",
       "1st-4th       2                 148\n",
       "5th-6th       3                 334\n",
       "7th-8th       4                 574\n",
       "9th           5                 430\n",
       "Assoc-acdm    12                980\n",
       "Assoc-voc     11               1230\n",
       "Bachelors     13               4848\n",
       "Doctorate     16                347\n",
       "HS-grad       9                9435\n",
       "Masters       14               1587\n",
       "Preschool     1                  46\n",
       "Prof-school   15                500\n",
       "Some-college  10               6558\n",
       "dtype: int64"
      ]
     },
     "execution_count": 22,
     "metadata": {},
     "output_type": "execute_result"
    }
   ],
   "source": [
    "# education 컬럼 지워도 댈지 쓰윽봐보오자\n",
    "X_train[['education', 'education-num']].groupby(by='education').value_counts()"
   ]
  },
  {
   "cell_type": "markdown",
   "id": "7dfbf77f",
   "metadata": {},
   "source": [
    "<hr style=\"background-color: red; height: 2px\">\n",
    "    \n",
    "    - CONCLUSION : DROP 'education' ; DUE TO THE DIRECT CORRELATION TO THE 'education-num' COLUMN\n",
    "    - 저학력은 숫자 낮고 고학력은 높당꼐\n",
    "    - 순서 : PRE-SCHOOL > 1ST~4TH ... ... ... MASTER > DOCTORATE\n",
    "    - 고로 EDUCATION-NUM과 중복 컬럼이라고 간주\n",
    "    - 지울거임 ㅇㅇ\n",
    "    \n",
    "<hr style=\"background-color: red; height: 2px\">"
   ]
  },
  {
   "cell_type": "code",
   "execution_count": 23,
   "id": "dce7ebd2",
   "metadata": {
    "ExecuteTime": {
     "end_time": "2023-05-31T07:00:14.039186Z",
     "start_time": "2023-05-31T07:00:14.025219Z"
    }
   },
   "outputs": [],
   "source": [
    "X_train.drop('education', axis=1, inplace=True)"
   ]
  },
  {
   "cell_type": "code",
   "execution_count": 24,
   "id": "15fbf27f",
   "metadata": {
    "ExecuteTime": {
     "end_time": "2023-05-31T07:00:14.055178Z",
     "start_time": "2023-05-31T07:00:14.041193Z"
    }
   },
   "outputs": [],
   "source": [
    "X_test.drop('education', axis=1, inplace=True)"
   ]
  },
  {
   "cell_type": "code",
   "execution_count": 25,
   "id": "d6ff4b3b",
   "metadata": {
    "ExecuteTime": {
     "end_time": "2023-05-31T07:00:14.086133Z",
     "start_time": "2023-05-31T07:00:14.057150Z"
    }
   },
   "outputs": [
    {
     "data": {
      "text/html": [
       "<div>\n",
       "<style scoped>\n",
       "    .dataframe tbody tr th:only-of-type {\n",
       "        vertical-align: middle;\n",
       "    }\n",
       "\n",
       "    .dataframe tbody tr th {\n",
       "        vertical-align: top;\n",
       "    }\n",
       "\n",
       "    .dataframe thead th {\n",
       "        text-align: right;\n",
       "    }\n",
       "</style>\n",
       "<table border=\"1\" class=\"dataframe\">\n",
       "  <thead>\n",
       "    <tr style=\"text-align: right;\">\n",
       "      <th></th>\n",
       "      <th>age</th>\n",
       "      <th>fnlwgt</th>\n",
       "      <th>education-num</th>\n",
       "      <th>capital-gain</th>\n",
       "      <th>capital-loss</th>\n",
       "      <th>hours-per-week</th>\n",
       "    </tr>\n",
       "  </thead>\n",
       "  <tbody>\n",
       "    <tr>\n",
       "      <th>age</th>\n",
       "      <td>1</td>\n",
       "      <td>-0</td>\n",
       "      <td>0</td>\n",
       "      <td>0</td>\n",
       "      <td>0</td>\n",
       "      <td>0</td>\n",
       "    </tr>\n",
       "    <tr>\n",
       "      <th>fnlwgt</th>\n",
       "      <td>-0</td>\n",
       "      <td>1</td>\n",
       "      <td>-0</td>\n",
       "      <td>-0</td>\n",
       "      <td>-0</td>\n",
       "      <td>-0</td>\n",
       "    </tr>\n",
       "    <tr>\n",
       "      <th>education-num</th>\n",
       "      <td>0</td>\n",
       "      <td>-0</td>\n",
       "      <td>1</td>\n",
       "      <td>0</td>\n",
       "      <td>0</td>\n",
       "      <td>0</td>\n",
       "    </tr>\n",
       "    <tr>\n",
       "      <th>capital-gain</th>\n",
       "      <td>0</td>\n",
       "      <td>-0</td>\n",
       "      <td>0</td>\n",
       "      <td>1</td>\n",
       "      <td>-0</td>\n",
       "      <td>0</td>\n",
       "    </tr>\n",
       "    <tr>\n",
       "      <th>capital-loss</th>\n",
       "      <td>0</td>\n",
       "      <td>-0</td>\n",
       "      <td>0</td>\n",
       "      <td>-0</td>\n",
       "      <td>1</td>\n",
       "      <td>0</td>\n",
       "    </tr>\n",
       "    <tr>\n",
       "      <th>hours-per-week</th>\n",
       "      <td>0</td>\n",
       "      <td>-0</td>\n",
       "      <td>0</td>\n",
       "      <td>0</td>\n",
       "      <td>0</td>\n",
       "      <td>1</td>\n",
       "    </tr>\n",
       "  </tbody>\n",
       "</table>\n",
       "</div>"
      ],
      "text/plain": [
       "                age  fnlwgt  education-num  capital-gain  capital-loss  \\\n",
       "age               1      -0              0             0             0   \n",
       "fnlwgt           -0       1             -0            -0            -0   \n",
       "education-num     0      -0              1             0             0   \n",
       "capital-gain      0      -0              0             1            -0   \n",
       "capital-loss      0      -0              0            -0             1   \n",
       "hours-per-week    0      -0              0             0             0   \n",
       "\n",
       "                hours-per-week  \n",
       "age                          0  \n",
       "fnlwgt                      -0  \n",
       "education-num                0  \n",
       "capital-gain                 0  \n",
       "capital-loss                 0  \n",
       "hours-per-week               1  "
      ]
     },
     "execution_count": 25,
     "metadata": {},
     "output_type": "execute_result"
    }
   ],
   "source": [
    "X_train.corr()"
   ]
  },
  {
   "cell_type": "markdown",
   "id": "d1a58ffb",
   "metadata": {},
   "source": [
    "<hr style=\"background-color: red; height: 2px\">\n",
    "<hr style=\"background-color: red; height: 2px\">\n",
    "<hr style=\"background-color: red; height: 2px\">\n",
    "\n",
    "      - THOSE THAT HAVE '?' IN THEM\n",
    "      \n",
    "      - (결국 Feature engineering으로 컬럼들 단순화 진행했으나 일기 쓴거 일단 남겨뒀음)\n",
    "      \n",
    "      - ? 값 처리 위해 describe 조회\n",
    "<hr style=\"background-color: red; height: 2px\">\n",
    "<hr style=\"background-color: red; height: 2px\">\n",
    "<hr style=\"background-color: red; height: 2px\">"
   ]
  },
  {
   "cell_type": "markdown",
   "id": "f1d37509",
   "metadata": {},
   "source": [
    "<hr style=\"background-color:green; height:2px\">\n",
    "<hr style=\"background-color:green; height:2px\">\n",
    "<hr style=\"background-color:green; height:2px\">"
   ]
  },
  {
   "cell_type": "markdown",
   "id": "b07d4dc0",
   "metadata": {},
   "source": [
    "## 'workclass' - 'race' - 'native-country' 의 '?'에 대한 값 분석"
   ]
  },
  {
   "cell_type": "code",
   "execution_count": 26,
   "id": "2498590f",
   "metadata": {
    "ExecuteTime": {
     "end_time": "2023-05-31T07:00:14.101196Z",
     "start_time": "2023-05-31T07:00:14.088130Z"
    }
   },
   "outputs": [
    {
     "data": {
      "text/plain": [
       "19       ?\n",
       "20       ?\n",
       "24       ?\n",
       "37       ?\n",
       "47       ?\n",
       "        ..\n",
       "29244    ?\n",
       "29247    ?\n",
       "29280    ?\n",
       "29286    ?\n",
       "29304    ?\n",
       "Name: workclass, Length: 1663, dtype: object"
      ]
     },
     "execution_count": 26,
     "metadata": {},
     "output_type": "execute_result"
    }
   ],
   "source": [
    "X_train['workclass'][X_train['workclass']=='?']"
   ]
  },
  {
   "cell_type": "code",
   "execution_count": 27,
   "id": "91decd15",
   "metadata": {
    "ExecuteTime": {
     "end_time": "2023-05-31T07:00:14.117167Z",
     "start_time": "2023-05-31T07:00:14.103174Z"
    }
   },
   "outputs": [
    {
     "data": {
      "text/plain": [
       "count       29305\n",
       "unique          9\n",
       "top       Private\n",
       "freq        20410\n",
       "Name: workclass, dtype: object"
      ]
     },
     "execution_count": 27,
     "metadata": {},
     "output_type": "execute_result"
    }
   ],
   "source": [
    "# ?가 있는 3개 컬럼 중 workclass\n",
    "X_train['workclass'].describe()"
   ]
  },
  {
   "cell_type": "code",
   "execution_count": 28,
   "id": "824108e0",
   "metadata": {
    "ExecuteTime": {
     "end_time": "2023-05-31T07:00:14.148091Z",
     "start_time": "2023-05-31T07:00:14.125179Z"
    }
   },
   "outputs": [
    {
     "data": {
      "text/plain": [
       "19       ?\n",
       "20       ?\n",
       "24       ?\n",
       "37       ?\n",
       "47       ?\n",
       "        ..\n",
       "29244    ?\n",
       "29247    ?\n",
       "29280    ?\n",
       "29286    ?\n",
       "29304    ?\n",
       "Name: occupation, Length: 1663, dtype: object"
      ]
     },
     "execution_count": 28,
     "metadata": {},
     "output_type": "execute_result"
    }
   ],
   "source": [
    "# ?가 있는 3개 컬럼 중 occupation\n",
    "X_train['occupation'][X_train['workclass']=='?']"
   ]
  },
  {
   "cell_type": "code",
   "execution_count": 29,
   "id": "d410598b",
   "metadata": {
    "ExecuteTime": {
     "end_time": "2023-05-31T07:00:14.163224Z",
     "start_time": "2023-05-31T07:00:14.150087Z"
    }
   },
   "outputs": [
    {
     "data": {
      "text/plain": [
       "25       ?\n",
       "296      ?\n",
       "305      ?\n",
       "421      ?\n",
       "432      ?\n",
       "        ..\n",
       "28885    ?\n",
       "28953    ?\n",
       "29067    ?\n",
       "29230    ?\n",
       "29245    ?\n",
       "Name: native-country, Length: 495, dtype: object"
      ]
     },
     "execution_count": 29,
     "metadata": {},
     "output_type": "execute_result"
    }
   ],
   "source": [
    "# # ?가 있는 3개 컬럼 중 native-country\n",
    "X_train['native-country'][X_train['native-country']=='?']"
   ]
  },
  {
   "cell_type": "code",
   "execution_count": 30,
   "id": "327f363d",
   "metadata": {
    "ExecuteTime": {
     "end_time": "2023-05-31T07:00:14.194200Z",
     "start_time": "2023-05-31T07:00:14.165195Z"
    }
   },
   "outputs": [
    {
     "data": {
      "text/plain": [
       "native-country              race \n",
       "Cambodia                    White      2\n",
       "Canada                      White    109\n",
       "China                       White      2\n",
       "Columbia                    White     48\n",
       "Cuba                        White     89\n",
       "Dominican-Republic          White     37\n",
       "Ecuador                     White     14\n",
       "El-Salvador                 White     91\n",
       "England                     White     71\n",
       "France                      White     19\n",
       "Germany                     White    114\n",
       "Greece                      White     25\n",
       "Guatemala                   White     44\n",
       "Haiti                       White      1\n",
       "Holand-Netherlands          White      1\n",
       "Honduras                    White     10\n",
       "Hong                        White      2\n",
       "Hungary                     White     12\n",
       "India                       White      6\n",
       "Iran                        White     29\n",
       "Ireland                     White     23\n",
       "Italy                       White     60\n",
       "Jamaica                     White      1\n",
       "Japan                       White     17\n",
       "Mexico                      White    529\n",
       "Nicaragua                   White     20\n",
       "Outlying-US(Guam-USVI-etc)  White      6\n",
       "Peru                        White     22\n",
       "Philippines                 White      8\n",
       "Poland                      White     51\n",
       "Portugal                    White     42\n",
       "Puerto-Rico                 White     93\n",
       "Scotland                    White      8\n",
       "Taiwan                      White      2\n",
       "Thailand                    White      2\n",
       "Trinadad&Tobago             White      1\n",
       "Vietnam                     White      2\n",
       "Yugoslavia                  White     13\n",
       "dtype: int64"
      ]
     },
     "execution_count": 30,
     "metadata": {},
     "output_type": "execute_result"
    }
   ],
   "source": [
    "train[['race', 'native-country']][(train['race']=='White') & (train['native-country']!='United-States') &(train['native-country']!='?')].groupby(by='native-country').value_counts().head(50)"
   ]
  },
  {
   "cell_type": "markdown",
   "id": "00204d8c",
   "metadata": {},
   "source": [
    "   <hr style=\"background-color:red; height:2px\">\n",
    "   \n",
    "   - CONCLUSION : CAN'T BE JUDICIAL ON PEOPLE'S SKIN COLOR LOLOLOLOL\n",
    "    \n",
    "   - <span style=\"text-decoration: underline;color:red\">Income과 합쳐서 보려면 train으로 열람 함</span>\n",
    "    \n",
    "   - 피부 하얗다구 미쿠긴 아니랑꼐. VERY POLITICALLY CORRECT\n",
    "   - <span style=\"text-decoration: underline;color:green;\">Unspecified 로 처리 후 나중에 revisit 하자\n",
    "    \n",
    "<hr style=\"background-color:red; height:2px\">"
   ]
  },
  {
   "cell_type": "code",
   "execution_count": 31,
   "id": "93385648",
   "metadata": {
    "ExecuteTime": {
     "end_time": "2023-05-31T07:00:14.210187Z",
     "start_time": "2023-05-31T07:00:14.195198Z"
    },
    "scrolled": true
   },
   "outputs": [
    {
     "data": {
      "text/plain": [
       "19       ?\n",
       "20       ?\n",
       "24       ?\n",
       "37       ?\n",
       "47       ?\n",
       "        ..\n",
       "29244    ?\n",
       "29247    ?\n",
       "29280    ?\n",
       "29286    ?\n",
       "29304    ?\n",
       "Name: occupation, Length: 1668, dtype: object"
      ]
     },
     "execution_count": 31,
     "metadata": {},
     "output_type": "execute_result"
    }
   ],
   "source": [
    "X_train['occupation'][X_train['occupation']=='?']"
   ]
  },
  {
   "cell_type": "code",
   "execution_count": 32,
   "id": "3e056478",
   "metadata": {
    "ExecuteTime": {
     "end_time": "2023-05-31T07:00:14.240176Z",
     "start_time": "2023-05-31T07:00:14.212235Z"
    },
    "scrolled": true
   },
   "outputs": [
    {
     "data": {
      "text/plain": [
       "occupation    native-country              race                income\n",
       "Adm-clerical  ?                           White               0         25\n",
       "                                          Black               0         10\n",
       "                                          Asian-Pac-Islander  0          5\n",
       "                                          White               1          4\n",
       "                                          Other               0          3\n",
       "                                          Asian-Pac-Islander  1          2\n",
       "              Canada                      White               0          6\n",
       "                                                              1          2\n",
       "              China                       Asian-Pac-Islander  0          2\n",
       "              Columbia                    White               0          6\n",
       "              Cuba                        White               0         12\n",
       "                                                              1          3\n",
       "              Dominican-Republic          White               0          5\n",
       "                                          Black               0          2\n",
       "              Ecuador                     Other               0          2\n",
       "                                          White               0          1\n",
       "              El-Salvador                 White               0          3\n",
       "                                          Black               0          1\n",
       "              England                     White               0          4\n",
       "                                          Black               0          1\n",
       "              Germany                     White               0         15\n",
       "                                                              1          2\n",
       "                                          Black               0          1\n",
       "              Guatemala                   White               0          1\n",
       "              Haiti                       Black               0          4\n",
       "              Honduras                    White               0          1\n",
       "              Hong                        Asian-Pac-Islander  0          3\n",
       "              India                       Asian-Pac-Islander  0          8\n",
       "                                                              1          2\n",
       "                                          Other               0          1\n",
       "              Iran                        White               0          2\n",
       "                                                              1          1\n",
       "              Italy                       White               0          4\n",
       "                                                              1          4\n",
       "              Jamaica                     Black               0         15\n",
       "                                                              1          1\n",
       "              Japan                       Asian-Pac-Islander  0          5\n",
       "                                          White               0          3\n",
       "                                                              1          1\n",
       "              Laos                        Asian-Pac-Islander  0          2\n",
       "                                                              1          1\n",
       "              Mexico                      White               0         32\n",
       "                                          Other               1          1\n",
       "                                                              0          1\n",
       "              Nicaragua                   White               0          7\n",
       "              Outlying-US(Guam-USVI-etc)  Black               0          2\n",
       "                                          Asian-Pac-Islander  1          1\n",
       "              Philippines                 Asian-Pac-Islander  0         22\n",
       "                                                              1          8\n",
       "                                          White               1          2\n",
       "dtype: int64"
      ]
     },
     "execution_count": 32,
     "metadata": {},
     "output_type": "execute_result"
    }
   ],
   "source": [
    "train[['occupation', 'race', 'native-country', 'income']][(train['occupation']!='?')&(train['native-country']!='United-States')].groupby(by=['occupation','native-country']).value_counts().head(50)"
   ]
  },
  {
   "cell_type": "markdown",
   "id": "5ff6ed33",
   "metadata": {},
   "source": [
    "<hr style=\"background-color:red; height:2px\">\n",
    "    <ul>\n",
    "    <li>\n",
    "CONCLUSION : SAME AS ABOVE, YOU CAN'T BE TOO JUDGEMENTAL\n",
    "    </li><li>\n",
    "청소부라고 다 히스패닉이 아니다아아아아아아\n",
    "    </li><li>\n",
    "<span style=\"text-decoration: underline;color:green;\">\n",
    "결론 : 일단 세 컬럼 모두 ?는 Unspecified 처리\n",
    "    </span>\n",
    "    </li>\n",
    "    </ul>\n",
    "<hr style=\"background-color:red; height:2px\">"
   ]
  },
  {
   "cell_type": "markdown",
   "id": "30da711e",
   "metadata": {},
   "source": [
    "## '?' 값 처리"
   ]
  },
  {
   "cell_type": "code",
   "execution_count": 33,
   "id": "d3685395",
   "metadata": {
    "ExecuteTime": {
     "end_time": "2023-05-31T07:00:14.256188Z",
     "start_time": "2023-05-31T07:00:14.242227Z"
    },
    "scrolled": true
   },
   "outputs": [
    {
     "data": {
      "text/plain": [
       "United-States                 26301\n",
       "Mexico                          579\n",
       "?                               495\n",
       "Philippines                     178\n",
       "Germany                         124\n",
       "Puerto-Rico                     117\n",
       "Canada                          111\n",
       "El-Salvador                      96\n",
       "Cuba                             94\n",
       "India                            90\n",
       "England                          75\n",
       "South                            74\n",
       "Jamaica                          68\n",
       "China                            68\n",
       "Dominican-Republic               61\n",
       "Italy                            60\n",
       "Japan                            54\n",
       "Poland                           53\n",
       "Columbia                         53\n",
       "Guatemala                        51\n",
       "Haiti                            51\n",
       "Vietnam                          50\n",
       "Portugal                         43\n",
       "Taiwan                           39\n",
       "Iran                             38\n",
       "Nicaragua                        28\n",
       "Peru                             25\n",
       "Greece                           25\n",
       "Ireland                          23\n",
       "Ecuador                          21\n",
       "France                           20\n",
       "Cambodia                         19\n",
       "Hong                             19\n",
       "Thailand                         15\n",
       "Outlying-US(Guam-USVI-etc)       15\n",
       "Trinadad&Tobago                  13\n",
       "Yugoslavia                       13\n",
       "Laos                             13\n",
       "Hungary                          12\n",
       "Honduras                         11\n",
       "Scotland                          9\n",
       "Holand-Netherlands                1\n",
       "Name: native-country, dtype: int64"
      ]
     },
     "execution_count": 33,
     "metadata": {},
     "output_type": "execute_result"
    }
   ],
   "source": [
    "#train['occupation'].value_counts()\n",
    "#train['workclass'].value_counts()\n",
    "train['native-country'].value_counts()\n",
    "#일단 최빈값으로 해보자 : \n",
    "# occupation ? : Prof-specialty\n",
    "# workclass ? : Private\n",
    "# native-country ? : United-States"
   ]
  },
  {
   "cell_type": "code",
   "execution_count": 34,
   "id": "39e99573",
   "metadata": {
    "ExecuteTime": {
     "end_time": "2023-05-31T07:00:14.271245Z",
     "start_time": "2023-05-31T07:00:14.257182Z"
    }
   },
   "outputs": [
    {
     "data": {
      "text/plain": [
       "occupation  income\n",
       "?           0         1493\n",
       "            1          175\n",
       "dtype: int64"
      ]
     },
     "execution_count": 34,
     "metadata": {},
     "output_type": "execute_result"
    }
   ],
   "source": [
    "# MFV로 처리할 경우 어떤걸로 할지 조회\n",
    "train[['occupation', 'income']][train['occupation']=='?'].value_counts()"
   ]
  },
  {
   "cell_type": "code",
   "execution_count": 35,
   "id": "0b3a8ec6",
   "metadata": {
    "ExecuteTime": {
     "end_time": "2023-05-31T07:00:14.303168Z",
     "start_time": "2023-05-31T07:00:14.273245Z"
    }
   },
   "outputs": [
    {
     "data": {
      "text/plain": [
       "income  occupation       \n",
       "0       Adm-clerical         2982\n",
       "        Other-service        2846\n",
       "        Craft-repair         2812\n",
       "        Sales                2385\n",
       "        Prof-specialty       2052\n",
       "        Exec-managerial      1870\n",
       "        Machine-op-inspct    1572\n",
       "        ?                    1493\n",
       "        Handlers-cleaners    1166\n",
       "        Transport-moving     1111\n",
       "        Farming-fishing       793\n",
       "        Tech-support          619\n",
       "        Protective-serv       409\n",
       "        Priv-house-serv       143\n",
       "        Armed-Forces            7\n",
       "1       Exec-managerial      1739\n",
       "        Prof-specialty       1672\n",
       "        Sales                 907\n",
       "        Craft-repair          820\n",
       "        Adm-clerical          458\n",
       "        Transport-moving      282\n",
       "        Tech-support          246\n",
       "        Machine-op-inspct     239\n",
       "        Protective-serv       194\n",
       "        ?                     175\n",
       "        Other-service         129\n",
       "        Farming-fishing        95\n",
       "        Handlers-cleaners      83\n",
       "        Armed-Forces            3\n",
       "        Priv-house-serv         3\n",
       "dtype: int64"
      ]
     },
     "execution_count": 35,
     "metadata": {},
     "output_type": "execute_result"
    }
   ],
   "source": [
    "train[['occupation', 'income']].groupby(by='income').value_counts()\n",
    "# 이걸로 '?' 비닝 하자"
   ]
  },
  {
   "cell_type": "code",
   "execution_count": 36,
   "id": "a5fd076d",
   "metadata": {
    "ExecuteTime": {
     "end_time": "2023-05-31T07:00:14.319134Z",
     "start_time": "2023-05-31T07:00:14.305135Z"
    }
   },
   "outputs": [
    {
     "data": {
      "text/plain": [
       "occupation       \n",
       "Prof-specialty       3724\n",
       "Craft-repair         3632\n",
       "Exec-managerial      3609\n",
       "Adm-clerical         3440\n",
       "Sales                3292\n",
       "Other-service        2975\n",
       "Machine-op-inspct    1811\n",
       "?                    1668\n",
       "Transport-moving     1393\n",
       "Handlers-cleaners    1249\n",
       "Farming-fishing       888\n",
       "Tech-support          865\n",
       "Protective-serv       603\n",
       "Priv-house-serv       146\n",
       "Armed-Forces           10\n",
       "dtype: int64"
      ]
     },
     "execution_count": 36,
     "metadata": {},
     "output_type": "execute_result"
    }
   ],
   "source": [
    "train[['occupation']].value_counts()"
   ]
  },
  {
   "cell_type": "code",
   "execution_count": 37,
   "id": "e77b6955",
   "metadata": {
    "ExecuteTime": {
     "end_time": "2023-05-31T07:00:15.169101Z",
     "start_time": "2023-05-31T07:00:14.320094Z"
    },
    "scrolled": true
   },
   "outputs": [],
   "source": [
    "# 방법 1: ?를 그냥 이름만 붙여주기  # filter(lambda x: x=='?', X_train['occupation'])\n",
    "# 방법 2: ?를 MFV로 \n",
    "# 방법 3: occupation에서 1일때와 0일때의 각각 최빈값을 집어넣음\n",
    "for i in range(len(X_train['occupation'])):\n",
    "    if X_train['occupation'][i] == '?': # and train['income'][i] == 1:\n",
    "        X_train['occupation'][i] = 'Prof-specialty'\n",
    "   # else:\n",
    "    #    X_train['occupation'][i] = 'Adm-clerical'"
   ]
  },
  {
   "cell_type": "code",
   "execution_count": 38,
   "id": "530d5bb9",
   "metadata": {
    "ExecuteTime": {
     "end_time": "2023-05-31T07:00:15.200316Z",
     "start_time": "2023-05-31T07:00:15.171099Z"
    }
   },
   "outputs": [
    {
     "data": {
      "text/plain": [
       "income  workclass       \n",
       "0       Private             15932\n",
       "        Self-emp-not-inc     1662\n",
       "        ?                    1488\n",
       "        Local-gov            1309\n",
       "        State-gov             886\n",
       "        Federal-gov           527\n",
       "        Self-emp-inc          440\n",
       "        Without-pay            11\n",
       "        Never-worked            5\n",
       "1       Private              4478\n",
       "        Self-emp-not-inc      643\n",
       "        Local-gov             559\n",
       "        Self-emp-inc          547\n",
       "        Federal-gov           327\n",
       "        State-gov             315\n",
       "        ?                     175\n",
       "        Without-pay             1\n",
       "dtype: int64"
      ]
     },
     "execution_count": 38,
     "metadata": {},
     "output_type": "execute_result"
    }
   ],
   "source": [
    "train[['workclass', 'income']].groupby(by='income').value_counts()"
   ]
  },
  {
   "cell_type": "code",
   "execution_count": 39,
   "id": "3969e42f",
   "metadata": {
    "ExecuteTime": {
     "end_time": "2023-05-31T07:00:16.026303Z",
     "start_time": "2023-05-31T07:00:15.202316Z"
    }
   },
   "outputs": [],
   "source": [
    "for i in range(len(X_train['workclass'])):\n",
    "    if X_train['workclass'][i] == '?':\n",
    "        X_train['workclass'][i] = 'Private'\n",
    "# 0 과 1의 최빈값이 Private으로 같으므로 둘 다 Private으로 통일 함"
   ]
  },
  {
   "cell_type": "code",
   "execution_count": 40,
   "id": "7873ccd8",
   "metadata": {
    "ExecuteTime": {
     "end_time": "2023-05-31T07:00:16.058315Z",
     "start_time": "2023-05-31T07:00:16.028300Z"
    }
   },
   "outputs": [
    {
     "data": {
      "text/plain": [
       "income  native-country            \n",
       "0       United-States                 19834\n",
       "        Mexico                          548\n",
       "        ?                               378\n",
       "        Philippines                     128\n",
       "        Puerto-Rico                     105\n",
       "                                      ...  \n",
       "1       Honduras                          1\n",
       "        Laos                              1\n",
       "        Scotland                          1\n",
       "        Vietnam                           1\n",
       "        Outlying-US(Guam-USVI-etc)        1\n",
       "Length: 82, dtype: int64"
      ]
     },
     "execution_count": 40,
     "metadata": {},
     "output_type": "execute_result"
    }
   ],
   "source": [
    "train[['native-country', 'income']].groupby(by='income').value_counts()"
   ]
  },
  {
   "cell_type": "code",
   "execution_count": 41,
   "id": "d8373adf",
   "metadata": {
    "ExecuteTime": {
     "end_time": "2023-05-31T07:00:16.452218Z",
     "start_time": "2023-05-31T07:00:16.060311Z"
    }
   },
   "outputs": [],
   "source": [
    "for i in range(len(X_train['native-country'])):\n",
    "    if X_train['native-country'][i] == '?':\n",
    "        X_train['native-country'][i] = 'United-States'\n",
    "# 역시 미국으로 통일해도 될듯"
   ]
  },
  {
   "cell_type": "code",
   "execution_count": 42,
   "id": "ae0193dc",
   "metadata": {
    "ExecuteTime": {
     "end_time": "2023-05-31T07:00:16.483252Z",
     "start_time": "2023-05-31T07:00:16.453213Z"
    }
   },
   "outputs": [
    {
     "data": {
      "text/plain": [
       "occupation       \n",
       "Craft-repair         2480\n",
       "Exec-managerial      2477\n",
       "Prof-specialty       2448\n",
       "Sales                2212\n",
       "Adm-clerical         2171\n",
       "Other-service        1948\n",
       "Machine-op-inspct    1211\n",
       "?                    1141\n",
       "Transport-moving      962\n",
       "Handlers-cleaners     823\n",
       "Farming-fishing       602\n",
       "Tech-support          581\n",
       "Protective-serv       380\n",
       "Priv-house-serv        96\n",
       "Armed-Forces            5\n",
       "dtype: int64"
      ]
     },
     "execution_count": 42,
     "metadata": {},
     "output_type": "execute_result"
    }
   ],
   "source": [
    "test[['occupation']].value_counts()\n",
    "# test 테이블 ? 값에 넣을 최빈값 탐색"
   ]
  },
  {
   "cell_type": "code",
   "execution_count": 43,
   "id": "e800ddfb",
   "metadata": {
    "ExecuteTime": {
     "end_time": "2023-05-31T07:00:17.788937Z",
     "start_time": "2023-05-31T07:00:16.485225Z"
    }
   },
   "outputs": [],
   "source": [
    "for i in range(len(X_test['native-country'])):\n",
    "    if X_test['native-country'][i] == '?':\n",
    "        X_test['native-country'][i] = 'United-States'\n",
    "for i in range(len(X_test['workclass'])):\n",
    "    if X_test['workclass'][i] == '?':\n",
    "        X_test['workclass'][i] = 'Private'\n",
    "for i in range(len(X_test['occupation'])):\n",
    "    if X_test['occupation'][i] == '?':# and X_test['income'][i] == 1:\n",
    "        X_test['occupation'][i] = 'Craft-repair'\n",
    "   # else:\n",
    "    #    X_test['occupation'][i] = 'Adm-clerical'"
   ]
  },
  {
   "cell_type": "markdown",
   "id": "62ce7fb7",
   "metadata": {},
   "source": [
    "<hr style=\"background-color:red; height:2px\">\n",
    "\n",
    "> X - terminated lol\n",
    "\n",
    "> ? 바꾸기 끗\n",
    "\n",
    "<hr style=\"background-color:red; height:2px\">"
   ]
  },
  {
   "cell_type": "markdown",
   "id": "6809af86",
   "metadata": {},
   "source": [
    "## 'occupation'과 'workclass'의 관계 분석"
   ]
  },
  {
   "cell_type": "code",
   "execution_count": 44,
   "id": "b84ff607",
   "metadata": {
    "ExecuteTime": {
     "end_time": "2023-05-31T07:00:17.836344Z",
     "start_time": "2023-05-31T07:00:17.790932Z"
    }
   },
   "outputs": [
    {
     "name": "stdout",
     "output_type": "stream",
     "text": [
      "<class 'pandas.core.frame.DataFrame'>\n",
      "RangeIndex: 29305 entries, 0 to 29304\n",
      "Data columns (total 13 columns):\n",
      " #   Column          Non-Null Count  Dtype \n",
      "---  ------          --------------  ----- \n",
      " 0   age             29305 non-null  int64 \n",
      " 1   workclass       29305 non-null  object\n",
      " 2   fnlwgt          29305 non-null  int64 \n",
      " 3   education-num   29305 non-null  int64 \n",
      " 4   marital-status  29305 non-null  object\n",
      " 5   occupation      29305 non-null  object\n",
      " 6   relationship    29305 non-null  object\n",
      " 7   race            29305 non-null  object\n",
      " 8   sex             29305 non-null  object\n",
      " 9   capital-gain    29305 non-null  int64 \n",
      " 10  capital-loss    29305 non-null  int64 \n",
      " 11  hours-per-week  29305 non-null  int64 \n",
      " 12  native-country  29305 non-null  object\n",
      "dtypes: int64(6), object(7)\n",
      "memory usage: 2.9+ MB\n"
     ]
    }
   ],
   "source": [
    "##### occupation & workclass 비교\n",
    "X_train.info()"
   ]
  },
  {
   "cell_type": "code",
   "execution_count": 45,
   "id": "a502d299",
   "metadata": {
    "ExecuteTime": {
     "end_time": "2023-05-31T07:00:17.852276Z",
     "start_time": "2023-05-31T07:00:17.838313Z"
    }
   },
   "outputs": [
    {
     "data": {
      "text/plain": [
       "array(['Private', 'Self-emp-not-inc', 'Local-gov', 'State-gov',\n",
       "       'Self-emp-inc', 'Federal-gov', 'Without-pay', 'Never-worked'],\n",
       "      dtype=object)"
      ]
     },
     "execution_count": 45,
     "metadata": {},
     "output_type": "execute_result"
    }
   ],
   "source": [
    "X_train['workclass'].unique()"
   ]
  },
  {
   "cell_type": "markdown",
   "id": "12a92f27",
   "metadata": {},
   "source": [
    "<hr style=\"background-color:red; height:2px\">\n",
    "\n",
    "> MOVING ON TO THE WORKCLASS COLUMN.\n",
    "\n",
    "> LET'S TALK WEIGHTS ON EACH CATEGORIES\n",
    "\n",
    "> CHECK CORRELATION FOR workclass AND income\n",
    "\n",
    "<hr style=\"background-color:red; height:2px\">"
   ]
  },
  {
   "cell_type": "code",
   "execution_count": 46,
   "id": "ee8a1d07",
   "metadata": {
    "ExecuteTime": {
     "end_time": "2023-05-31T07:00:17.868259Z",
     "start_time": "2023-05-31T07:00:17.853273Z"
    }
   },
   "outputs": [],
   "source": [
    "class_and_income = train[['workclass', 'income']].groupby(by='workclass').value_counts()"
   ]
  },
  {
   "cell_type": "code",
   "execution_count": 47,
   "id": "908c25b3",
   "metadata": {
    "ExecuteTime": {
     "end_time": "2023-05-31T07:00:18.153174Z",
     "start_time": "2023-05-31T07:00:17.870258Z"
    },
    "scrolled": false
   },
   "outputs": [
    {
     "data": {
      "image/png": "[encoded data removed]",
      "text/plain": [
       "<Figure size 1200x600 with 1 Axes>"
      ]
     },
     "metadata": {},
     "output_type": "display_data"
    }
   ],
   "source": [
    "seaborn.set(style=\"whitegrid\")\n",
    "plt.figure(figsize=(12, 6))\n",
    "seaborn.countplot(data=train, x='workclass', hue='income' ) \n",
    "plt.show()"
   ]
  },
  {
   "cell_type": "markdown",
   "id": "a7319b42",
   "metadata": {},
   "source": [
    "<hr style=\"background-color:red; height:2px\">\n",
    "    \n",
    "    - workclass self-emp-inc ratio >> (income) 1:0 = 547:440\n",
    "        \n",
    "    - fed gov >> 1:0 = 327:527\n",
    "    \n",
    "<hr style=\"background-color:red; height:2px\">"
   ]
  },
  {
   "cell_type": "code",
   "execution_count": 48,
   "id": "303e10da",
   "metadata": {
    "ExecuteTime": {
     "end_time": "2023-05-31T07:00:18.169155Z",
     "start_time": "2023-05-31T07:00:18.155168Z"
    },
    "scrolled": true
   },
   "outputs": [
    {
     "data": {
      "text/plain": [
       "workclass     income\n",
       "Self-emp-inc  1         547\n",
       "              0         440\n",
       "dtype: int64"
      ]
     },
     "execution_count": 48,
     "metadata": {},
     "output_type": "execute_result"
    }
   ],
   "source": [
    "train[['workclass','income']][train['workclass']=='Self-emp-inc'].value_counts()"
   ]
  },
  {
   "cell_type": "code",
   "execution_count": 49,
   "id": "fbc524f2",
   "metadata": {
    "ExecuteTime": {
     "end_time": "2023-05-31T07:00:18.185086Z",
     "start_time": "2023-05-31T07:00:18.170126Z"
    }
   },
   "outputs": [
    {
     "data": {
      "text/plain": [
       "workclass    income\n",
       "Without-pay  0         11\n",
       "             1          1\n",
       "dtype: int64"
      ]
     },
     "execution_count": 49,
     "metadata": {},
     "output_type": "execute_result"
    }
   ],
   "source": [
    "train[['workclass','income']][train['workclass']=='Without-pay'].value_counts()"
   ]
  },
  {
   "cell_type": "code",
   "execution_count": 50,
   "id": "33fad54d",
   "metadata": {
    "ExecuteTime": {
     "end_time": "2023-05-31T07:00:18.231986Z",
     "start_time": "2023-05-31T07:00:18.186083Z"
    }
   },
   "outputs": [
    {
     "name": "stdout",
     "output_type": "stream",
     "text": [
      "<class 'pandas.core.frame.DataFrame'>\n",
      "RangeIndex: 29305 entries, 0 to 29304\n",
      "Data columns (total 13 columns):\n",
      " #   Column          Non-Null Count  Dtype \n",
      "---  ------          --------------  ----- \n",
      " 0   age             29305 non-null  int64 \n",
      " 1   workclass       29305 non-null  object\n",
      " 2   fnlwgt          29305 non-null  int64 \n",
      " 3   education-num   29305 non-null  int64 \n",
      " 4   marital-status  29305 non-null  object\n",
      " 5   occupation      29305 non-null  object\n",
      " 6   relationship    29305 non-null  object\n",
      " 7   race            29305 non-null  object\n",
      " 8   sex             29305 non-null  object\n",
      " 9   capital-gain    29305 non-null  int64 \n",
      " 10  capital-loss    29305 non-null  int64 \n",
      " 11  hours-per-week  29305 non-null  int64 \n",
      " 12  native-country  29305 non-null  object\n",
      "dtypes: int64(6), object(7)\n",
      "memory usage: 2.9+ MB\n"
     ]
    }
   ],
   "source": [
    "X_train.info()"
   ]
  },
  {
   "cell_type": "markdown",
   "id": "e28a6b60",
   "metadata": {},
   "source": [
    "## 'marital-status' 컬럼"
   ]
  },
  {
   "cell_type": "code",
   "execution_count": 51,
   "id": "2a6f602a",
   "metadata": {
    "ExecuteTime": {
     "end_time": "2023-05-31T07:00:18.482060Z",
     "start_time": "2023-05-31T07:00:18.233958Z"
    }
   },
   "outputs": [
    {
     "data": {
      "image/png": "[encoded data removed]",
      "text/plain": [
       "<Figure size 1500x600 with 1 Axes>"
      ]
     },
     "metadata": {},
     "output_type": "display_data"
    }
   ],
   "source": [
    "### 혼인상태와 관계 알아보기\n",
    "## 배우자 있고 없고로 나누는 것이 효과적일 듯\n",
    "plt.figure(figsize=(15,6))\n",
    "seaborn.countplot(data=train, x='marital-status', hue='income')\n",
    "plt.show()"
   ]
  },
  {
   "cell_type": "code",
   "execution_count": 52,
   "id": "0c44e80b",
   "metadata": {
    "ExecuteTime": {
     "end_time": "2023-05-31T07:00:18.496834Z",
     "start_time": "2023-05-31T07:00:18.484052Z"
    }
   },
   "outputs": [
    {
     "data": {
      "text/plain": [
       "Married-AF-spouse    21\n",
       "Name: marital-status, dtype: int64"
      ]
     },
     "execution_count": 52,
     "metadata": {},
     "output_type": "execute_result"
    }
   ],
   "source": [
    "train['marital-status'][train['marital-status']=='Married-AF-spouse'].value_counts()"
   ]
  },
  {
   "cell_type": "markdown",
   "id": "9bb381cc",
   "metadata": {},
   "source": [
    "<hr style=\"background-color:green; height:2px\">\n",
    "<hr style=\"background-color:green; height:2px\">\n",
    "<hr style=\"background-color:green; height:2px\">"
   ]
  },
  {
   "cell_type": "code",
   "execution_count": 53,
   "id": "a5cb1d8b",
   "metadata": {
    "ExecuteTime": {
     "end_time": "2023-05-31T07:00:18.559705Z",
     "start_time": "2023-05-31T07:00:18.497844Z"
    }
   },
   "outputs": [
    {
     "name": "stdout",
     "output_type": "stream",
     "text": [
      "<class 'pandas.core.frame.DataFrame'>\n",
      "RangeIndex: 29305 entries, 0 to 29304\n",
      "Data columns (total 13 columns):\n",
      " #   Column          Non-Null Count  Dtype \n",
      "---  ------          --------------  ----- \n",
      " 0   age             29305 non-null  int64 \n",
      " 1   workclass       29305 non-null  object\n",
      " 2   fnlwgt          29305 non-null  int64 \n",
      " 3   education-num   29305 non-null  int64 \n",
      " 4   marital-status  29305 non-null  object\n",
      " 5   occupation      29305 non-null  object\n",
      " 6   relationship    29305 non-null  object\n",
      " 7   race            29305 non-null  object\n",
      " 8   sex             29305 non-null  object\n",
      " 9   capital-gain    29305 non-null  int64 \n",
      " 10  capital-loss    29305 non-null  int64 \n",
      " 11  hours-per-week  29305 non-null  int64 \n",
      " 12  native-country  29305 non-null  object\n",
      "dtypes: int64(6), object(7)\n",
      "memory usage: 2.9+ MB\n"
     ]
    }
   ],
   "source": [
    "X_train.info()"
   ]
  },
  {
   "cell_type": "markdown",
   "id": "e1f52d40",
   "metadata": {},
   "source": [
    "       - 오브젝트 컬럼들 전처리 : workclass, marital-status, occupation, relationship, race, sex, native-country"
   ]
  },
  {
   "cell_type": "markdown",
   "id": "93405661",
   "metadata": {},
   "source": [
    "- MARITAL-STATUS : PRESENCE OF SPOUSES x o\n",
    "- 배우자 유무로 단순화"
   ]
  },
  {
   "cell_type": "code",
   "execution_count": 54,
   "id": "48ee91a1",
   "metadata": {
    "ExecuteTime": {
     "end_time": "2023-05-31T07:00:18.574641Z",
     "start_time": "2023-05-31T07:00:18.560708Z"
    }
   },
   "outputs": [
    {
     "data": {
      "text/plain": [
       "White                 6417\n",
       "Black                  329\n",
       "Asian-Pac-Islander     235\n",
       "Amer-Indian-Eskimo      36\n",
       "Other                   28\n",
       "Name: race, dtype: int64"
      ]
     },
     "execution_count": 54,
     "metadata": {},
     "output_type": "execute_result"
    }
   ],
   "source": [
    "train['race'][train['income']==1].value_counts()"
   ]
  },
  {
   "cell_type": "markdown",
   "id": "5d0de7d8",
   "metadata": {},
   "source": [
    "## 'occupation' 컬럼"
   ]
  },
  {
   "cell_type": "code",
   "execution_count": 55,
   "id": "35c46198",
   "metadata": {
    "ExecuteTime": {
     "end_time": "2023-05-31T07:00:18.589601Z",
     "start_time": "2023-05-31T07:00:18.576638Z"
    }
   },
   "outputs": [
    {
     "data": {
      "text/plain": [
       "Prof-specialty       3724\n",
       "Craft-repair         3632\n",
       "Exec-managerial      3609\n",
       "Adm-clerical         3440\n",
       "Sales                3292\n",
       "Other-service        2975\n",
       "Machine-op-inspct    1811\n",
       "?                    1668\n",
       "Transport-moving     1393\n",
       "Handlers-cleaners    1249\n",
       "Farming-fishing       888\n",
       "Tech-support          865\n",
       "Protective-serv       603\n",
       "Priv-house-serv       146\n",
       "Armed-Forces           10\n",
       "Name: occupation, dtype: int64"
      ]
     },
     "execution_count": 55,
     "metadata": {},
     "output_type": "execute_result"
    }
   ],
   "source": [
    "# dtype object 인 컬럼들 탐색중 (수정 거침)\n",
    "train['occupation'].value_counts()"
   ]
  },
  {
   "cell_type": "markdown",
   "id": "8ba39973",
   "metadata": {},
   "source": [
    "소득 분포 비율 분포 비율"
   ]
  },
  {
   "cell_type": "code",
   "execution_count": 56,
   "id": "27ee6347",
   "metadata": {
    "ExecuteTime": {
     "end_time": "2023-05-31T07:00:18.605583Z",
     "start_time": "2023-05-31T07:00:18.591597Z"
    }
   },
   "outputs": [],
   "source": [
    "##### (occupation 컬럼 단순화 해도 될지 체크중)"
   ]
  },
  {
   "cell_type": "code",
   "execution_count": 57,
   "id": "8ba89d7a",
   "metadata": {
    "ExecuteTime": {
     "end_time": "2023-05-31T07:00:18.620542Z",
     "start_time": "2023-05-31T07:00:18.607555Z"
    }
   },
   "outputs": [],
   "source": [
    "hello = (train['occupation'][train['income']==1].value_counts()) / (train['occupation'].value_counts())"
   ]
  },
  {
   "cell_type": "code",
   "execution_count": 58,
   "id": "97f77e0f",
   "metadata": {
    "ExecuteTime": {
     "end_time": "2023-05-31T07:00:18.636476Z",
     "start_time": "2023-05-31T07:00:18.621516Z"
    }
   },
   "outputs": [
    {
     "data": {
      "text/plain": [
       "Exec-managerial     48\n",
       "Prof-specialty      45\n",
       "Protective-serv     32\n",
       "Armed-Forces        30\n",
       "Tech-support        28\n",
       "Sales               28\n",
       "Craft-repair        23\n",
       "Transport-moving    20\n",
       "Adm-clerical        13\n",
       "Machine-op-inspct   13\n",
       "Farming-fishing     11\n",
       "?                   10\n",
       "Handlers-cleaners    7\n",
       "Other-service        4\n",
       "Priv-house-serv      2\n",
       "Name: occupation, dtype: float64"
      ]
     },
     "execution_count": 58,
     "metadata": {},
     "output_type": "execute_result"
    }
   ],
   "source": [
    "(hello*100).sort_values(ascending=False)"
   ]
  },
  {
   "cell_type": "markdown",
   "id": "078308c7",
   "metadata": {},
   "source": [
    "## 'workclass' 컬럼"
   ]
  },
  {
   "cell_type": "code",
   "execution_count": 59,
   "id": "db278086",
   "metadata": {
    "ExecuteTime": {
     "end_time": "2023-05-31T07:00:18.652433Z",
     "start_time": "2023-05-31T07:00:18.638471Z"
    },
    "scrolled": true
   },
   "outputs": [
    {
     "data": {
      "text/html": [
       "<div>\n",
       "<style scoped>\n",
       "    .dataframe tbody tr th:only-of-type {\n",
       "        vertical-align: middle;\n",
       "    }\n",
       "\n",
       "    .dataframe tbody tr th {\n",
       "        vertical-align: top;\n",
       "    }\n",
       "\n",
       "    .dataframe thead th {\n",
       "        text-align: right;\n",
       "    }\n",
       "</style>\n",
       "<table border=\"1\" class=\"dataframe\">\n",
       "  <thead>\n",
       "    <tr style=\"text-align: right;\">\n",
       "      <th></th>\n",
       "      <th>workclass</th>\n",
       "      <th>income</th>\n",
       "    </tr>\n",
       "  </thead>\n",
       "  <tbody>\n",
       "    <tr>\n",
       "      <th>27916</th>\n",
       "      <td>Without-pay</td>\n",
       "      <td>1</td>\n",
       "    </tr>\n",
       "  </tbody>\n",
       "</table>\n",
       "</div>"
      ],
      "text/plain": [
       "         workclass  income\n",
       "27916  Without-pay       1"
      ]
     },
     "execution_count": 59,
     "metadata": {},
     "output_type": "execute_result"
    }
   ],
   "source": [
    "# workclass 무급인 사람중 소득 5만인 사람 체크 (feature 단순화 해도 될지 체크중)\n",
    "train[['workclass', 'income']][(train['workclass']=='Without-pay') & (train['income']==1)]"
   ]
  },
  {
   "cell_type": "markdown",
   "id": "ba12a6f0",
   "metadata": {},
   "source": [
    "## 'fnlwgt' 컬럼"
   ]
  },
  {
   "cell_type": "markdown",
   "id": "4c514cd1",
   "metadata": {},
   "source": [
    "<hr style=\"background-color:pink;height:4px\">\n",
    "<hr style=\"background-color:pink;height:4px\">\n",
    "\n",
    "- 아래처럼 fnlwgt를 헤집다가 description을 잘 읽자는 결론에 도달함 ... ... ...\n",
    "\n",
    "<hr style=\"background-color:pink;height:4px\">\n",
    "<hr style=\"background-color:pink;height:4px\">"
   ]
  },
  {
   "cell_type": "code",
   "execution_count": 60,
   "id": "ab5c1913",
   "metadata": {
    "ExecuteTime": {
     "end_time": "2023-05-31T07:00:18.667393Z",
     "start_time": "2023-05-31T07:00:18.653431Z"
    },
    "scrolled": true
   },
   "outputs": [
    {
     "data": {
      "text/plain": [
       "count     29305\n",
       "mean     189736\n",
       "std      105635\n",
       "min       13769\n",
       "25%      117606\n",
       "50%      177955\n",
       "75%      237713\n",
       "max     1490400\n",
       "Name: fnlwgt, dtype: float64"
      ]
     },
     "execution_count": 60,
     "metadata": {},
     "output_type": "execute_result"
    }
   ],
   "source": [
    "train['fnlwgt'].describe()"
   ]
  },
  {
   "cell_type": "code",
   "execution_count": 61,
   "id": "47a87002",
   "metadata": {
    "ExecuteTime": {
     "end_time": "2023-05-31T07:00:18.683374Z",
     "start_time": "2023-05-31T07:00:18.669388Z"
    }
   },
   "outputs": [],
   "source": [
    "scaler = StandardScaler()\n",
    "\n",
    "fnlwgt = scaler.fit_transform(train[['fnlwgt']])"
   ]
  },
  {
   "cell_type": "code",
   "execution_count": 62,
   "id": "b6619617",
   "metadata": {
    "ExecuteTime": {
     "end_time": "2023-05-31T07:00:18.698335Z",
     "start_time": "2023-05-31T07:00:18.685347Z"
    },
    "scrolled": true
   },
   "outputs": [
    {
     "name": "stdout",
     "output_type": "stream",
     "text": [
      "mean : -0.0\n",
      " std:1.0\n",
      " max:12.3131\n",
      " min:-1.6658\n",
      " count:(29305, 1)\n"
     ]
    }
   ],
   "source": [
    "print(f'mean : {fnlwgt.mean().round(4)}\\n std:{fnlwgt.std().round(4)}\\n max:{fnlwgt.max().round(4)}\\n min:{fnlwgt.min().round(4)}\\n count:{fnlwgt.shape}')"
   ]
  },
  {
   "cell_type": "code",
   "execution_count": 63,
   "id": "3410c741",
   "metadata": {
    "ExecuteTime": {
     "end_time": "2023-05-31T07:00:18.714268Z",
     "start_time": "2023-05-31T07:00:18.700332Z"
    },
    "scrolled": false
   },
   "outputs": [
    {
     "data": {
      "text/plain": [
       "Asian-Pac-Islander    72\n",
       "Other                  1\n",
       "Black                  1\n",
       "Name: race, dtype: int64"
      ]
     },
     "metadata": {},
     "output_type": "display_data"
    },
    {
     "data": {
      "text/plain": [
       "Asian-Pac-Islander    16\n",
       "White                  2\n",
       "Amer-Indian-Eskimo     1\n",
       "Name: race, dtype: int64"
      ]
     },
     "metadata": {},
     "output_type": "display_data"
    }
   ],
   "source": [
    "##### native country에서 이상한 나라 발견함 \n",
    "display(train['race'][train['native-country']=='South'].value_counts())\n",
    "## 아시아퍼시픽에서 south 붙은 나라는 한국뿐이므로 south korea일수도 + south africa, 기타 국가인듯 함\n",
    "## a-p-i 인종중 국가가 South이면 Korea로 매핑?\n",
    "display(train['race'][train['native-country']=='Hong'].value_counts())\n",
    "## 인종으로 보아 홍콩인듯 함\n",
    "\n",
    "########### 결국 미국 - 히스패닉 - 기타 로 단순화 할것이므로 일단 보류 함 (위 모두 히스패닉, 미국에 해당하지 않으므로)\n",
    "\n",
    "#### 결론 앨리스는 한국사람이엇음 ####"
   ]
  },
  {
   "cell_type": "markdown",
   "id": "26ffe9d9",
   "metadata": {},
   "source": [
    "# 중간 결론"
   ]
  },
  {
   "cell_type": "markdown",
   "id": "eff127f9",
   "metadata": {},
   "source": [
    "<hr style=\"background-color:salmon; height:2px;\">\n",
    "<hr style=\"background-color:orange; height:2px\">\n",
    "<hr style=\"background-color:lightyellow; height:2px;\">\n",
    "<hr style=\"background-color:lightgreen; height:2px;\">\n",
    "<hr style=\"background-color:skyblue; height:2px;\">\n",
    "<hr style=\"background-color:pink; height:2px;\">\n",
    "\n",
    "    - 방법 000001 dtype이 object인 컬럼들 단순화 : \n",
    "    1. native-country : states / hispanic / overseas\n",
    "    2. marital-status : have-spouse / no-spouse\n",
    "    3. relationship : supporting / non-supporting\n",
    "    4. workclass : civ-servant / employee / entrepren / misc (무급 연봉5만 1명 주의)\n",
    "    5. occupation : 아래 occupation 컬럼 관련 전처리 부분 참조\n",
    "    6. race : 1, 0 (white / misc)\n",
    "    7. sex : 1, 0\n",
    "    +\n",
    "    8. 서두에서 언급한 fnlwgt BINNING (히스패닉 비닝은 1번에서 진행 함)\n",
    "\n",
    "- occupation 비닝\n",
    "    - priv-house-serv\n",
    "    - other-service\n",
    "    - handlers-cleaners\n",
    "    - 까지 카테고리1\n",
    "    <hr>\n",
    "\n",
    "    - Tech-support\n",
    "    - Sales                \n",
    "    - Craft-repair        \n",
    "    - Transport-moving   \n",
    "    - Adm-clerical        \n",
    "    - Machine-op-inspct    \n",
    "    - Farming-fishing      \n",
    "    - ?                 \n",
    "    까지 카테고리2\n",
    "    <hr>\n",
    "    - Exec-managerial     \n",
    "    - Prof-specialty    \n",
    "    - Protective-serv      \n",
    "    - Armed-Forces        \n",
    "    까지 카테고리3\n",
    "\n",
    "<hr style=\"background-color:salmon; height:2px;\">\n",
    "<hr style=\"background-color:orange; height:2px\">\n",
    "<hr style=\"background-color:lightyellow; height:2px;\">\n",
    "<hr style=\"background-color:lightgreen; height:2px;\">\n",
    "<hr style=\"background-color:skyblue; height:2px;\">\n",
    "<hr style=\"background-color:pink; height:2px;\">"
   ]
  },
  {
   "cell_type": "markdown",
   "id": "9a60adb5",
   "metadata": {},
   "source": [
    "# 피처 엔지니어링\n",
    "    - 라고 쓰고 EDA와의 절충지대라고 읽을란다"
   ]
  },
  {
   "cell_type": "markdown",
   "id": "076ba779",
   "metadata": {
    "ExecuteTime": {
     "end_time": "2023-05-24T10:14:03.395730Z",
     "start_time": "2023-05-24T10:14:03.380482Z"
    }
   },
   "source": [
    "<hr style=\"background-color:salmon; height:2px;\">\n",
    "<hr style=\"background-color:orange; height:2px\">\n",
    "<hr style=\"background-color:lightyellow; height:2px;\">\n",
    "<hr style=\"background-color:lightgreen; height:2px;\">\n",
    "<hr style=\"background-color:skyblue; height:2px;\">\n",
    "<hr style=\"background-color:pink; height:2px;\">\n",
    "\n",
    "|😁😁😁😁😁😁😁😁😁😁😁😁😁|\n",
    "|-------------------------------------------------------------------------|\n",
    "|피쳐 엔지니어링 시작|\n",
    "\n",
    "<hr style=\"background-color:salmon; height:2px;\">\n",
    "<hr style=\"background-color:orange; height:2px\">\n",
    "<hr style=\"background-color:lightyellow; height:2px;\">\n",
    "<hr style=\"background-color:lightgreen; height:2px;\">\n",
    "<hr style=\"background-color:skyblue; height:2px;\">\n",
    "<hr style=\"background-color:pink; height:2px;\">"
   ]
  },
  {
   "cell_type": "markdown",
   "id": "b9213832",
   "metadata": {},
   "source": [
    "## 'native-country' Binning\n",
    "    - by descretinizing and mapping\n",
    "    - Unsp_country (원래 '?' 값) 잊지 말 것"
   ]
  },
  {
   "cell_type": "code",
   "execution_count": 64,
   "id": "2f2ea73e",
   "metadata": {
    "ExecuteTime": {
     "end_time": "2023-05-31T07:00:18.746182Z",
     "start_time": "2023-05-31T07:00:18.716264Z"
    },
    "scrolled": true
   },
   "outputs": [
    {
     "data": {
      "text/html": [
       "<div>\n",
       "<style scoped>\n",
       "    .dataframe tbody tr th:only-of-type {\n",
       "        vertical-align: middle;\n",
       "    }\n",
       "\n",
       "    .dataframe tbody tr th {\n",
       "        vertical-align: top;\n",
       "    }\n",
       "\n",
       "    .dataframe thead th {\n",
       "        text-align: right;\n",
       "    }\n",
       "</style>\n",
       "<table border=\"1\" class=\"dataframe\">\n",
       "  <thead>\n",
       "    <tr style=\"text-align: right;\">\n",
       "      <th></th>\n",
       "      <th>race</th>\n",
       "      <th>Asian-Pac-Islander</th>\n",
       "      <th>Black</th>\n",
       "      <th>Other</th>\n",
       "      <th>White</th>\n",
       "    </tr>\n",
       "  </thead>\n",
       "  <tbody>\n",
       "    <tr>\n",
       "      <th rowspan=\"8\" valign=\"top\">fnlwgt</th>\n",
       "      <th>count</th>\n",
       "      <td>85</td>\n",
       "      <td>81</td>\n",
       "      <td>12</td>\n",
       "      <td>317</td>\n",
       "    </tr>\n",
       "    <tr>\n",
       "      <th>mean</th>\n",
       "      <td>186244</td>\n",
       "      <td>212407</td>\n",
       "      <td>173103</td>\n",
       "      <td>190682</td>\n",
       "    </tr>\n",
       "    <tr>\n",
       "      <th>std</th>\n",
       "      <td>95848</td>\n",
       "      <td>107797</td>\n",
       "      <td>75195</td>\n",
       "      <td>86195</td>\n",
       "    </tr>\n",
       "    <tr>\n",
       "      <th>min</th>\n",
       "      <td>25806</td>\n",
       "      <td>39223</td>\n",
       "      <td>87943</td>\n",
       "      <td>31411</td>\n",
       "    </tr>\n",
       "    <tr>\n",
       "      <th>25%</th>\n",
       "      <td>130620</td>\n",
       "      <td>152734</td>\n",
       "      <td>113243</td>\n",
       "      <td>130078</td>\n",
       "    </tr>\n",
       "    <tr>\n",
       "      <th>50%</th>\n",
       "      <td>163392</td>\n",
       "      <td>201624</td>\n",
       "      <td>155032</td>\n",
       "      <td>179048</td>\n",
       "    </tr>\n",
       "    <tr>\n",
       "      <th>75%</th>\n",
       "      <td>227332</td>\n",
       "      <td>233555</td>\n",
       "      <td>215568</td>\n",
       "      <td>225623</td>\n",
       "    </tr>\n",
       "    <tr>\n",
       "      <th>max</th>\n",
       "      <td>506329</td>\n",
       "      <td>591711</td>\n",
       "      <td>309620</td>\n",
       "      <td>609789</td>\n",
       "    </tr>\n",
       "  </tbody>\n",
       "</table>\n",
       "</div>"
      ],
      "text/plain": [
       "race          Asian-Pac-Islander  Black  Other  White\n",
       "fnlwgt count                  85     81     12    317\n",
       "       mean               186244 212407 173103 190682\n",
       "       std                 95848 107797  75195  86195\n",
       "       min                 25806  39223  87943  31411\n",
       "       25%                130620 152734 113243 130078\n",
       "       50%                163392 201624 155032 179048\n",
       "       75%                227332 233555 215568 225623\n",
       "       max                506329 591711 309620 609789"
      ]
     },
     "execution_count": 64,
     "metadata": {},
     "output_type": "execute_result"
    }
   ],
   "source": [
    "#### 국가가 ? 인 사람들을 히스패닉으로 일반화 할 수 있을지 먼저 검증\n",
    "train[['race', 'fnlwgt']][train['native-country']=='?'].groupby(by='race').describe().transpose()\n",
    "## 다른 인종과 비교했을 때 수치 연관이 낮은 듯 함\n",
    "## 응 안되\n",
    "## 패스(Overseas로 처리 할거임)"
   ]
  },
  {
   "cell_type": "markdown",
   "id": "f6ce8f1a",
   "metadata": {},
   "source": [
    "- 히스패닉 해당 국가들 :\n",
    "    - Mexico\n",
    "    - Puerto Rico\n",
    "    - Dominican Republic\n",
    "    - Cuba\n",
    "    - Guatemala\n",
    "    - El Salvador\n",
    "    - Honduras\n",
    "    - Nicaragua\n",
    "    - Trinadad & Tobago\n",
    "    - Colombia\n",
    "    - Ecuador\n",
    "    - Peru"
   ]
  },
  {
   "cell_type": "code",
   "execution_count": 65,
   "id": "6f51541b",
   "metadata": {
    "ExecuteTime": {
     "end_time": "2023-05-31T07:00:18.762140Z",
     "start_time": "2023-05-31T07:00:18.747179Z"
    }
   },
   "outputs": [
    {
     "data": {
      "text/plain": [
       "array(['United-States', 'Haiti', 'Mexico', 'Puerto-Rico', 'Philippines',\n",
       "       'Germany', 'Peru', 'Ecuador', 'Iran', 'Thailand',\n",
       "       'Dominican-Republic', 'Poland', 'Scotland', 'Italy', 'Jamaica',\n",
       "       'China', 'Portugal', 'Columbia', 'Hungary', 'Vietnam', 'Taiwan',\n",
       "       'Canada', 'Hong', 'Guatemala', 'El-Salvador', 'England',\n",
       "       'Outlying-US(Guam-USVI-etc)', 'India', 'France', 'Cuba', 'Greece',\n",
       "       'Trinadad&Tobago', 'South', 'Japan', 'Yugoslavia', 'Nicaragua',\n",
       "       'Ireland', 'Cambodia', 'Laos', 'Honduras', 'Holand-Netherlands'],\n",
       "      dtype=object)"
      ]
     },
     "metadata": {},
     "output_type": "display_data"
    }
   ],
   "source": [
    "# Unsp_country로 만든 ? 값들 챙기기 # ****최빈값 일반화 했으므로 무효임****\n",
    "# map 만들기\n",
    "# X_train['native-country'][X_train['native-country']=='Unsp_country']\n",
    "display(X_train['native-country'].unique())\n",
    "\n",
    "country_mapper_swapper = {\n",
    "    'United-States':'United-States', 'Haiti': 'Overseas', 'Mexico': 'Hispanic',\n",
    "    'Puerto-Rico': 'Hispanic', 'Philippines': 'Overseas', #'Unsp_country':'Overseas',\n",
    "    'Germany': 'Overseas', 'Peru': 'Hispanic', 'Ecuador': 'Hispanic',\n",
    "    'Iran': 'Overseas', 'Thailand': 'Overseas', 'Dominican-Republic': 'Hispanic',\n",
    "    'Poland': 'Overseas', 'Scotland': 'Overseas', 'Italy': 'Overseas',\n",
    "    'Jamaica': 'Overseas', 'China': 'Overseas', 'Portugal': 'Overseas',\n",
    "    'Columbia': 'Hispanic', 'Hungary': 'Overseas', 'Vietnam': 'Overseas',\n",
    "    'Taiwan': 'Overseas', 'Canada': 'Overseas', 'Hong': 'Overseas',\n",
    "    'Guatemala': 'Hispanic', 'El-Salvador': 'Hispanic', 'England': 'Overseas',\n",
    "    'Outlying-US(Guam-USVI-etc)': 'United-States', 'India': 'Overseas', 'France': 'Overseas',\n",
    "    'Cuba': 'Hispanic', 'Greece': 'Overseas', 'Trinadad&Tobago': 'Hispanic',\n",
    "    'South': 'Overseas', 'Japan': 'Overseas', 'Yugoslavia': 'Overseas',\n",
    "    'Nicaragua': 'Hispanic', 'Ireland': 'Overseas', 'Cambodia': 'Overseas',\n",
    "    'Laos': 'Overseas', 'Honduras': 'Hispanic', 'Holand-Netherlands':'Overseas'\n",
    "}"
   ]
  },
  {
   "cell_type": "code",
   "execution_count": 66,
   "id": "28159a36",
   "metadata": {
    "ExecuteTime": {
     "end_time": "2023-05-31T07:00:18.778096Z",
     "start_time": "2023-05-31T07:00:18.764134Z"
    },
    "scrolled": true
   },
   "outputs": [],
   "source": [
    "############## 매핑 한다잉 ###############mapping (this is for ctrl+f)\n",
    "X_train['native-country'] = X_train['native-country'].map(country_mapper_swapper)"
   ]
  },
  {
   "cell_type": "code",
   "execution_count": 67,
   "id": "9cdcdd77",
   "metadata": {
    "ExecuteTime": {
     "end_time": "2023-05-31T07:00:18.794054Z",
     "start_time": "2023-05-31T07:00:18.780093Z"
    }
   },
   "outputs": [],
   "source": [
    "X_test['native-country'] = X_test['native-country'].map(country_mapper_swapper)"
   ]
  },
  {
   "cell_type": "code",
   "execution_count": 68,
   "id": "75d1b886",
   "metadata": {
    "ExecuteTime": {
     "end_time": "2023-05-31T07:00:18.810016Z",
     "start_time": "2023-05-31T07:00:18.795051Z"
    }
   },
   "outputs": [
    {
     "data": {
      "text/plain": [
       "United-States    26811\n",
       "Overseas          1345\n",
       "Hispanic          1149\n",
       "Name: native-country, dtype: int64"
      ]
     },
     "execution_count": 68,
     "metadata": {},
     "output_type": "execute_result"
    }
   ],
   "source": [
    "X_train['native-country'].value_counts() ### 자알 됫구만"
   ]
  },
  {
   "cell_type": "markdown",
   "id": "e57e26cc",
   "metadata": {},
   "source": [
    "## 'marital-status' Binning\n",
    "    - by discretinizing and mapping\n",
    "    - Unsp_country (원래 '?' 값) 잊지 말 것"
   ]
  },
  {
   "cell_type": "code",
   "execution_count": 69,
   "id": "83430a91",
   "metadata": {
    "ExecuteTime": {
     "end_time": "2023-05-31T07:00:18.825981Z",
     "start_time": "2023-05-31T07:00:18.812012Z"
    }
   },
   "outputs": [
    {
     "data": {
      "text/plain": [
       "Married-civ-spouse      0\n",
       "Married-AF-spouse       0\n",
       "Divorced                0\n",
       "Married-spouse-absent   0\n",
       "Widowed                 0\n",
       "Separated               0\n",
       "Never-married           0\n",
       "Name: marital-status, dtype: float64"
      ]
     },
     "execution_count": 69,
     "metadata": {},
     "output_type": "execute_result"
    }
   ],
   "source": [
    "(train['marital-status'][train['income']==1].value_counts() / train['marital-status'].value_counts()).sort_values(ascending=False)"
   ]
  },
  {
   "cell_type": "code",
   "execution_count": 70,
   "id": "aa373e4d",
   "metadata": {
    "ExecuteTime": {
     "end_time": "2023-05-31T07:00:18.872755Z",
     "start_time": "2023-05-31T07:00:18.827975Z"
    }
   },
   "outputs": [
    {
     "data": {
      "text/plain": [
       "Married-civ-spouse       13331\n",
       "Never-married             9673\n",
       "Divorced                  4030\n",
       "Widowed                    942\n",
       "Separated                  914\n",
       "Married-spouse-absent      394\n",
       "Married-AF-spouse           21\n",
       "Name: marital-status, dtype: int64"
      ]
     },
     "metadata": {},
     "output_type": "display_data"
    },
    {
     "name": "stdout",
     "output_type": "stream",
     "text": [
      "-------------------------------\n"
     ]
    },
    {
     "data": {
      "text/plain": [
       "marital-status      income\n",
       "Married-civ-spouse  0         7346\n",
       "                    1         5985\n",
       "Married-AF-spouse   0           13\n",
       "                    1            8\n",
       "dtype: int64"
      ]
     },
     "metadata": {},
     "output_type": "display_data"
    },
    {
     "name": "stdout",
     "output_type": "stream",
     "text": [
      "-------------------------------\n"
     ]
    },
    {
     "data": {
      "text/plain": [
       "marital-status  income\n",
       "Divorced        0         3609\n",
       "                1          421\n",
       "dtype: int64"
      ]
     },
     "metadata": {},
     "output_type": "display_data"
    }
   ],
   "source": [
    "##ㄱㄱㄱㄱㄱ 말이 필요읍어용 ....스압 오지니까 다시 조회 맨날 조회 24/7조회\n",
    "display(X_train['marital-status'].value_counts())\n",
    "# 잇없 맾잉ㄱㄱ\n",
    "print('-------------------------------')\n",
    "# 민간인(civ)이든 군인(af)이든 상관 읍다 civ의 고소득 비율 0.45 af의 고소득 비율 0.40 \n",
    "display(train[['marital-status', 'income']][(train['marital-status']=='Married-AF-spouse')|(train['marital-status']=='Married-civ-spouse')].value_counts())\n",
    "# ㅋㅋ spouse mapping \n",
    "print('-------------------------------')\n",
    "# 응 위자료로 부자 되진 않죠 ?\n",
    "display(train[['marital-status', 'income']][train['marital-status']=='Divorced'].value_counts())\n",
    "spouse_mapping = {\n",
    "    'Married-civ-spouse':'Mari-Cat1',\n",
    "    'Never-married':'Mari-Cat3',\n",
    "    'Divorced':'Mari-Cat2',\n",
    "    'Widowed':'Mari-Cat2',\n",
    "    'Separated':'Mari-Cat3',\n",
    "    'Married-spouse-absent':'Mari-Cat2',\n",
    "    'Married-AF-spouse':'Mari-Cat1'\n",
    "}\n",
    "######################### OR #########################\n",
    "# spouse_mapping = {\n",
    " #   'Married-civ-spouse':0.4490,\n",
    " #   'Never-married':0.0468,\n",
    " #   'Divorced':0.1045,\n",
    " #   'Widowed':0.0839,\n",
    " #   'Separated':0.0678,\n",
    " #   'Married-spouse-absent':0.0939,\n",
    " #   'Married-AF-spouse':0.3810\n",
    "# }\n",
    "## 매핑 ㄱㄱ\n",
    "X_train['marital-status'] = X_train['marital-status'].map(spouse_mapping)"
   ]
  },
  {
   "cell_type": "code",
   "execution_count": 71,
   "id": "26df68f5",
   "metadata": {
    "ExecuteTime": {
     "end_time": "2023-05-31T07:00:18.888696Z",
     "start_time": "2023-05-31T07:00:18.874731Z"
    }
   },
   "outputs": [],
   "source": [
    "X_test['marital-status']=  X_test['marital-status'].map(spouse_mapping)"
   ]
  },
  {
   "cell_type": "code",
   "execution_count": 72,
   "id": "9934e16e",
   "metadata": {
    "ExecuteTime": {
     "end_time": "2023-05-31T07:00:18.903666Z",
     "start_time": "2023-05-31T07:00:18.890691Z"
    }
   },
   "outputs": [
    {
     "data": {
      "text/plain": [
       "Mari-Cat1    13352\n",
       "Mari-Cat3    10587\n",
       "Mari-Cat2     5366\n",
       "Name: marital-status, dtype: int64"
      ]
     },
     "execution_count": 72,
     "metadata": {},
     "output_type": "execute_result"
    }
   ],
   "source": [
    "X_train['marital-status'].value_counts()"
   ]
  },
  {
   "cell_type": "markdown",
   "id": "50440423",
   "metadata": {},
   "source": [
    "## 'relationship' Binning\n",
    "    - 비닝 전 최종 확인"
   ]
  },
  {
   "cell_type": "code",
   "execution_count": 73,
   "id": "03eb9dd0",
   "metadata": {
    "ExecuteTime": {
     "end_time": "2023-05-31T07:00:18.918915Z",
     "start_time": "2023-05-31T07:00:18.904664Z"
    }
   },
   "outputs": [
    {
     "data": {
      "text/plain": [
       "Husband           11769\n",
       "Not-in-family      7637\n",
       "Own-child          4554\n",
       "Unmarried          3071\n",
       "Wife               1370\n",
       "Other-relative      904\n",
       "Name: relationship, dtype: int64"
      ]
     },
     "execution_count": 73,
     "metadata": {},
     "output_type": "execute_result"
    }
   ],
   "source": [
    "train['relationship'].value_counts()"
   ]
  },
  {
   "cell_type": "code",
   "execution_count": 74,
   "id": "2401ec45",
   "metadata": {
    "ExecuteTime": {
     "end_time": "2023-05-31T07:00:18.949845Z",
     "start_time": "2023-05-31T07:00:18.920910Z"
    }
   },
   "outputs": [
    {
     "data": {
      "text/plain": [
       "relationship    marital-status       \n",
       "Husband         Married-civ-spouse       11763\n",
       "Not-in-family   Never-married             4272\n",
       "Own-child       Never-married             4059\n",
       "Not-in-family   Divorced                  2225\n",
       "Unmarried       Divorced                  1423\n",
       "Wife            Married-civ-spouse        1356\n",
       "Unmarried       Never-married              793\n",
       "Other-relative  Never-married              549\n",
       "Not-in-family   Widowed                    530\n",
       "                Separated                  391\n",
       "Unmarried       Separated                  387\n",
       "                Widowed                    351\n",
       "Own-child       Divorced                   274\n",
       "Not-in-family   Married-spouse-absent      206\n",
       "Other-relative  Married-civ-spouse         119\n",
       "Unmarried       Married-spouse-absent      117\n",
       "Other-relative  Divorced                   108\n",
       "Own-child       Separated                   87\n",
       "                Married-civ-spouse          80\n",
       "Other-relative  Separated                   49\n",
       "                Widowed                     44\n",
       "Own-child       Married-spouse-absent       36\n",
       "Other-relative  Married-spouse-absent       35\n",
       "Own-child       Widowed                     17\n",
       "Wife            Married-AF-spouse           14\n",
       "Not-in-family   Married-civ-spouse          13\n",
       "Husband         Married-AF-spouse            6\n",
       "Own-child       Married-AF-spouse            1\n",
       "dtype: int64"
      ]
     },
     "execution_count": 74,
     "metadata": {},
     "output_type": "execute_result"
    }
   ],
   "source": [
    "train[['relationship', 'marital-status']].value_counts()"
   ]
  },
  {
   "cell_type": "code",
   "execution_count": 75,
   "id": "afdf4b53",
   "metadata": {
    "ExecuteTime": {
     "end_time": "2023-05-31T07:00:18.980719Z",
     "start_time": "2023-05-31T07:00:18.951840Z"
    }
   },
   "outputs": [
    {
     "data": {
      "text/plain": [
       "relationship   marital-status       \n",
       "Not-in-family  Never-married            4272\n",
       "               Divorced                 2225\n",
       "               Widowed                   530\n",
       "               Separated                 391\n",
       "               Married-spouse-absent     206\n",
       "               Married-civ-spouse         13\n",
       "dtype: int64"
      ]
     },
     "execution_count": 75,
     "metadata": {},
     "output_type": "execute_result"
    }
   ],
   "source": [
    "train[['relationship', 'marital-status']][train['relationship']=='Not-in-family'].value_counts()"
   ]
  },
  {
   "cell_type": "code",
   "execution_count": 76,
   "id": "4a3c951d",
   "metadata": {
    "ExecuteTime": {
     "end_time": "2023-05-31T07:00:19.012614Z",
     "start_time": "2023-05-31T07:00:18.982692Z"
    }
   },
   "outputs": [
    {
     "data": {
      "text/plain": [
       "relationship  occupation         sex   \n",
       "Husband       Craft-repair       Male      2181\n",
       "              Exec-managerial    Male      1935\n",
       "              Prof-specialty     Male      1624\n",
       "              Sales              Male      1346\n",
       "              Transport-moving   Male       867\n",
       "              Machine-op-inspct  Male       805\n",
       "              Adm-clerical       Male       565\n",
       "              Farming-fishing    Male       495\n",
       "              Other-service      Male       476\n",
       "              ?                  Male       424\n",
       "              Handlers-cleaners  Male       407\n",
       "              Protective-serv    Male       341\n",
       "Wife          Adm-clerical       Female     313\n",
       "Husband       Tech-support       Male       298\n",
       "Wife          Prof-specialty     Female     281\n",
       "              Exec-managerial    Female     199\n",
       "              Other-service      Female     159\n",
       "              ?                  Female     116\n",
       "              Sales              Female     102\n",
       "              Machine-op-inspct  Female      60\n",
       "              Tech-support       Female      46\n",
       "              Craft-repair       Female      36\n",
       "              Handlers-cleaners  Female      15\n",
       "              Transport-moving   Female      15\n",
       "              Priv-house-serv    Female      11\n",
       "              Farming-fishing    Female       9\n",
       "              Protective-serv    Female       6\n",
       "Husband       Armed-Forces       Male         4\n",
       "Wife          Exec-managerial    Male         1\n",
       "              Machine-op-inspct  Male         1\n",
       "Husband       Priv-house-serv    Male         1\n",
       "dtype: int64"
      ]
     },
     "execution_count": 76,
     "metadata": {},
     "output_type": "execute_result"
    }
   ],
   "source": [
    "train[['relationship', 'occupation', 'sex']][(train['relationship']=='Husband') | (train['relationship']=='Wife')].value_counts()\n",
    "# 부부가 백수인 사람은 없는듯"
   ]
  },
  {
   "cell_type": "code",
   "execution_count": 77,
   "id": "6199d12d",
   "metadata": {
    "ExecuteTime": {
     "end_time": "2023-05-31T07:00:19.043584Z",
     "start_time": "2023-05-31T07:00:19.014587Z"
    }
   },
   "outputs": [
    {
     "data": {
      "text/plain": [
       "relationship  occupation         sex   \n",
       "Own-child     Adm-clerical       Female    494\n",
       "              Other-service      Female    404\n",
       "              Sales              Female    387\n",
       "              Other-service      Male      380\n",
       "              Craft-repair       Male      331\n",
       "              Handlers-cleaners  Male      329\n",
       "              ?                  Male      272\n",
       "              Sales              Male      253\n",
       "              ?                  Female    245\n",
       "              Adm-clerical       Male      211\n",
       "              Machine-op-inspct  Male      171\n",
       "              Prof-specialty     Female    152\n",
       "                                 Male      129\n",
       "              Transport-moving   Male      127\n",
       "              Farming-fishing    Male      117\n",
       "              Exec-managerial    Male      105\n",
       "                                 Female     87\n",
       "              Machine-op-inspct  Female     69\n",
       "              Tech-support       Male       62\n",
       "              Protective-serv    Male       53\n",
       "              Tech-support       Female     49\n",
       "              Handlers-cleaners  Female     38\n",
       "              Craft-repair       Female     29\n",
       "              Priv-house-serv    Female     20\n",
       "              Protective-serv    Female     13\n",
       "              Farming-fishing    Female     11\n",
       "              Transport-moving   Female     10\n",
       "              Priv-house-serv    Male        5\n",
       "              Armed-Forces       Male        1\n",
       "dtype: int64"
      ]
     },
     "execution_count": 77,
     "metadata": {},
     "output_type": "execute_result"
    }
   ],
   "source": [
    "# 피부양자여도 별의별 일 다하죠잉\n",
    "train[['relationship', 'occupation', 'sex']][train['relationship']=='Own-child'].value_counts()"
   ]
  },
  {
   "cell_type": "code",
   "execution_count": 78,
   "id": "99e3d2be",
   "metadata": {
    "ExecuteTime": {
     "end_time": "2023-05-31T07:00:19.294223Z",
     "start_time": "2023-05-31T07:00:19.045551Z"
    },
    "scrolled": true
   },
   "outputs": [
    {
     "data": {
      "image/png": "[encoded data removed]",
      "text/plain": [
       "<Figure size 1600x700 with 1 Axes>"
      ]
     },
     "metadata": {},
     "output_type": "display_data"
    }
   ],
   "source": [
    "plt.figure(figsize=(16, 7))\n",
    "seaborn.countplot(data=train, x='relationship', hue='income')\n",
    "plt.show()"
   ]
  },
  {
   "cell_type": "code",
   "execution_count": 79,
   "id": "0ba92e17",
   "metadata": {
    "ExecuteTime": {
     "end_time": "2023-05-31T07:00:19.309444Z",
     "start_time": "2023-05-31T07:00:19.296219Z"
    }
   },
   "outputs": [
    {
     "data": {
      "text/plain": [
       "Wife             0\n",
       "Husband          0\n",
       "Not-in-family    0\n",
       "Unmarried        0\n",
       "Other-relative   0\n",
       "Own-child        0\n",
       "Name: relationship, dtype: float64"
      ]
     },
     "execution_count": 79,
     "metadata": {},
     "output_type": "execute_result"
    }
   ],
   "source": [
    "(train['relationship'][train['income']==1].value_counts() / train['relationship'].value_counts()).sort_values(ascending=False)"
   ]
  },
  {
   "cell_type": "code",
   "execution_count": 80,
   "id": "7d003106",
   "metadata": {
    "ExecuteTime": {
     "end_time": "2023-05-31T07:00:19.325376Z",
     "start_time": "2023-05-31T07:00:19.311416Z"
    }
   },
   "outputs": [],
   "source": [
    "# this is a no-brainer //  lol spoke too soon!\n",
    "# 결론 : 부양가족이 있음 / 없음으로 나눈다.\n",
    "rel_mapping = {\n",
    "    'Husband':'Supporting', # 본인이 남편임\n",
    "    'Not-in-family':'Self-sufficient', # 적이 없음\n",
    "    'Own-child':'Non-supporting', # 피부양자임\n",
    "    'Unmarried':'Self-sufficient', # 미혼\n",
    "    'Wife':'Supporting', # 본인이 아내임\n",
    "    'Other-relative':'Non-supporting'\n",
    "}\n",
    "################################## OR ##################################\n",
    "# rel_mapping = {\n",
    " #   'Husband':0.4520, # 본인이 남편임\n",
    " #   'Not-in-family':0.1051, # 적이 없음\n",
    " #   'Own-child':0.0143, # 피부양자임\n",
    " #   'Unmarried':0.0606, # 미혼\n",
    " #   'Wife':0.4664, # 본인이 아내임\n",
    " #   'Other-relative':0.0354\n",
    "# }\n",
    "\n",
    "# ㄱㄱㄱ\n",
    "X_train['relationship'] = X_train['relationship'].map(rel_mapping)"
   ]
  },
  {
   "cell_type": "code",
   "execution_count": 81,
   "id": "a89cb99c",
   "metadata": {
    "ExecuteTime": {
     "end_time": "2023-05-31T07:00:19.340336Z",
     "start_time": "2023-05-31T07:00:19.327372Z"
    }
   },
   "outputs": [],
   "source": [
    "X_test['relationship'] = X_test['relationship'].map(rel_mapping)"
   ]
  },
  {
   "cell_type": "code",
   "execution_count": 82,
   "id": "e1c700d7",
   "metadata": {
    "ExecuteTime": {
     "end_time": "2023-05-31T07:00:19.372252Z",
     "start_time": "2023-05-31T07:00:19.359286Z"
    }
   },
   "outputs": [
    {
     "data": {
      "text/plain": [
       "Supporting         13139\n",
       "Self-sufficient    10708\n",
       "Non-supporting      5458\n",
       "Name: relationship, dtype: int64"
      ]
     },
     "execution_count": 82,
     "metadata": {},
     "output_type": "execute_result"
    }
   ],
   "source": [
    "X_train['relationship'].value_counts()"
   ]
  },
  {
   "cell_type": "markdown",
   "id": "5905b4d4",
   "metadata": {},
   "source": [
    "## 'occupation' Binning"
   ]
  },
  {
   "cell_type": "code",
   "execution_count": 83,
   "id": "de9df3d5",
   "metadata": {
    "ExecuteTime": {
     "end_time": "2023-05-31T07:00:19.388207Z",
     "start_time": "2023-05-31T07:00:19.373247Z"
    }
   },
   "outputs": [
    {
     "data": {
      "text/plain": [
       "occupation       income\n",
       "Priv-house-serv  0         143\n",
       "                 1           3\n",
       "dtype: int64"
      ]
     },
     "execution_count": 83,
     "metadata": {},
     "output_type": "execute_result"
    }
   ],
   "source": [
    "train[['occupation','income']][(train['occupation']=='Priv-house-serv')].value_counts()"
   ]
  },
  {
   "cell_type": "code",
   "execution_count": 84,
   "id": "0b6e8f62",
   "metadata": {
    "ExecuteTime": {
     "end_time": "2023-05-31T07:00:19.419124Z",
     "start_time": "2023-05-31T07:00:19.390202Z"
    }
   },
   "outputs": [
    {
     "data": {
      "text/plain": [
       "array(['Machine-op-inspct', 'Other-service', 'Handlers-cleaners',\n",
       "       'Tech-support', 'Transport-moving', 'Farming-fishing',\n",
       "       'Prof-specialty', 'Priv-house-serv', 'Adm-clerical',\n",
       "       'Protective-serv', 'Exec-managerial', 'Craft-repair', 'Sales',\n",
       "       'Armed-Forces'], dtype=object)"
      ]
     },
     "metadata": {},
     "output_type": "display_data"
    }
   ],
   "source": [
    "# eda 확실히 햇으니 바로 비닝 ㄱㄱ\n",
    "display(X_train['occupation'].unique())\n",
    "# 최빈값 비닝 한거 수정\n",
    "occ_mapping = {\n",
    "    'Machine-op-inspct':'Job-Cat2', 'Other-service':'Job-Cat3', 'Handlers-cleaners':'Job-Cat3',\n",
    "    'Tech-support':'Job-Cat1', 'Transport-moving':'Job-Cat2', 'Farming-fishing':'Job-Cat3',\n",
    "    'Prof-specialty':'Job-Cat1', 'Priv-house-serv':'Job-Cat3', 'Adm-clerical':'Job-Cat3',\n",
    "    'Protective-serv':'Job-Cat1', 'Exec-managerial':'Job-Cat1', #'Unsp_Career':'Job-Cat3',\n",
    "    'Craft-repair':'Job-Cat2', 'Sales':'Job-Cat1', 'Armed-Forces':'Job-Cat1'\n",
    "}\n",
    "### 방법 2 : continuous로 전환\n",
    "# occ_mapping = {\n",
    " #   'Machine-op-inspct':0.1320, 'Other-service':0.0434, 'Handlers-cleaners':0.0665,\n",
    " #      'Tech-support':0.2844, 'Transport-moving':0.2024, 'Farming-fishing':0.1070,\n",
    " #      'Prof-specialty':0.4490, 'Priv-house-serv':0.0205, 'Adm-clerical':0.1331,\n",
    " #      'Protective-serv':0.3217, 'Exec-managerial':0.4819, 'Unsp_Career':0.1049,\n",
    " #      'Craft-repair':0.2258, 'Sales':0.2755, 'Armed-Forces':0.3000\n",
    "# }\n",
    "X_train['occupation'] = X_train['occupation'].map(occ_mapping)"
   ]
  },
  {
   "cell_type": "code",
   "execution_count": 85,
   "id": "cabed532",
   "metadata": {
    "ExecuteTime": {
     "end_time": "2023-05-31T07:00:19.435107Z",
     "start_time": "2023-05-31T07:00:19.421119Z"
    }
   },
   "outputs": [],
   "source": [
    "X_test['occupation'] = X_test['occupation'].map(occ_mapping)"
   ]
  },
  {
   "cell_type": "code",
   "execution_count": 86,
   "id": "b4c9d14e",
   "metadata": {
    "ExecuteTime": {
     "end_time": "2023-05-31T07:00:19.450043Z",
     "start_time": "2023-05-31T07:00:19.437079Z"
    }
   },
   "outputs": [
    {
     "data": {
      "text/plain": [
       "Job-Cat1    8103\n",
       "Job-Cat2    5794\n",
       "Job-Cat3    5640\n",
       "Name: occupation, dtype: int64"
      ]
     },
     "execution_count": 86,
     "metadata": {},
     "output_type": "execute_result"
    }
   ],
   "source": [
    "X_test['occupation'].value_counts()"
   ]
  },
  {
   "cell_type": "markdown",
   "id": "75257e9a",
   "metadata": {},
   "source": [
    "## 'workclass' Binning"
   ]
  },
  {
   "cell_type": "code",
   "execution_count": 87,
   "id": "e844630c",
   "metadata": {
    "ExecuteTime": {
     "end_time": "2023-05-31T07:00:19.466004Z",
     "start_time": "2023-05-31T07:00:19.451040Z"
    }
   },
   "outputs": [
    {
     "data": {
      "text/plain": [
       "array(['Private', 'Self-emp-not-inc', 'Local-gov', 'State-gov',\n",
       "       'Self-emp-inc', 'Federal-gov', 'Without-pay', 'Never-worked'],\n",
       "      dtype=object)"
      ]
     },
     "execution_count": 87,
     "metadata": {},
     "output_type": "execute_result"
    }
   ],
   "source": [
    "X_train['workclass'].unique()"
   ]
  },
  {
   "cell_type": "code",
   "execution_count": 88,
   "id": "d05b74de",
   "metadata": {
    "ExecuteTime": {
     "end_time": "2023-05-31T07:00:19.482017Z",
     "start_time": "2023-05-31T07:00:19.467998Z"
    }
   },
   "outputs": [
    {
     "data": {
      "text/plain": [
       "Self-emp-inc         1\n",
       "Federal-gov          0\n",
       "Local-gov            0\n",
       "Self-emp-not-inc     0\n",
       "State-gov            0\n",
       "Private              0\n",
       "?                    0\n",
       "Without-pay          0\n",
       "Never-worked       NaN\n",
       "Name: workclass, dtype: float64"
      ]
     },
     "execution_count": 88,
     "metadata": {},
     "output_type": "execute_result"
    }
   ],
   "source": [
    "(train['workclass'][train['income']==1].value_counts() / train['workclass'].value_counts()).sort_values(ascending=False)\n",
    "# 이렇게 비닝 해도 될듯 (occupation 처럼)\n",
    "# NaN은 Never-worked가 인컴 1에 아예 못껴서 그러타. 신경 ㄴㄴ"
   ]
  },
  {
   "cell_type": "code",
   "execution_count": 89,
   "id": "72d85e13",
   "metadata": {
    "ExecuteTime": {
     "end_time": "2023-05-31T07:00:19.777014Z",
     "start_time": "2023-05-31T07:00:19.484196Z"
    }
   },
   "outputs": [
    {
     "data": {
      "image/png": "[encoded data removed]",
      "text/plain": [
       "<Figure size 1600x700 with 1 Axes>"
      ]
     },
     "metadata": {},
     "output_type": "display_data"
    }
   ],
   "source": [
    "plt.figure(figsize=(16, 7))\n",
    "seaborn.countplot(data=train, x='workclass', hue='income')\n",
    "plt.show()"
   ]
  },
  {
   "cell_type": "code",
   "execution_count": 90,
   "id": "e57d17d8",
   "metadata": {
    "ExecuteTime": {
     "end_time": "2023-05-31T07:00:19.792969Z",
     "start_time": "2023-05-31T07:00:19.778979Z"
    }
   },
   "outputs": [],
   "source": [
    "## 빠른 비닝 ㄱㄱ\n",
    "## workclass 애매함... 3번째 수정 : 다시 비닝 (비율 근거)\n",
    "class_mapping = {\n",
    "    'Private':'#2ndCat', 'Self-emp-not-inc':'#2ndCat', 'Local-gov':'#2ndCat', 'Unsp_class':'#3rdCat',\n",
    "    'State-gov':'#2ndCat', 'Self-emp-inc':'#1stCat', 'Federal-gov':'#1stCat',\n",
    "    'Without-pay':'#3rdCat', 'Never-worked':'#3rdCat'\n",
    "}\n",
    "\n",
    "## 방법 2 continuous로 만들기 (전체 workclass중 income 1인 비율 : 즉 중요도 만들어주기임)\n",
    "# class_mapping = {\n",
    " #   'Private':0.2194, 'Self-emp-not-inc':0.2790, 'Local-gov':0.2993, 'Unsp_class':0.1052,\n",
    " #   'State-gov':0.2623, 'Self-emp-inc':0.5542, 'Federal-gov':0.3829,\n",
    " #   'Without-pay':0.0833, 'Never-worked':0.0000\n",
    "# }\n",
    "\n",
    "## 방법 3 레이블 엔코딩 \n",
    "# class_mapping = {\n",
    " #   'Private':2, 'Self-emp-not-inc':2, 'Local-gov':2, #'Unsp_class':1,\n",
    " #  'State-gov':2, 'Self-emp-inc':3, 'Federal-gov':3,\n",
    " #   'Without-pay':1, 'Never-worked':1\n",
    "# }\n",
    "\n",
    "# 일단 3분류 하고 평가 루프 돌자 ->> 스코어에 영향 큰듯 해서 위의 continuous로 함\n",
    "X_train['workclass'] = X_train['workclass'].map(class_mapping)"
   ]
  },
  {
   "cell_type": "code",
   "execution_count": 91,
   "id": "fe42b440",
   "metadata": {
    "ExecuteTime": {
     "end_time": "2023-05-31T07:00:19.808930Z",
     "start_time": "2023-05-31T07:00:19.794965Z"
    }
   },
   "outputs": [],
   "source": [
    "X_test['workclass'] = X_test['workclass'].map(class_mapping)"
   ]
  },
  {
   "cell_type": "code",
   "execution_count": 92,
   "id": "70eb2e2c",
   "metadata": {
    "ExecuteTime": {
     "end_time": "2023-05-31T07:00:19.825049Z",
     "start_time": "2023-05-31T07:00:19.810926Z"
    }
   },
   "outputs": [
    {
     "data": {
      "text/plain": [
       "#2ndCat    27447\n",
       "#1stCat     1841\n",
       "#3rdCat       17\n",
       "Name: workclass, dtype: int64"
      ]
     },
     "execution_count": 92,
     "metadata": {},
     "output_type": "execute_result"
    }
   ],
   "source": [
    "X_train['workclass'].value_counts()"
   ]
  },
  {
   "cell_type": "markdown",
   "id": "5a578d5b",
   "metadata": {},
   "source": [
    "## 'race' Binning"
   ]
  },
  {
   "cell_type": "code",
   "execution_count": 93,
   "id": "f991ff05",
   "metadata": {
    "ExecuteTime": {
     "end_time": "2023-05-31T07:00:19.841034Z",
     "start_time": "2023-05-31T07:00:19.827044Z"
    }
   },
   "outputs": [
    {
     "data": {
      "text/plain": [
       "Other                1\n",
       "Black                1\n",
       "Amer-Indian-Eskimo   1\n",
       "Asian-Pac-Islander   1\n",
       "White                1\n",
       "Name: race, dtype: float64"
      ]
     },
     "execution_count": 93,
     "metadata": {},
     "output_type": "execute_result"
    }
   ],
   "source": [
    "# 여기도 애매하면 continuous 수치로 나눠보오자\n",
    "(train['race'][train['income']==0].value_counts() / train['race'].value_counts()).sort_values(ascending=False)"
   ]
  },
  {
   "cell_type": "code",
   "execution_count": 94,
   "id": "b702ec37",
   "metadata": {
    "ExecuteTime": {
     "end_time": "2023-05-31T07:00:19.871959Z",
     "start_time": "2023-05-31T07:00:19.843006Z"
    }
   },
   "outputs": [],
   "source": [
    "train['race'].value_counts()\n",
    "# 인종 일반화 하는건 위험함 (국적을 hispanic / states / misc로 나눴음...)\n",
    "# hispanic이 백인일수도, 라티노일수도 있음\n",
    "# 그래도 할거임\n",
    "# PCPC한 카테고리명으로 바꿀거임 ㅎㅎ ㅋ ㅎㅋㅎㅎㅋㅎㅋㅎㅋㅎㅎㅎㅋㅎ\n",
    "race_mapping = {# 지리네 1st class capitalist pig!!! \n",
    "    'White':'Class1', 'Black':'Class2', 'Asian-Pac-Islander':'Class1',\n",
    "    'Amer-Indian-Eskimo':'Class2', 'Other':'Class2'\n",
    "}\n",
    "\n",
    "# METHOD 2 \n",
    "# race_mapping = { # ex> only 25% of white ppl earns over 50k a year\n",
    " #   'White':0.2559, 'Black':0.1185, 'Asian-Pac-Islander':0.2557,\n",
    " #   'Amer-Indian-Eskimo':0.1241, 'Other':0.1171\n",
    "# }\n",
    "\n",
    "X_train['race'] = X_train['race'].map(race_mapping)\n",
    "X_test['race'] = X_test['race'].map(race_mapping)"
   ]
  },
  {
   "cell_type": "code",
   "execution_count": 95,
   "id": "664d755b",
   "metadata": {
    "ExecuteTime": {
     "end_time": "2023-05-31T07:00:19.887952Z",
     "start_time": "2023-05-31T07:00:19.873957Z"
    }
   },
   "outputs": [
    {
     "data": {
      "text/plain": [
       "array(['Class1', 'Class2'], dtype=object)"
      ]
     },
     "execution_count": 95,
     "metadata": {},
     "output_type": "execute_result"
    }
   ],
   "source": [
    "X_test['race'].unique()"
   ]
  },
  {
   "cell_type": "markdown",
   "id": "78103b28",
   "metadata": {},
   "source": [
    "## 'fnlwgt' Binning"
   ]
  },
  {
   "cell_type": "code",
   "execution_count": 96,
   "id": "34544bcd",
   "metadata": {
    "ExecuteTime": {
     "end_time": "2023-05-31T07:00:19.902948Z",
     "start_time": "2023-05-31T07:00:19.889919Z"
    }
   },
   "outputs": [
    {
     "data": {
      "text/plain": [
       "17       17\n",
       "332      17\n",
       "347      17\n",
       "378      17\n",
       "540      17\n",
       "         ..\n",
       "28773    17\n",
       "28835    17\n",
       "28878    17\n",
       "29054    17\n",
       "29281    17\n",
       "Name: age, Length: 358, dtype: int64"
      ]
     },
     "execution_count": 96,
     "metadata": {},
     "output_type": "execute_result"
    }
   ],
   "source": [
    "X_train['age'][X_train['age']<18] # 16 이하는업다...하긴 "
   ]
  },
  {
   "cell_type": "code",
   "execution_count": 97,
   "id": "d6176f4a",
   "metadata": {
    "ExecuteTime": {
     "end_time": "2023-05-31T07:00:19.917906Z",
     "start_time": "2023-05-31T07:00:19.904908Z"
    }
   },
   "outputs": [],
   "source": [
    "train['std-wgt'] = fnlwgt"
   ]
  },
  {
   "cell_type": "code",
   "execution_count": 98,
   "id": "87cb471f",
   "metadata": {
    "ExecuteTime": {
     "end_time": "2023-05-31T07:00:19.933892Z",
     "start_time": "2023-05-31T07:00:19.919900Z"
    }
   },
   "outputs": [
    {
     "data": {
      "text/html": [
       "<div>\n",
       "<style scoped>\n",
       "    .dataframe tbody tr th:only-of-type {\n",
       "        vertical-align: middle;\n",
       "    }\n",
       "\n",
       "    .dataframe tbody tr th {\n",
       "        vertical-align: top;\n",
       "    }\n",
       "\n",
       "    .dataframe thead th {\n",
       "        text-align: right;\n",
       "    }\n",
       "</style>\n",
       "<table border=\"1\" class=\"dataframe\">\n",
       "  <thead>\n",
       "    <tr style=\"text-align: right;\">\n",
       "      <th></th>\n",
       "      <th>std-wgt</th>\n",
       "      <th>age</th>\n",
       "      <th>income</th>\n",
       "    </tr>\n",
       "  </thead>\n",
       "  <tbody>\n",
       "    <tr>\n",
       "      <th>std-wgt</th>\n",
       "      <td>1</td>\n",
       "      <td>-0</td>\n",
       "      <td>-0</td>\n",
       "    </tr>\n",
       "    <tr>\n",
       "      <th>age</th>\n",
       "      <td>-0</td>\n",
       "      <td>1</td>\n",
       "      <td>0</td>\n",
       "    </tr>\n",
       "    <tr>\n",
       "      <th>income</th>\n",
       "      <td>-0</td>\n",
       "      <td>0</td>\n",
       "      <td>1</td>\n",
       "    </tr>\n",
       "  </tbody>\n",
       "</table>\n",
       "</div>"
      ],
      "text/plain": [
       "         std-wgt  age  income\n",
       "std-wgt        1   -0      -0\n",
       "age           -0    1       0\n",
       "income        -0    0       1"
      ]
     },
     "execution_count": 98,
     "metadata": {},
     "output_type": "execute_result"
    }
   ],
   "source": [
    "train[['std-wgt', 'age', 'race','income']][train['native-country']!='United-States'].corr()"
   ]
  },
  {
   "cell_type": "code",
   "execution_count": 99,
   "id": "075ec984",
   "metadata": {
    "ExecuteTime": {
     "end_time": "2023-05-31T07:00:19.948833Z",
     "start_time": "2023-05-31T07:00:19.934866Z"
    }
   },
   "outputs": [
    {
     "data": {
      "text/plain": [
       "count   29305\n",
       "mean       -0\n",
       "std         1\n",
       "min        -2\n",
       "25%        -1\n",
       "50%        -0\n",
       "75%         0\n",
       "max        12\n",
       "Name: std-wgt, dtype: float64"
      ]
     },
     "execution_count": 99,
     "metadata": {},
     "output_type": "execute_result"
    }
   ],
   "source": [
    "train['std-wgt'].describe()\n",
    "### 저게 1.23이 아니라 12.3이었구만 비닝 다시해!!! ㅠ\n",
    "### 수알못 꺼흡"
   ]
  },
  {
   "cell_type": "code",
   "execution_count": 100,
   "id": "94041cad",
   "metadata": {
    "ExecuteTime": {
     "end_time": "2023-05-31T07:00:19.964905Z",
     "start_time": "2023-05-31T07:00:19.950829Z"
    },
    "scrolled": true
   },
   "outputs": [
    {
     "data": {
      "text/plain": [
       "United-States                 11204\n",
       "Mexico                          489\n",
       "?                               215\n",
       "Cuba                             80\n",
       "Philippines                      66\n",
       "Puerto-Rico                      65\n",
       "Germany                          65\n",
       "El-Salvador                      64\n",
       "Canada                           52\n",
       "Jamaica                          44\n",
       "England                          36\n",
       "Guatemala                        34\n",
       "Haiti                            34\n",
       "Dominican-Republic               30\n",
       "Columbia                         28\n",
       "China                            26\n",
       "Japan                            24\n",
       "Italy                            22\n",
       "India                            21\n",
       "Nicaragua                        21\n",
       "South                            20\n",
       "Poland                           20\n",
       "Iran                             16\n",
       "Vietnam                          16\n",
       "Peru                             16\n",
       "Taiwan                           12\n",
       "Cambodia                         11\n",
       "Portugal                         11\n",
       "Honduras                         10\n",
       "Outlying-US(Guam-USVI-etc)       10\n",
       "Laos                              8\n",
       "France                            8\n",
       "Hong                              8\n",
       "Trinadad&Tobago                   6\n",
       "Greece                            6\n",
       "Ecuador                           5\n",
       "Thailand                          5\n",
       "Hungary                           5\n",
       "Yugoslavia                        5\n",
       "Ireland                           2\n",
       "Scotland                          1\n",
       "Name: native-country, dtype: int64"
      ]
     },
     "execution_count": 100,
     "metadata": {},
     "output_type": "execute_result"
    }
   ],
   "source": [
    "train['native-country'][train['std-wgt']>0].value_counts()"
   ]
  },
  {
   "cell_type": "code",
   "execution_count": 101,
   "id": "1fa2170d",
   "metadata": {
    "ExecuteTime": {
     "end_time": "2023-05-31T07:00:22.104277Z",
     "start_time": "2023-05-31T07:00:19.965903Z"
    }
   },
   "outputs": [
    {
     "data": {
      "text/plain": [
       "<AxesSubplot:xlabel='native-country', ylabel='std-wgt'>"
      ]
     },
     "execution_count": 101,
     "metadata": {},
     "output_type": "execute_result"
    },
    {
     "data": {
      "image/png": "[encoded data removed]",
      "text/plain": [
       "<Figure size 4500x500 with 1 Axes>"
      ]
     },
     "metadata": {},
     "output_type": "display_data"
    }
   ],
   "source": [
    "plt.figure(figsize=(45,5))\n",
    "seaborn.barplot(data=train, x='native-country', y='std-wgt')\n",
    "# 차트에 더블크리꾸 하면 확대댐\n",
    "## 히스패닉이랑 연관 잇는거 맞네"
   ]
  },
  {
   "cell_type": "code",
   "execution_count": 102,
   "id": "3f5a32d9",
   "metadata": {
    "ExecuteTime": {
     "end_time": "2023-05-31T07:00:22.150970Z",
     "start_time": "2023-05-31T07:00:22.107277Z"
    }
   },
   "outputs": [],
   "source": [
    "### standard scaler 처리 된 컬럼을 비닝하자\n",
    "train_fnlwgt = scaler.fit_transform(X_train[['fnlwgt']])\n",
    "test_fnlwgt = scaler.fit_transform(X_test[['fnlwgt']])\n",
    "X_train['std-wgt'] = train_fnlwgt\n",
    "X_test['std-wgt'] = test_fnlwgt\n",
    "\n",
    "### 0이하와 1이상으로 나눠보자...\n",
    "bins = [-2.0, 0.0, 15]\n",
    "labels = ['Low-wgt', 'High-wgt']\n",
    "X_train['binned-wgt'] = pd.cut(x=X_train['std-wgt'], bins=bins, labels=labels)\n",
    "X_test['binned-wgt'] = pd.cut(x=X_test['std-wgt'], bins=bins, labels=labels)\n",
    "\n",
    "#이제 fnlwgt는 안녕\n",
    "# std-wgt는 일단 남겨둔다\n",
    "X_train.drop('fnlwgt', axis=1, inplace=True)\n",
    "X_test.drop('fnlwgt', axis=1, inplace=True)"
   ]
  },
  {
   "cell_type": "code",
   "execution_count": 103,
   "id": "5ec1c632",
   "metadata": {
    "ExecuteTime": {
     "end_time": "2023-05-31T07:00:22.181889Z",
     "start_time": "2023-05-31T07:00:22.152966Z"
    },
    "scrolled": true
   },
   "outputs": [
    {
     "data": {
      "text/html": [
       "<div>\n",
       "<style scoped>\n",
       "    .dataframe tbody tr th:only-of-type {\n",
       "        vertical-align: middle;\n",
       "    }\n",
       "\n",
       "    .dataframe tbody tr th {\n",
       "        vertical-align: top;\n",
       "    }\n",
       "\n",
       "    .dataframe thead th {\n",
       "        text-align: right;\n",
       "    }\n",
       "</style>\n",
       "<table border=\"1\" class=\"dataframe\">\n",
       "  <thead>\n",
       "    <tr style=\"text-align: right;\">\n",
       "      <th></th>\n",
       "      <th>age</th>\n",
       "      <th>workclass</th>\n",
       "      <th>education-num</th>\n",
       "      <th>marital-status</th>\n",
       "      <th>occupation</th>\n",
       "      <th>relationship</th>\n",
       "      <th>race</th>\n",
       "      <th>sex</th>\n",
       "      <th>capital-gain</th>\n",
       "      <th>capital-loss</th>\n",
       "      <th>hours-per-week</th>\n",
       "      <th>native-country</th>\n",
       "      <th>std-wgt</th>\n",
       "      <th>binned-wgt</th>\n",
       "    </tr>\n",
       "  </thead>\n",
       "  <tbody>\n",
       "    <tr>\n",
       "      <th>0</th>\n",
       "      <td>25</td>\n",
       "      <td>#2ndCat</td>\n",
       "      <td>7</td>\n",
       "      <td>Mari-Cat2</td>\n",
       "      <td>Job-Cat2</td>\n",
       "      <td>Self-sufficient</td>\n",
       "      <td>Class1</td>\n",
       "      <td>Male</td>\n",
       "      <td>0</td>\n",
       "      <td>0</td>\n",
       "      <td>40</td>\n",
       "      <td>United-States</td>\n",
       "      <td>0</td>\n",
       "      <td>High-wgt</td>\n",
       "    </tr>\n",
       "    <tr>\n",
       "      <th>1</th>\n",
       "      <td>39</td>\n",
       "      <td>#2ndCat</td>\n",
       "      <td>10</td>\n",
       "      <td>Mari-Cat2</td>\n",
       "      <td>Job-Cat3</td>\n",
       "      <td>Self-sufficient</td>\n",
       "      <td>Class1</td>\n",
       "      <td>Female</td>\n",
       "      <td>0</td>\n",
       "      <td>1721</td>\n",
       "      <td>55</td>\n",
       "      <td>United-States</td>\n",
       "      <td>-1</td>\n",
       "      <td>Low-wgt</td>\n",
       "    </tr>\n",
       "    <tr>\n",
       "      <th>2</th>\n",
       "      <td>35</td>\n",
       "      <td>#2ndCat</td>\n",
       "      <td>13</td>\n",
       "      <td>Mari-Cat3</td>\n",
       "      <td>Job-Cat3</td>\n",
       "      <td>Self-sufficient</td>\n",
       "      <td>Class1</td>\n",
       "      <td>Female</td>\n",
       "      <td>0</td>\n",
       "      <td>0</td>\n",
       "      <td>50</td>\n",
       "      <td>Overseas</td>\n",
       "      <td>0</td>\n",
       "      <td>High-wgt</td>\n",
       "    </tr>\n",
       "    <tr>\n",
       "      <th>3</th>\n",
       "      <td>64</td>\n",
       "      <td>#2ndCat</td>\n",
       "      <td>11</td>\n",
       "      <td>Mari-Cat2</td>\n",
       "      <td>Job-Cat1</td>\n",
       "      <td>Self-sufficient</td>\n",
       "      <td>Class1</td>\n",
       "      <td>Female</td>\n",
       "      <td>0</td>\n",
       "      <td>0</td>\n",
       "      <td>40</td>\n",
       "      <td>United-States</td>\n",
       "      <td>-1</td>\n",
       "      <td>Low-wgt</td>\n",
       "    </tr>\n",
       "    <tr>\n",
       "      <th>4</th>\n",
       "      <td>24</td>\n",
       "      <td>#2ndCat</td>\n",
       "      <td>10</td>\n",
       "      <td>Mari-Cat1</td>\n",
       "      <td>Job-Cat2</td>\n",
       "      <td>Supporting</td>\n",
       "      <td>Class1</td>\n",
       "      <td>Male</td>\n",
       "      <td>0</td>\n",
       "      <td>0</td>\n",
       "      <td>70</td>\n",
       "      <td>United-States</td>\n",
       "      <td>-1</td>\n",
       "      <td>Low-wgt</td>\n",
       "    </tr>\n",
       "    <tr>\n",
       "      <th>...</th>\n",
       "      <td>...</td>\n",
       "      <td>...</td>\n",
       "      <td>...</td>\n",
       "      <td>...</td>\n",
       "      <td>...</td>\n",
       "      <td>...</td>\n",
       "      <td>...</td>\n",
       "      <td>...</td>\n",
       "      <td>...</td>\n",
       "      <td>...</td>\n",
       "      <td>...</td>\n",
       "      <td>...</td>\n",
       "      <td>...</td>\n",
       "      <td>...</td>\n",
       "    </tr>\n",
       "    <tr>\n",
       "      <th>29300</th>\n",
       "      <td>20</td>\n",
       "      <td>#2ndCat</td>\n",
       "      <td>9</td>\n",
       "      <td>Mari-Cat3</td>\n",
       "      <td>Job-Cat1</td>\n",
       "      <td>Non-supporting</td>\n",
       "      <td>Class2</td>\n",
       "      <td>Male</td>\n",
       "      <td>0</td>\n",
       "      <td>0</td>\n",
       "      <td>40</td>\n",
       "      <td>Hispanic</td>\n",
       "      <td>-1</td>\n",
       "      <td>Low-wgt</td>\n",
       "    </tr>\n",
       "    <tr>\n",
       "      <th>29301</th>\n",
       "      <td>21</td>\n",
       "      <td>#2ndCat</td>\n",
       "      <td>9</td>\n",
       "      <td>Mari-Cat3</td>\n",
       "      <td>Job-Cat1</td>\n",
       "      <td>Non-supporting</td>\n",
       "      <td>Class2</td>\n",
       "      <td>Male</td>\n",
       "      <td>0</td>\n",
       "      <td>0</td>\n",
       "      <td>40</td>\n",
       "      <td>United-States</td>\n",
       "      <td>2</td>\n",
       "      <td>High-wgt</td>\n",
       "    </tr>\n",
       "    <tr>\n",
       "      <th>29302</th>\n",
       "      <td>18</td>\n",
       "      <td>#2ndCat</td>\n",
       "      <td>6</td>\n",
       "      <td>Mari-Cat3</td>\n",
       "      <td>Job-Cat3</td>\n",
       "      <td>Non-supporting</td>\n",
       "      <td>Class1</td>\n",
       "      <td>Male</td>\n",
       "      <td>0</td>\n",
       "      <td>0</td>\n",
       "      <td>40</td>\n",
       "      <td>United-States</td>\n",
       "      <td>1</td>\n",
       "      <td>High-wgt</td>\n",
       "    </tr>\n",
       "    <tr>\n",
       "      <th>29303</th>\n",
       "      <td>33</td>\n",
       "      <td>#2ndCat</td>\n",
       "      <td>7</td>\n",
       "      <td>Mari-Cat3</td>\n",
       "      <td>Job-Cat2</td>\n",
       "      <td>Self-sufficient</td>\n",
       "      <td>Class1</td>\n",
       "      <td>Male</td>\n",
       "      <td>0</td>\n",
       "      <td>0</td>\n",
       "      <td>65</td>\n",
       "      <td>United-States</td>\n",
       "      <td>-0</td>\n",
       "      <td>Low-wgt</td>\n",
       "    </tr>\n",
       "    <tr>\n",
       "      <th>29304</th>\n",
       "      <td>65</td>\n",
       "      <td>#2ndCat</td>\n",
       "      <td>9</td>\n",
       "      <td>Mari-Cat2</td>\n",
       "      <td>Job-Cat1</td>\n",
       "      <td>Self-sufficient</td>\n",
       "      <td>Class1</td>\n",
       "      <td>Female</td>\n",
       "      <td>0</td>\n",
       "      <td>0</td>\n",
       "      <td>40</td>\n",
       "      <td>United-States</td>\n",
       "      <td>-1</td>\n",
       "      <td>Low-wgt</td>\n",
       "    </tr>\n",
       "  </tbody>\n",
       "</table>\n",
       "<p>29305 rows × 14 columns</p>\n",
       "</div>"
      ],
      "text/plain": [
       "       age workclass  education-num marital-status occupation  \\\n",
       "0       25   #2ndCat              7      Mari-Cat2   Job-Cat2   \n",
       "1       39   #2ndCat             10      Mari-Cat2   Job-Cat3   \n",
       "2       35   #2ndCat             13      Mari-Cat3   Job-Cat3   \n",
       "3       64   #2ndCat             11      Mari-Cat2   Job-Cat1   \n",
       "4       24   #2ndCat             10      Mari-Cat1   Job-Cat2   \n",
       "...    ...       ...            ...            ...        ...   \n",
       "29300   20   #2ndCat              9      Mari-Cat3   Job-Cat1   \n",
       "29301   21   #2ndCat              9      Mari-Cat3   Job-Cat1   \n",
       "29302   18   #2ndCat              6      Mari-Cat3   Job-Cat3   \n",
       "29303   33   #2ndCat              7      Mari-Cat3   Job-Cat2   \n",
       "29304   65   #2ndCat              9      Mari-Cat2   Job-Cat1   \n",
       "\n",
       "          relationship    race     sex  capital-gain  capital-loss  \\\n",
       "0      Self-sufficient  Class1    Male             0             0   \n",
       "1      Self-sufficient  Class1  Female             0          1721   \n",
       "2      Self-sufficient  Class1  Female             0             0   \n",
       "3      Self-sufficient  Class1  Female             0             0   \n",
       "4           Supporting  Class1    Male             0             0   \n",
       "...                ...     ...     ...           ...           ...   \n",
       "29300   Non-supporting  Class2    Male             0             0   \n",
       "29301   Non-supporting  Class2    Male             0             0   \n",
       "29302   Non-supporting  Class1    Male             0             0   \n",
       "29303  Self-sufficient  Class1    Male             0             0   \n",
       "29304  Self-sufficient  Class1  Female             0             0   \n",
       "\n",
       "       hours-per-week native-country  std-wgt binned-wgt  \n",
       "0                  40  United-States        0   High-wgt  \n",
       "1                  55  United-States       -1    Low-wgt  \n",
       "2                  50       Overseas        0   High-wgt  \n",
       "3                  40  United-States       -1    Low-wgt  \n",
       "4                  70  United-States       -1    Low-wgt  \n",
       "...               ...            ...      ...        ...  \n",
       "29300              40       Hispanic       -1    Low-wgt  \n",
       "29301              40  United-States        2   High-wgt  \n",
       "29302              40  United-States        1   High-wgt  \n",
       "29303              65  United-States       -0    Low-wgt  \n",
       "29304              40  United-States       -1    Low-wgt  \n",
       "\n",
       "[29305 rows x 14 columns]"
      ]
     },
     "execution_count": 103,
     "metadata": {},
     "output_type": "execute_result"
    }
   ],
   "source": [
    "X_train"
   ]
  },
  {
   "cell_type": "markdown",
   "id": "8d3f06b8",
   "metadata": {},
   "source": [
    "## 'capital-loss, capital-gain' Binning"
   ]
  },
  {
   "cell_type": "code",
   "execution_count": 104,
   "id": "27bc739f",
   "metadata": {
    "ExecuteTime": {
     "end_time": "2023-05-31T07:00:22.212830Z",
     "start_time": "2023-05-31T07:00:22.183885Z"
    }
   },
   "outputs": [
    {
     "data": {
      "text/html": [
       "<div>\n",
       "<style scoped>\n",
       "    .dataframe tbody tr th:only-of-type {\n",
       "        vertical-align: middle;\n",
       "    }\n",
       "\n",
       "    .dataframe tbody tr th {\n",
       "        vertical-align: top;\n",
       "    }\n",
       "\n",
       "    .dataframe thead th {\n",
       "        text-align: right;\n",
       "    }\n",
       "</style>\n",
       "<table border=\"1\" class=\"dataframe\">\n",
       "  <thead>\n",
       "    <tr style=\"text-align: right;\">\n",
       "      <th></th>\n",
       "      <th>income</th>\n",
       "      <th>capital-gain</th>\n",
       "      <th>capital-loss</th>\n",
       "    </tr>\n",
       "  </thead>\n",
       "  <tbody>\n",
       "    <tr>\n",
       "      <th>count</th>\n",
       "      <td>2422</td>\n",
       "      <td>2422</td>\n",
       "      <td>2422</td>\n",
       "    </tr>\n",
       "    <tr>\n",
       "      <th>mean</th>\n",
       "      <td>1</td>\n",
       "      <td>13122</td>\n",
       "      <td>0</td>\n",
       "    </tr>\n",
       "    <tr>\n",
       "      <th>std</th>\n",
       "      <td>0</td>\n",
       "      <td>22848</td>\n",
       "      <td>0</td>\n",
       "    </tr>\n",
       "    <tr>\n",
       "      <th>min</th>\n",
       "      <td>0</td>\n",
       "      <td>114</td>\n",
       "      <td>0</td>\n",
       "    </tr>\n",
       "    <tr>\n",
       "      <th>25%</th>\n",
       "      <td>0</td>\n",
       "      <td>3411</td>\n",
       "      <td>0</td>\n",
       "    </tr>\n",
       "    <tr>\n",
       "      <th>50%</th>\n",
       "      <td>1</td>\n",
       "      <td>7074</td>\n",
       "      <td>0</td>\n",
       "    </tr>\n",
       "    <tr>\n",
       "      <th>75%</th>\n",
       "      <td>1</td>\n",
       "      <td>13550</td>\n",
       "      <td>0</td>\n",
       "    </tr>\n",
       "    <tr>\n",
       "      <th>max</th>\n",
       "      <td>1</td>\n",
       "      <td>99999</td>\n",
       "      <td>0</td>\n",
       "    </tr>\n",
       "  </tbody>\n",
       "</table>\n",
       "</div>"
      ],
      "text/plain": [
       "       income  capital-gain  capital-loss\n",
       "count    2422          2422          2422\n",
       "mean        1         13122             0\n",
       "std         0         22848             0\n",
       "min         0           114             0\n",
       "25%         0          3411             0\n",
       "50%         1          7074             0\n",
       "75%         1         13550             0\n",
       "max         1         99999             0"
      ]
     },
     "execution_count": 104,
     "metadata": {},
     "output_type": "execute_result"
    }
   ],
   "source": [
    "train[['income','capital-gain', 'capital-loss']][train['capital-gain']>0].describe()\n",
    "# loss면 gain이 없고 gain이 있으면 loss 가 없음!"
   ]
  },
  {
   "cell_type": "code",
   "execution_count": 105,
   "id": "b71c5e1a",
   "metadata": {
    "ExecuteTime": {
     "end_time": "2023-05-31T07:00:22.228763Z",
     "start_time": "2023-05-31T07:00:22.214802Z"
    }
   },
   "outputs": [
    {
     "data": {
      "text/plain": [
       "income  capital-gain  capital-loss\n",
       "1       15024         0               300\n",
       "        7688          0               240\n",
       "        7298          0               204\n",
       "        99999         0               148\n",
       "        3103          0                88\n",
       "        5178          0                86\n",
       "        4386          0                56\n",
       "        8614          0                50\n",
       "        27828         0                39\n",
       "        10520         0                35\n",
       "        13550         0                31\n",
       "        20051         0                30\n",
       "        14084         0                27\n",
       "        4787          0                22\n",
       "        14344         0                19\n",
       "        9386          0                16\n",
       "        6418          0                13\n",
       "        10605         0                11\n",
       "        7430          0                10\n",
       "        25236         0                10\n",
       "        4934          0                 8\n",
       "        15831         0                 7\n",
       "        6514          0                 6\n",
       "        15020         0                 6\n",
       "        7896          0                 3\n",
       "        5556          0                 3\n",
       "        11678         0                 3\n",
       "        4687          0                 3\n",
       "        25124         0                 3\n",
       "        6612          0                 1\n",
       "        18481         0                 1\n",
       "        6097          0                 1\n",
       "dtype: int64"
      ]
     },
     "execution_count": 105,
     "metadata": {},
     "output_type": "execute_result"
    }
   ],
   "source": [
    "train[['income','capital-gain', 'capital-loss']][(train['capital-gain']>train['capital-loss']) & (train['income']==1)].value_counts()\n",
    "# continuous ... 지출이 낮았을수록 소득 높음 - categorize 하지 말고 피쳐엔지니어링 ㅎㅏ자"
   ]
  },
  {
   "cell_type": "code",
   "execution_count": 106,
   "id": "28fe81ae",
   "metadata": {
    "ExecuteTime": {
     "end_time": "2023-05-31T07:00:23.440867Z",
     "start_time": "2023-05-31T07:00:22.230757Z"
    }
   },
   "outputs": [],
   "source": [
    "# feature engineering 방법 : loss 컬럼은 음수로 만들어서 한 컬럼으로 합칠거임\n",
    "# gain이 0이면 loss가 0이 아니고, continuous한 컬럼이므로 가능함\n",
    "temp_arr = []\n",
    "for i in range(X_train['capital-gain'].shape[0]):\n",
    "    if X_train['capital-gain'][i] > X_train['capital-loss'][i]:\n",
    "        temp_arr.append(X_train['capital-gain'][i])\n",
    "    elif X_train['capital-gain'][i] < X_train['capital-loss'][i]:\n",
    "        temp_arr.append(X_train['capital-loss'][i]*-1)\n",
    "    else:\n",
    "        temp_arr.append(0)\n",
    "X_train['cpt-gain-loss'] = temp_arr\n",
    "\n",
    "temp_arr = []\n",
    "for i in range(X_test['capital-gain'].shape[0]):\n",
    "    if X_test['capital-gain'][i] > X_test['capital-loss'][i]:\n",
    "        temp_arr.append(X_test['capital-gain'][i])\n",
    "    elif X_test['capital-gain'][i] < X_test['capital-loss'][i]:\n",
    "        temp_arr.append(X_test['capital-loss'][i]*-1)\n",
    "    else:\n",
    "        temp_arr.append(0)\n",
    "X_test['cpt-gain-loss'] = temp_arr"
   ]
  },
  {
   "cell_type": "code",
   "execution_count": 107,
   "id": "78c2a4b0",
   "metadata": {
    "ExecuteTime": {
     "end_time": "2023-05-31T07:00:23.456879Z",
     "start_time": "2023-05-31T07:00:23.442742Z"
    }
   },
   "outputs": [],
   "source": [
    "X_train.drop(['capital-gain', 'capital-loss'], axis=1, inplace=True)\n",
    "X_test.drop(['capital-gain', 'capital-loss'], axis=1, inplace=True)"
   ]
  },
  {
   "cell_type": "code",
   "execution_count": 108,
   "id": "024149f0",
   "metadata": {
    "ExecuteTime": {
     "end_time": "2023-05-31T07:00:23.488880Z",
     "start_time": "2023-05-31T07:00:23.458847Z"
    }
   },
   "outputs": [
    {
     "data": {
      "text/html": [
       "<div>\n",
       "<style scoped>\n",
       "    .dataframe tbody tr th:only-of-type {\n",
       "        vertical-align: middle;\n",
       "    }\n",
       "\n",
       "    .dataframe tbody tr th {\n",
       "        vertical-align: top;\n",
       "    }\n",
       "\n",
       "    .dataframe thead th {\n",
       "        text-align: right;\n",
       "    }\n",
       "</style>\n",
       "<table border=\"1\" class=\"dataframe\">\n",
       "  <thead>\n",
       "    <tr style=\"text-align: right;\">\n",
       "      <th></th>\n",
       "      <th>age</th>\n",
       "      <th>workclass</th>\n",
       "      <th>education-num</th>\n",
       "      <th>marital-status</th>\n",
       "      <th>occupation</th>\n",
       "      <th>relationship</th>\n",
       "      <th>race</th>\n",
       "      <th>sex</th>\n",
       "      <th>hours-per-week</th>\n",
       "      <th>native-country</th>\n",
       "      <th>std-wgt</th>\n",
       "      <th>binned-wgt</th>\n",
       "      <th>cpt-gain-loss</th>\n",
       "    </tr>\n",
       "  </thead>\n",
       "  <tbody>\n",
       "    <tr>\n",
       "      <th>0</th>\n",
       "      <td>25</td>\n",
       "      <td>#2ndCat</td>\n",
       "      <td>7</td>\n",
       "      <td>Mari-Cat2</td>\n",
       "      <td>Job-Cat2</td>\n",
       "      <td>Self-sufficient</td>\n",
       "      <td>Class1</td>\n",
       "      <td>Male</td>\n",
       "      <td>40</td>\n",
       "      <td>United-States</td>\n",
       "      <td>0</td>\n",
       "      <td>High-wgt</td>\n",
       "      <td>0</td>\n",
       "    </tr>\n",
       "    <tr>\n",
       "      <th>1</th>\n",
       "      <td>39</td>\n",
       "      <td>#2ndCat</td>\n",
       "      <td>10</td>\n",
       "      <td>Mari-Cat2</td>\n",
       "      <td>Job-Cat3</td>\n",
       "      <td>Self-sufficient</td>\n",
       "      <td>Class1</td>\n",
       "      <td>Female</td>\n",
       "      <td>55</td>\n",
       "      <td>United-States</td>\n",
       "      <td>-1</td>\n",
       "      <td>Low-wgt</td>\n",
       "      <td>-1721</td>\n",
       "    </tr>\n",
       "    <tr>\n",
       "      <th>2</th>\n",
       "      <td>35</td>\n",
       "      <td>#2ndCat</td>\n",
       "      <td>13</td>\n",
       "      <td>Mari-Cat3</td>\n",
       "      <td>Job-Cat3</td>\n",
       "      <td>Self-sufficient</td>\n",
       "      <td>Class1</td>\n",
       "      <td>Female</td>\n",
       "      <td>50</td>\n",
       "      <td>Overseas</td>\n",
       "      <td>0</td>\n",
       "      <td>High-wgt</td>\n",
       "      <td>0</td>\n",
       "    </tr>\n",
       "    <tr>\n",
       "      <th>3</th>\n",
       "      <td>64</td>\n",
       "      <td>#2ndCat</td>\n",
       "      <td>11</td>\n",
       "      <td>Mari-Cat2</td>\n",
       "      <td>Job-Cat1</td>\n",
       "      <td>Self-sufficient</td>\n",
       "      <td>Class1</td>\n",
       "      <td>Female</td>\n",
       "      <td>40</td>\n",
       "      <td>United-States</td>\n",
       "      <td>-1</td>\n",
       "      <td>Low-wgt</td>\n",
       "      <td>0</td>\n",
       "    </tr>\n",
       "    <tr>\n",
       "      <th>4</th>\n",
       "      <td>24</td>\n",
       "      <td>#2ndCat</td>\n",
       "      <td>10</td>\n",
       "      <td>Mari-Cat1</td>\n",
       "      <td>Job-Cat2</td>\n",
       "      <td>Supporting</td>\n",
       "      <td>Class1</td>\n",
       "      <td>Male</td>\n",
       "      <td>70</td>\n",
       "      <td>United-States</td>\n",
       "      <td>-1</td>\n",
       "      <td>Low-wgt</td>\n",
       "      <td>0</td>\n",
       "    </tr>\n",
       "    <tr>\n",
       "      <th>...</th>\n",
       "      <td>...</td>\n",
       "      <td>...</td>\n",
       "      <td>...</td>\n",
       "      <td>...</td>\n",
       "      <td>...</td>\n",
       "      <td>...</td>\n",
       "      <td>...</td>\n",
       "      <td>...</td>\n",
       "      <td>...</td>\n",
       "      <td>...</td>\n",
       "      <td>...</td>\n",
       "      <td>...</td>\n",
       "      <td>...</td>\n",
       "    </tr>\n",
       "    <tr>\n",
       "      <th>29300</th>\n",
       "      <td>20</td>\n",
       "      <td>#2ndCat</td>\n",
       "      <td>9</td>\n",
       "      <td>Mari-Cat3</td>\n",
       "      <td>Job-Cat1</td>\n",
       "      <td>Non-supporting</td>\n",
       "      <td>Class2</td>\n",
       "      <td>Male</td>\n",
       "      <td>40</td>\n",
       "      <td>Hispanic</td>\n",
       "      <td>-1</td>\n",
       "      <td>Low-wgt</td>\n",
       "      <td>0</td>\n",
       "    </tr>\n",
       "    <tr>\n",
       "      <th>29301</th>\n",
       "      <td>21</td>\n",
       "      <td>#2ndCat</td>\n",
       "      <td>9</td>\n",
       "      <td>Mari-Cat3</td>\n",
       "      <td>Job-Cat1</td>\n",
       "      <td>Non-supporting</td>\n",
       "      <td>Class2</td>\n",
       "      <td>Male</td>\n",
       "      <td>40</td>\n",
       "      <td>United-States</td>\n",
       "      <td>2</td>\n",
       "      <td>High-wgt</td>\n",
       "      <td>0</td>\n",
       "    </tr>\n",
       "    <tr>\n",
       "      <th>29302</th>\n",
       "      <td>18</td>\n",
       "      <td>#2ndCat</td>\n",
       "      <td>6</td>\n",
       "      <td>Mari-Cat3</td>\n",
       "      <td>Job-Cat3</td>\n",
       "      <td>Non-supporting</td>\n",
       "      <td>Class1</td>\n",
       "      <td>Male</td>\n",
       "      <td>40</td>\n",
       "      <td>United-States</td>\n",
       "      <td>1</td>\n",
       "      <td>High-wgt</td>\n",
       "      <td>0</td>\n",
       "    </tr>\n",
       "    <tr>\n",
       "      <th>29303</th>\n",
       "      <td>33</td>\n",
       "      <td>#2ndCat</td>\n",
       "      <td>7</td>\n",
       "      <td>Mari-Cat3</td>\n",
       "      <td>Job-Cat2</td>\n",
       "      <td>Self-sufficient</td>\n",
       "      <td>Class1</td>\n",
       "      <td>Male</td>\n",
       "      <td>65</td>\n",
       "      <td>United-States</td>\n",
       "      <td>-0</td>\n",
       "      <td>Low-wgt</td>\n",
       "      <td>0</td>\n",
       "    </tr>\n",
       "    <tr>\n",
       "      <th>29304</th>\n",
       "      <td>65</td>\n",
       "      <td>#2ndCat</td>\n",
       "      <td>9</td>\n",
       "      <td>Mari-Cat2</td>\n",
       "      <td>Job-Cat1</td>\n",
       "      <td>Self-sufficient</td>\n",
       "      <td>Class1</td>\n",
       "      <td>Female</td>\n",
       "      <td>40</td>\n",
       "      <td>United-States</td>\n",
       "      <td>-1</td>\n",
       "      <td>Low-wgt</td>\n",
       "      <td>0</td>\n",
       "    </tr>\n",
       "  </tbody>\n",
       "</table>\n",
       "<p>29305 rows × 13 columns</p>\n",
       "</div>"
      ],
      "text/plain": [
       "       age workclass  education-num marital-status occupation  \\\n",
       "0       25   #2ndCat              7      Mari-Cat2   Job-Cat2   \n",
       "1       39   #2ndCat             10      Mari-Cat2   Job-Cat3   \n",
       "2       35   #2ndCat             13      Mari-Cat3   Job-Cat3   \n",
       "3       64   #2ndCat             11      Mari-Cat2   Job-Cat1   \n",
       "4       24   #2ndCat             10      Mari-Cat1   Job-Cat2   \n",
       "...    ...       ...            ...            ...        ...   \n",
       "29300   20   #2ndCat              9      Mari-Cat3   Job-Cat1   \n",
       "29301   21   #2ndCat              9      Mari-Cat3   Job-Cat1   \n",
       "29302   18   #2ndCat              6      Mari-Cat3   Job-Cat3   \n",
       "29303   33   #2ndCat              7      Mari-Cat3   Job-Cat2   \n",
       "29304   65   #2ndCat              9      Mari-Cat2   Job-Cat1   \n",
       "\n",
       "          relationship    race     sex  hours-per-week native-country  \\\n",
       "0      Self-sufficient  Class1    Male              40  United-States   \n",
       "1      Self-sufficient  Class1  Female              55  United-States   \n",
       "2      Self-sufficient  Class1  Female              50       Overseas   \n",
       "3      Self-sufficient  Class1  Female              40  United-States   \n",
       "4           Supporting  Class1    Male              70  United-States   \n",
       "...                ...     ...     ...             ...            ...   \n",
       "29300   Non-supporting  Class2    Male              40       Hispanic   \n",
       "29301   Non-supporting  Class2    Male              40  United-States   \n",
       "29302   Non-supporting  Class1    Male              40  United-States   \n",
       "29303  Self-sufficient  Class1    Male              65  United-States   \n",
       "29304  Self-sufficient  Class1  Female              40  United-States   \n",
       "\n",
       "       std-wgt binned-wgt  cpt-gain-loss  \n",
       "0            0   High-wgt              0  \n",
       "1           -1    Low-wgt          -1721  \n",
       "2            0   High-wgt              0  \n",
       "3           -1    Low-wgt              0  \n",
       "4           -1    Low-wgt              0  \n",
       "...        ...        ...            ...  \n",
       "29300       -1    Low-wgt              0  \n",
       "29301        2   High-wgt              0  \n",
       "29302        1   High-wgt              0  \n",
       "29303       -0    Low-wgt              0  \n",
       "29304       -1    Low-wgt              0  \n",
       "\n",
       "[29305 rows x 13 columns]"
      ]
     },
     "execution_count": 108,
     "metadata": {},
     "output_type": "execute_result"
    }
   ],
   "source": [
    "X_train"
   ]
  },
  {
   "cell_type": "markdown",
   "id": "5fa7e3ab",
   "metadata": {},
   "source": [
    "<hr style=\"background-color:salmon; height:2px;\">\n",
    "<hr style=\"background-color:orange; height:2px\">\n",
    "\n",
    "- 피쳐엔지니어링 꾂\n",
    "\n",
    "- 엔코딩 시작\n",
    "\n",
    "<hr style=\"background-color:skyblue; height:2px;\">\n",
    "<hr style=\"background-color:pink; height:2px;\">"
   ]
  },
  {
   "cell_type": "markdown",
   "id": "f557e3e3",
   "metadata": {},
   "source": [
    "# 엔코딩\n",
    "    - One-Hot"
   ]
  },
  {
   "cell_type": "code",
   "execution_count": 109,
   "id": "7e6ccdf0",
   "metadata": {
    "ExecuteTime": {
     "end_time": "2023-05-31T07:00:23.536054Z",
     "start_time": "2023-05-31T07:00:23.490850Z"
    }
   },
   "outputs": [],
   "source": [
    "X_train = pd.get_dummies(X_train)\n",
    "X_test = pd.get_dummies(X_test)"
   ]
  },
  {
   "cell_type": "code",
   "execution_count": 110,
   "id": "daf435e0",
   "metadata": {
    "ExecuteTime": {
     "end_time": "2023-05-31T07:00:23.566995Z",
     "start_time": "2023-05-31T07:00:23.538050Z"
    }
   },
   "outputs": [
    {
     "data": {
      "text/html": [
       "<div>\n",
       "<style scoped>\n",
       "    .dataframe tbody tr th:only-of-type {\n",
       "        vertical-align: middle;\n",
       "    }\n",
       "\n",
       "    .dataframe tbody tr th {\n",
       "        vertical-align: top;\n",
       "    }\n",
       "\n",
       "    .dataframe thead th {\n",
       "        text-align: right;\n",
       "    }\n",
       "</style>\n",
       "<table border=\"1\" class=\"dataframe\">\n",
       "  <thead>\n",
       "    <tr style=\"text-align: right;\">\n",
       "      <th></th>\n",
       "      <th>age</th>\n",
       "      <th>education-num</th>\n",
       "      <th>hours-per-week</th>\n",
       "      <th>std-wgt</th>\n",
       "      <th>cpt-gain-loss</th>\n",
       "      <th>workclass_#1stCat</th>\n",
       "      <th>workclass_#2ndCat</th>\n",
       "      <th>workclass_#3rdCat</th>\n",
       "      <th>marital-status_Mari-Cat1</th>\n",
       "      <th>marital-status_Mari-Cat2</th>\n",
       "      <th>...</th>\n",
       "      <th>relationship_Supporting</th>\n",
       "      <th>race_Class1</th>\n",
       "      <th>race_Class2</th>\n",
       "      <th>sex_Female</th>\n",
       "      <th>sex_Male</th>\n",
       "      <th>native-country_Hispanic</th>\n",
       "      <th>native-country_Overseas</th>\n",
       "      <th>native-country_United-States</th>\n",
       "      <th>binned-wgt_Low-wgt</th>\n",
       "      <th>binned-wgt_High-wgt</th>\n",
       "    </tr>\n",
       "  </thead>\n",
       "  <tbody>\n",
       "    <tr>\n",
       "      <th>0</th>\n",
       "      <td>25</td>\n",
       "      <td>7</td>\n",
       "      <td>40</td>\n",
       "      <td>0</td>\n",
       "      <td>0</td>\n",
       "      <td>0</td>\n",
       "      <td>1</td>\n",
       "      <td>0</td>\n",
       "      <td>0</td>\n",
       "      <td>1</td>\n",
       "      <td>...</td>\n",
       "      <td>0</td>\n",
       "      <td>1</td>\n",
       "      <td>0</td>\n",
       "      <td>0</td>\n",
       "      <td>1</td>\n",
       "      <td>0</td>\n",
       "      <td>0</td>\n",
       "      <td>1</td>\n",
       "      <td>0</td>\n",
       "      <td>1</td>\n",
       "    </tr>\n",
       "    <tr>\n",
       "      <th>1</th>\n",
       "      <td>39</td>\n",
       "      <td>10</td>\n",
       "      <td>55</td>\n",
       "      <td>-1</td>\n",
       "      <td>-1721</td>\n",
       "      <td>0</td>\n",
       "      <td>1</td>\n",
       "      <td>0</td>\n",
       "      <td>0</td>\n",
       "      <td>1</td>\n",
       "      <td>...</td>\n",
       "      <td>0</td>\n",
       "      <td>1</td>\n",
       "      <td>0</td>\n",
       "      <td>1</td>\n",
       "      <td>0</td>\n",
       "      <td>0</td>\n",
       "      <td>0</td>\n",
       "      <td>1</td>\n",
       "      <td>1</td>\n",
       "      <td>0</td>\n",
       "    </tr>\n",
       "    <tr>\n",
       "      <th>2</th>\n",
       "      <td>35</td>\n",
       "      <td>13</td>\n",
       "      <td>50</td>\n",
       "      <td>0</td>\n",
       "      <td>0</td>\n",
       "      <td>0</td>\n",
       "      <td>1</td>\n",
       "      <td>0</td>\n",
       "      <td>0</td>\n",
       "      <td>0</td>\n",
       "      <td>...</td>\n",
       "      <td>0</td>\n",
       "      <td>1</td>\n",
       "      <td>0</td>\n",
       "      <td>1</td>\n",
       "      <td>0</td>\n",
       "      <td>0</td>\n",
       "      <td>1</td>\n",
       "      <td>0</td>\n",
       "      <td>0</td>\n",
       "      <td>1</td>\n",
       "    </tr>\n",
       "    <tr>\n",
       "      <th>3</th>\n",
       "      <td>64</td>\n",
       "      <td>11</td>\n",
       "      <td>40</td>\n",
       "      <td>-1</td>\n",
       "      <td>0</td>\n",
       "      <td>0</td>\n",
       "      <td>1</td>\n",
       "      <td>0</td>\n",
       "      <td>0</td>\n",
       "      <td>1</td>\n",
       "      <td>...</td>\n",
       "      <td>0</td>\n",
       "      <td>1</td>\n",
       "      <td>0</td>\n",
       "      <td>1</td>\n",
       "      <td>0</td>\n",
       "      <td>0</td>\n",
       "      <td>0</td>\n",
       "      <td>1</td>\n",
       "      <td>1</td>\n",
       "      <td>0</td>\n",
       "    </tr>\n",
       "    <tr>\n",
       "      <th>4</th>\n",
       "      <td>24</td>\n",
       "      <td>10</td>\n",
       "      <td>70</td>\n",
       "      <td>-1</td>\n",
       "      <td>0</td>\n",
       "      <td>0</td>\n",
       "      <td>1</td>\n",
       "      <td>0</td>\n",
       "      <td>1</td>\n",
       "      <td>0</td>\n",
       "      <td>...</td>\n",
       "      <td>1</td>\n",
       "      <td>1</td>\n",
       "      <td>0</td>\n",
       "      <td>0</td>\n",
       "      <td>1</td>\n",
       "      <td>0</td>\n",
       "      <td>0</td>\n",
       "      <td>1</td>\n",
       "      <td>1</td>\n",
       "      <td>0</td>\n",
       "    </tr>\n",
       "    <tr>\n",
       "      <th>...</th>\n",
       "      <td>...</td>\n",
       "      <td>...</td>\n",
       "      <td>...</td>\n",
       "      <td>...</td>\n",
       "      <td>...</td>\n",
       "      <td>...</td>\n",
       "      <td>...</td>\n",
       "      <td>...</td>\n",
       "      <td>...</td>\n",
       "      <td>...</td>\n",
       "      <td>...</td>\n",
       "      <td>...</td>\n",
       "      <td>...</td>\n",
       "      <td>...</td>\n",
       "      <td>...</td>\n",
       "      <td>...</td>\n",
       "      <td>...</td>\n",
       "      <td>...</td>\n",
       "      <td>...</td>\n",
       "      <td>...</td>\n",
       "      <td>...</td>\n",
       "    </tr>\n",
       "    <tr>\n",
       "      <th>29300</th>\n",
       "      <td>20</td>\n",
       "      <td>9</td>\n",
       "      <td>40</td>\n",
       "      <td>-1</td>\n",
       "      <td>0</td>\n",
       "      <td>0</td>\n",
       "      <td>1</td>\n",
       "      <td>0</td>\n",
       "      <td>0</td>\n",
       "      <td>0</td>\n",
       "      <td>...</td>\n",
       "      <td>0</td>\n",
       "      <td>0</td>\n",
       "      <td>1</td>\n",
       "      <td>0</td>\n",
       "      <td>1</td>\n",
       "      <td>1</td>\n",
       "      <td>0</td>\n",
       "      <td>0</td>\n",
       "      <td>1</td>\n",
       "      <td>0</td>\n",
       "    </tr>\n",
       "    <tr>\n",
       "      <th>29301</th>\n",
       "      <td>21</td>\n",
       "      <td>9</td>\n",
       "      <td>40</td>\n",
       "      <td>2</td>\n",
       "      <td>0</td>\n",
       "      <td>0</td>\n",
       "      <td>1</td>\n",
       "      <td>0</td>\n",
       "      <td>0</td>\n",
       "      <td>0</td>\n",
       "      <td>...</td>\n",
       "      <td>0</td>\n",
       "      <td>0</td>\n",
       "      <td>1</td>\n",
       "      <td>0</td>\n",
       "      <td>1</td>\n",
       "      <td>0</td>\n",
       "      <td>0</td>\n",
       "      <td>1</td>\n",
       "      <td>0</td>\n",
       "      <td>1</td>\n",
       "    </tr>\n",
       "    <tr>\n",
       "      <th>29302</th>\n",
       "      <td>18</td>\n",
       "      <td>6</td>\n",
       "      <td>40</td>\n",
       "      <td>1</td>\n",
       "      <td>0</td>\n",
       "      <td>0</td>\n",
       "      <td>1</td>\n",
       "      <td>0</td>\n",
       "      <td>0</td>\n",
       "      <td>0</td>\n",
       "      <td>...</td>\n",
       "      <td>0</td>\n",
       "      <td>1</td>\n",
       "      <td>0</td>\n",
       "      <td>0</td>\n",
       "      <td>1</td>\n",
       "      <td>0</td>\n",
       "      <td>0</td>\n",
       "      <td>1</td>\n",
       "      <td>0</td>\n",
       "      <td>1</td>\n",
       "    </tr>\n",
       "    <tr>\n",
       "      <th>29303</th>\n",
       "      <td>33</td>\n",
       "      <td>7</td>\n",
       "      <td>65</td>\n",
       "      <td>-0</td>\n",
       "      <td>0</td>\n",
       "      <td>0</td>\n",
       "      <td>1</td>\n",
       "      <td>0</td>\n",
       "      <td>0</td>\n",
       "      <td>0</td>\n",
       "      <td>...</td>\n",
       "      <td>0</td>\n",
       "      <td>1</td>\n",
       "      <td>0</td>\n",
       "      <td>0</td>\n",
       "      <td>1</td>\n",
       "      <td>0</td>\n",
       "      <td>0</td>\n",
       "      <td>1</td>\n",
       "      <td>1</td>\n",
       "      <td>0</td>\n",
       "    </tr>\n",
       "    <tr>\n",
       "      <th>29304</th>\n",
       "      <td>65</td>\n",
       "      <td>9</td>\n",
       "      <td>40</td>\n",
       "      <td>-1</td>\n",
       "      <td>0</td>\n",
       "      <td>0</td>\n",
       "      <td>1</td>\n",
       "      <td>0</td>\n",
       "      <td>0</td>\n",
       "      <td>1</td>\n",
       "      <td>...</td>\n",
       "      <td>0</td>\n",
       "      <td>1</td>\n",
       "      <td>0</td>\n",
       "      <td>1</td>\n",
       "      <td>0</td>\n",
       "      <td>0</td>\n",
       "      <td>0</td>\n",
       "      <td>1</td>\n",
       "      <td>1</td>\n",
       "      <td>0</td>\n",
       "    </tr>\n",
       "  </tbody>\n",
       "</table>\n",
       "<p>29305 rows × 26 columns</p>\n",
       "</div>"
      ],
      "text/plain": [
       "       age  education-num  hours-per-week  std-wgt  cpt-gain-loss  \\\n",
       "0       25              7              40        0              0   \n",
       "1       39             10              55       -1          -1721   \n",
       "2       35             13              50        0              0   \n",
       "3       64             11              40       -1              0   \n",
       "4       24             10              70       -1              0   \n",
       "...    ...            ...             ...      ...            ...   \n",
       "29300   20              9              40       -1              0   \n",
       "29301   21              9              40        2              0   \n",
       "29302   18              6              40        1              0   \n",
       "29303   33              7              65       -0              0   \n",
       "29304   65              9              40       -1              0   \n",
       "\n",
       "       workclass_#1stCat  workclass_#2ndCat  workclass_#3rdCat  \\\n",
       "0                      0                  1                  0   \n",
       "1                      0                  1                  0   \n",
       "2                      0                  1                  0   \n",
       "3                      0                  1                  0   \n",
       "4                      0                  1                  0   \n",
       "...                  ...                ...                ...   \n",
       "29300                  0                  1                  0   \n",
       "29301                  0                  1                  0   \n",
       "29302                  0                  1                  0   \n",
       "29303                  0                  1                  0   \n",
       "29304                  0                  1                  0   \n",
       "\n",
       "       marital-status_Mari-Cat1  marital-status_Mari-Cat2  ...  \\\n",
       "0                             0                         1  ...   \n",
       "1                             0                         1  ...   \n",
       "2                             0                         0  ...   \n",
       "3                             0                         1  ...   \n",
       "4                             1                         0  ...   \n",
       "...                         ...                       ...  ...   \n",
       "29300                         0                         0  ...   \n",
       "29301                         0                         0  ...   \n",
       "29302                         0                         0  ...   \n",
       "29303                         0                         0  ...   \n",
       "29304                         0                         1  ...   \n",
       "\n",
       "       relationship_Supporting  race_Class1  race_Class2  sex_Female  \\\n",
       "0                            0            1            0           0   \n",
       "1                            0            1            0           1   \n",
       "2                            0            1            0           1   \n",
       "3                            0            1            0           1   \n",
       "4                            1            1            0           0   \n",
       "...                        ...          ...          ...         ...   \n",
       "29300                        0            0            1           0   \n",
       "29301                        0            0            1           0   \n",
       "29302                        0            1            0           0   \n",
       "29303                        0            1            0           0   \n",
       "29304                        0            1            0           1   \n",
       "\n",
       "       sex_Male  native-country_Hispanic  native-country_Overseas  \\\n",
       "0             1                        0                        0   \n",
       "1             0                        0                        0   \n",
       "2             0                        0                        1   \n",
       "3             0                        0                        0   \n",
       "4             1                        0                        0   \n",
       "...         ...                      ...                      ...   \n",
       "29300         1                        1                        0   \n",
       "29301         1                        0                        0   \n",
       "29302         1                        0                        0   \n",
       "29303         1                        0                        0   \n",
       "29304         0                        0                        0   \n",
       "\n",
       "       native-country_United-States  binned-wgt_Low-wgt  binned-wgt_High-wgt  \n",
       "0                                 1                   0                    1  \n",
       "1                                 1                   1                    0  \n",
       "2                                 0                   0                    1  \n",
       "3                                 1                   1                    0  \n",
       "4                                 1                   1                    0  \n",
       "...                             ...                 ...                  ...  \n",
       "29300                             0                   1                    0  \n",
       "29301                             1                   0                    1  \n",
       "29302                             1                   0                    1  \n",
       "29303                             1                   1                    0  \n",
       "29304                             1                   1                    0  \n",
       "\n",
       "[29305 rows x 26 columns]"
      ]
     },
     "execution_count": 110,
     "metadata": {},
     "output_type": "execute_result"
    }
   ],
   "source": [
    "X_train"
   ]
  },
  {
   "cell_type": "code",
   "execution_count": 111,
   "id": "4802a3ce",
   "metadata": {
    "ExecuteTime": {
     "end_time": "2023-05-31T07:00:23.582376Z",
     "start_time": "2023-05-31T07:00:23.568968Z"
    }
   },
   "outputs": [],
   "source": [
    "# capital gain loss 엔지니어링된 컬럼 스케일링중 :: 미백 될거임ㅇㅇ\n",
    "gain_loss_scaled=scaler.fit_transform(X_train[['cpt-gain-loss']])"
   ]
  },
  {
   "cell_type": "code",
   "execution_count": 112,
   "id": "a6e8fa06",
   "metadata": {
    "ExecuteTime": {
     "end_time": "2023-05-31T07:00:23.598333Z",
     "start_time": "2023-05-31T07:00:23.583388Z"
    }
   },
   "outputs": [],
   "source": [
    "X_train['cpt-gain-loss'] = gain_loss_scaled"
   ]
  },
  {
   "cell_type": "code",
   "execution_count": 113,
   "id": "7d690edc",
   "metadata": {
    "ExecuteTime": {
     "end_time": "2023-05-31T07:00:23.614268Z",
     "start_time": "2023-05-31T07:00:23.600304Z"
    }
   },
   "outputs": [],
   "source": [
    "gain_loss_scaled=scaler.fit_transform(X_test[['cpt-gain-loss']])\n",
    "X_test['cpt-gain-loss'] = gain_loss_scaled"
   ]
  },
  {
   "cell_type": "code",
   "execution_count": 114,
   "id": "9ea5972d",
   "metadata": {
    "ExecuteTime": {
     "end_time": "2023-05-31T07:00:23.646205Z",
     "start_time": "2023-05-31T07:00:23.616261Z"
    },
    "scrolled": true
   },
   "outputs": [
    {
     "data": {
      "text/html": [
       "<div>\n",
       "<style scoped>\n",
       "    .dataframe tbody tr th:only-of-type {\n",
       "        vertical-align: middle;\n",
       "    }\n",
       "\n",
       "    .dataframe tbody tr th {\n",
       "        vertical-align: top;\n",
       "    }\n",
       "\n",
       "    .dataframe thead th {\n",
       "        text-align: right;\n",
       "    }\n",
       "</style>\n",
       "<table border=\"1\" class=\"dataframe\">\n",
       "  <thead>\n",
       "    <tr style=\"text-align: right;\">\n",
       "      <th></th>\n",
       "      <th>age</th>\n",
       "      <th>education-num</th>\n",
       "      <th>hours-per-week</th>\n",
       "      <th>std-wgt</th>\n",
       "      <th>cpt-gain-loss</th>\n",
       "      <th>workclass_#1stCat</th>\n",
       "      <th>workclass_#2ndCat</th>\n",
       "      <th>workclass_#3rdCat</th>\n",
       "      <th>marital-status_Mari-Cat1</th>\n",
       "      <th>marital-status_Mari-Cat2</th>\n",
       "      <th>...</th>\n",
       "      <th>relationship_Supporting</th>\n",
       "      <th>race_Class1</th>\n",
       "      <th>race_Class2</th>\n",
       "      <th>sex_Female</th>\n",
       "      <th>sex_Male</th>\n",
       "      <th>native-country_Hispanic</th>\n",
       "      <th>native-country_Overseas</th>\n",
       "      <th>native-country_United-States</th>\n",
       "      <th>binned-wgt_Low-wgt</th>\n",
       "      <th>binned-wgt_High-wgt</th>\n",
       "    </tr>\n",
       "  </thead>\n",
       "  <tbody>\n",
       "    <tr>\n",
       "      <th>0</th>\n",
       "      <td>18</td>\n",
       "      <td>10</td>\n",
       "      <td>16</td>\n",
       "      <td>1</td>\n",
       "      <td>-0</td>\n",
       "      <td>0</td>\n",
       "      <td>1</td>\n",
       "      <td>0</td>\n",
       "      <td>0</td>\n",
       "      <td>0</td>\n",
       "      <td>...</td>\n",
       "      <td>0</td>\n",
       "      <td>1</td>\n",
       "      <td>0</td>\n",
       "      <td>0</td>\n",
       "      <td>1</td>\n",
       "      <td>0</td>\n",
       "      <td>0</td>\n",
       "      <td>1</td>\n",
       "      <td>0</td>\n",
       "      <td>1</td>\n",
       "    </tr>\n",
       "    <tr>\n",
       "      <th>1</th>\n",
       "      <td>29</td>\n",
       "      <td>9</td>\n",
       "      <td>40</td>\n",
       "      <td>-1</td>\n",
       "      <td>-0</td>\n",
       "      <td>0</td>\n",
       "      <td>1</td>\n",
       "      <td>0</td>\n",
       "      <td>1</td>\n",
       "      <td>0</td>\n",
       "      <td>...</td>\n",
       "      <td>1</td>\n",
       "      <td>1</td>\n",
       "      <td>0</td>\n",
       "      <td>1</td>\n",
       "      <td>0</td>\n",
       "      <td>0</td>\n",
       "      <td>0</td>\n",
       "      <td>1</td>\n",
       "      <td>1</td>\n",
       "      <td>0</td>\n",
       "    </tr>\n",
       "    <tr>\n",
       "      <th>2</th>\n",
       "      <td>45</td>\n",
       "      <td>13</td>\n",
       "      <td>40</td>\n",
       "      <td>-1</td>\n",
       "      <td>-0</td>\n",
       "      <td>0</td>\n",
       "      <td>1</td>\n",
       "      <td>0</td>\n",
       "      <td>1</td>\n",
       "      <td>0</td>\n",
       "      <td>...</td>\n",
       "      <td>1</td>\n",
       "      <td>0</td>\n",
       "      <td>1</td>\n",
       "      <td>0</td>\n",
       "      <td>1</td>\n",
       "      <td>0</td>\n",
       "      <td>0</td>\n",
       "      <td>1</td>\n",
       "      <td>1</td>\n",
       "      <td>0</td>\n",
       "    </tr>\n",
       "    <tr>\n",
       "      <th>3</th>\n",
       "      <td>42</td>\n",
       "      <td>13</td>\n",
       "      <td>40</td>\n",
       "      <td>-1</td>\n",
       "      <td>-0</td>\n",
       "      <td>0</td>\n",
       "      <td>1</td>\n",
       "      <td>0</td>\n",
       "      <td>1</td>\n",
       "      <td>0</td>\n",
       "      <td>...</td>\n",
       "      <td>1</td>\n",
       "      <td>1</td>\n",
       "      <td>0</td>\n",
       "      <td>0</td>\n",
       "      <td>1</td>\n",
       "      <td>0</td>\n",
       "      <td>0</td>\n",
       "      <td>1</td>\n",
       "      <td>1</td>\n",
       "      <td>0</td>\n",
       "    </tr>\n",
       "    <tr>\n",
       "      <th>4</th>\n",
       "      <td>41</td>\n",
       "      <td>16</td>\n",
       "      <td>40</td>\n",
       "      <td>0</td>\n",
       "      <td>-0</td>\n",
       "      <td>0</td>\n",
       "      <td>1</td>\n",
       "      <td>0</td>\n",
       "      <td>1</td>\n",
       "      <td>0</td>\n",
       "      <td>...</td>\n",
       "      <td>1</td>\n",
       "      <td>1</td>\n",
       "      <td>0</td>\n",
       "      <td>1</td>\n",
       "      <td>0</td>\n",
       "      <td>0</td>\n",
       "      <td>0</td>\n",
       "      <td>1</td>\n",
       "      <td>0</td>\n",
       "      <td>1</td>\n",
       "    </tr>\n",
       "    <tr>\n",
       "      <th>...</th>\n",
       "      <td>...</td>\n",
       "      <td>...</td>\n",
       "      <td>...</td>\n",
       "      <td>...</td>\n",
       "      <td>...</td>\n",
       "      <td>...</td>\n",
       "      <td>...</td>\n",
       "      <td>...</td>\n",
       "      <td>...</td>\n",
       "      <td>...</td>\n",
       "      <td>...</td>\n",
       "      <td>...</td>\n",
       "      <td>...</td>\n",
       "      <td>...</td>\n",
       "      <td>...</td>\n",
       "      <td>...</td>\n",
       "      <td>...</td>\n",
       "      <td>...</td>\n",
       "      <td>...</td>\n",
       "      <td>...</td>\n",
       "      <td>...</td>\n",
       "    </tr>\n",
       "    <tr>\n",
       "      <th>19532</th>\n",
       "      <td>45</td>\n",
       "      <td>9</td>\n",
       "      <td>60</td>\n",
       "      <td>-1</td>\n",
       "      <td>-0</td>\n",
       "      <td>0</td>\n",
       "      <td>1</td>\n",
       "      <td>0</td>\n",
       "      <td>1</td>\n",
       "      <td>0</td>\n",
       "      <td>...</td>\n",
       "      <td>1</td>\n",
       "      <td>1</td>\n",
       "      <td>0</td>\n",
       "      <td>0</td>\n",
       "      <td>1</td>\n",
       "      <td>0</td>\n",
       "      <td>0</td>\n",
       "      <td>1</td>\n",
       "      <td>1</td>\n",
       "      <td>0</td>\n",
       "    </tr>\n",
       "    <tr>\n",
       "      <th>19533</th>\n",
       "      <td>48</td>\n",
       "      <td>9</td>\n",
       "      <td>50</td>\n",
       "      <td>-0</td>\n",
       "      <td>-0</td>\n",
       "      <td>0</td>\n",
       "      <td>1</td>\n",
       "      <td>0</td>\n",
       "      <td>0</td>\n",
       "      <td>0</td>\n",
       "      <td>...</td>\n",
       "      <td>0</td>\n",
       "      <td>1</td>\n",
       "      <td>0</td>\n",
       "      <td>1</td>\n",
       "      <td>0</td>\n",
       "      <td>0</td>\n",
       "      <td>0</td>\n",
       "      <td>1</td>\n",
       "      <td>1</td>\n",
       "      <td>0</td>\n",
       "    </tr>\n",
       "    <tr>\n",
       "      <th>19534</th>\n",
       "      <td>63</td>\n",
       "      <td>10</td>\n",
       "      <td>40</td>\n",
       "      <td>-1</td>\n",
       "      <td>0</td>\n",
       "      <td>0</td>\n",
       "      <td>1</td>\n",
       "      <td>0</td>\n",
       "      <td>1</td>\n",
       "      <td>0</td>\n",
       "      <td>...</td>\n",
       "      <td>1</td>\n",
       "      <td>1</td>\n",
       "      <td>0</td>\n",
       "      <td>0</td>\n",
       "      <td>1</td>\n",
       "      <td>0</td>\n",
       "      <td>0</td>\n",
       "      <td>1</td>\n",
       "      <td>1</td>\n",
       "      <td>0</td>\n",
       "    </tr>\n",
       "    <tr>\n",
       "      <th>19535</th>\n",
       "      <td>18</td>\n",
       "      <td>7</td>\n",
       "      <td>20</td>\n",
       "      <td>-0</td>\n",
       "      <td>-0</td>\n",
       "      <td>0</td>\n",
       "      <td>1</td>\n",
       "      <td>0</td>\n",
       "      <td>0</td>\n",
       "      <td>0</td>\n",
       "      <td>...</td>\n",
       "      <td>0</td>\n",
       "      <td>1</td>\n",
       "      <td>0</td>\n",
       "      <td>1</td>\n",
       "      <td>0</td>\n",
       "      <td>0</td>\n",
       "      <td>0</td>\n",
       "      <td>1</td>\n",
       "      <td>1</td>\n",
       "      <td>0</td>\n",
       "    </tr>\n",
       "    <tr>\n",
       "      <th>19536</th>\n",
       "      <td>31</td>\n",
       "      <td>12</td>\n",
       "      <td>46</td>\n",
       "      <td>1</td>\n",
       "      <td>-0</td>\n",
       "      <td>0</td>\n",
       "      <td>1</td>\n",
       "      <td>0</td>\n",
       "      <td>1</td>\n",
       "      <td>0</td>\n",
       "      <td>...</td>\n",
       "      <td>1</td>\n",
       "      <td>0</td>\n",
       "      <td>1</td>\n",
       "      <td>0</td>\n",
       "      <td>1</td>\n",
       "      <td>0</td>\n",
       "      <td>0</td>\n",
       "      <td>1</td>\n",
       "      <td>0</td>\n",
       "      <td>1</td>\n",
       "    </tr>\n",
       "  </tbody>\n",
       "</table>\n",
       "<p>19537 rows × 26 columns</p>\n",
       "</div>"
      ],
      "text/plain": [
       "       age  education-num  hours-per-week  std-wgt  cpt-gain-loss  \\\n",
       "0       18             10              16        1             -0   \n",
       "1       29              9              40       -1             -0   \n",
       "2       45             13              40       -1             -0   \n",
       "3       42             13              40       -1             -0   \n",
       "4       41             16              40        0             -0   \n",
       "...    ...            ...             ...      ...            ...   \n",
       "19532   45              9              60       -1             -0   \n",
       "19533   48              9              50       -0             -0   \n",
       "19534   63             10              40       -1              0   \n",
       "19535   18              7              20       -0             -0   \n",
       "19536   31             12              46        1             -0   \n",
       "\n",
       "       workclass_#1stCat  workclass_#2ndCat  workclass_#3rdCat  \\\n",
       "0                      0                  1                  0   \n",
       "1                      0                  1                  0   \n",
       "2                      0                  1                  0   \n",
       "3                      0                  1                  0   \n",
       "4                      0                  1                  0   \n",
       "...                  ...                ...                ...   \n",
       "19532                  0                  1                  0   \n",
       "19533                  0                  1                  0   \n",
       "19534                  0                  1                  0   \n",
       "19535                  0                  1                  0   \n",
       "19536                  0                  1                  0   \n",
       "\n",
       "       marital-status_Mari-Cat1  marital-status_Mari-Cat2  ...  \\\n",
       "0                             0                         0  ...   \n",
       "1                             1                         0  ...   \n",
       "2                             1                         0  ...   \n",
       "3                             1                         0  ...   \n",
       "4                             1                         0  ...   \n",
       "...                         ...                       ...  ...   \n",
       "19532                         1                         0  ...   \n",
       "19533                         0                         0  ...   \n",
       "19534                         1                         0  ...   \n",
       "19535                         0                         0  ...   \n",
       "19536                         1                         0  ...   \n",
       "\n",
       "       relationship_Supporting  race_Class1  race_Class2  sex_Female  \\\n",
       "0                            0            1            0           0   \n",
       "1                            1            1            0           1   \n",
       "2                            1            0            1           0   \n",
       "3                            1            1            0           0   \n",
       "4                            1            1            0           1   \n",
       "...                        ...          ...          ...         ...   \n",
       "19532                        1            1            0           0   \n",
       "19533                        0            1            0           1   \n",
       "19534                        1            1            0           0   \n",
       "19535                        0            1            0           1   \n",
       "19536                        1            0            1           0   \n",
       "\n",
       "       sex_Male  native-country_Hispanic  native-country_Overseas  \\\n",
       "0             1                        0                        0   \n",
       "1             0                        0                        0   \n",
       "2             1                        0                        0   \n",
       "3             1                        0                        0   \n",
       "4             0                        0                        0   \n",
       "...         ...                      ...                      ...   \n",
       "19532         1                        0                        0   \n",
       "19533         0                        0                        0   \n",
       "19534         1                        0                        0   \n",
       "19535         0                        0                        0   \n",
       "19536         1                        0                        0   \n",
       "\n",
       "       native-country_United-States  binned-wgt_Low-wgt  binned-wgt_High-wgt  \n",
       "0                                 1                   0                    1  \n",
       "1                                 1                   1                    0  \n",
       "2                                 1                   1                    0  \n",
       "3                                 1                   1                    0  \n",
       "4                                 1                   0                    1  \n",
       "...                             ...                 ...                  ...  \n",
       "19532                             1                   1                    0  \n",
       "19533                             1                   1                    0  \n",
       "19534                             1                   1                    0  \n",
       "19535                             1                   1                    0  \n",
       "19536                             1                   0                    1  \n",
       "\n",
       "[19537 rows x 26 columns]"
      ]
     },
     "execution_count": 114,
     "metadata": {},
     "output_type": "execute_result"
    }
   ],
   "source": [
    "X_test"
   ]
  },
  {
   "cell_type": "markdown",
   "id": "26d5123e",
   "metadata": {},
   "source": [
    "# 수정 하는곳"
   ]
  },
  {
   "cell_type": "code",
   "execution_count": 115,
   "id": "a9a087c6",
   "metadata": {
    "ExecuteTime": {
     "end_time": "2023-05-31T07:00:23.678094Z",
     "start_time": "2023-05-31T07:00:23.648203Z"
    },
    "scrolled": true
   },
   "outputs": [
    {
     "data": {
      "text/plain": [
       "age                             0\n",
       "education-num                   0\n",
       "hours-per-week                  0\n",
       "std-wgt                        -0\n",
       "cpt-gain-loss                   0\n",
       "workclass_#1stCat               0\n",
       "workclass_#2ndCat              -0\n",
       "workclass_#3rdCat              -0\n",
       "marital-status_Mari-Cat1        0\n",
       "marital-status_Mari-Cat2       -0\n",
       "marital-status_Mari-Cat3       -0\n",
       "occupation_Job-Cat1             0\n",
       "occupation_Job-Cat2            -0\n",
       "occupation_Job-Cat3            -0\n",
       "relationship_Non-supporting    -0\n",
       "relationship_Self-sufficient   -0\n",
       "relationship_Supporting         0\n",
       "race_Class1                     0\n",
       "race_Class2                    -0\n",
       "sex_Female                     -0\n",
       "sex_Male                        0\n",
       "native-country_Hispanic        -0\n",
       "native-country_Overseas         0\n",
       "native-country_United-States    0\n",
       "binned-wgt_Low-wgt              0\n",
       "binned-wgt_High-wgt            -0\n",
       "dtype: float64"
      ]
     },
     "execution_count": 115,
     "metadata": {},
     "output_type": "execute_result"
    }
   ],
   "source": [
    "X_train.corrwith(train['income'])\n",
    "# wgt컬럼은 없애는게 좋을거같다 ..."
   ]
  },
  {
   "cell_type": "code",
   "execution_count": 116,
   "id": "a1bc1056",
   "metadata": {
    "ExecuteTime": {
     "end_time": "2023-05-31T07:00:23.694051Z",
     "start_time": "2023-05-31T07:00:23.680089Z"
    }
   },
   "outputs": [],
   "source": [
    "#1. 컬럼 뺴구 해보자\n",
    "#2. std-wgt를 빼고 아래를 넣어보자\n",
    "#3. wgt 연관 완전 삭제 (처음 하려고 했던거)\n",
    "X_train.drop('std-wgt', axis=1, inplace=True)\n",
    "X_test.drop('std-wgt', axis=1, inplace=True)\n",
    "#X_train.drop(['binned-wgt_Low-wgt', 'binned-wgt_High-wgt'], axis=1, inplace=True)\n",
    "#X_test.drop(['binned-wgt_Low-wgt', 'binned-wgt_High-wgt'], axis=1, inplace=True)"
   ]
  },
  {
   "cell_type": "markdown",
   "id": "a31e9b3d",
   "metadata": {},
   "source": [
    "# Scaling down\n",
    "    - 원핫, 레이블 엔코딩 빼고 스케일"
   ]
  },
  {
   "cell_type": "code",
   "execution_count": 117,
   "id": "e983a261",
   "metadata": {
    "ExecuteTime": {
     "end_time": "2023-05-31T07:00:23.723974Z",
     "start_time": "2023-05-31T07:00:23.696047Z"
    }
   },
   "outputs": [],
   "source": [
    "scaler = StandardScaler()\n",
    "scaler.fit(X_train[['age','education-num','hours-per-week','cpt-gain-loss']])\n",
    "X_train_num_only = scaler.transform(X_train[['age','education-num','hours-per-week','cpt-gain-loss']])\n",
    "X_test_num_only = scaler.transform(X_test[['age','education-num','hours-per-week','cpt-gain-loss']])"
   ]
  },
  {
   "cell_type": "code",
   "execution_count": 118,
   "id": "52886ed1",
   "metadata": {
    "ExecuteTime": {
     "end_time": "2023-05-31T07:00:23.739818Z",
     "start_time": "2023-05-31T07:00:23.725967Z"
    }
   },
   "outputs": [],
   "source": [
    "X_train[['age','education-num','hours-per-week','cpt-gain-loss']] = X_train_num_only"
   ]
  },
  {
   "cell_type": "code",
   "execution_count": 119,
   "id": "660028af",
   "metadata": {
    "ExecuteTime": {
     "end_time": "2023-05-31T07:00:23.755783Z",
     "start_time": "2023-05-31T07:00:23.742810Z"
    }
   },
   "outputs": [],
   "source": [
    "X_test[['age','education-num','hours-per-week','cpt-gain-loss']] = X_test_num_only"
   ]
  },
  {
   "cell_type": "code",
   "execution_count": 120,
   "id": "2f1a1b2f",
   "metadata": {
    "ExecuteTime": {
     "end_time": "2023-05-31T07:00:23.787720Z",
     "start_time": "2023-05-31T07:00:23.757776Z"
    }
   },
   "outputs": [
    {
     "data": {
      "text/html": [
       "<div>\n",
       "<style scoped>\n",
       "    .dataframe tbody tr th:only-of-type {\n",
       "        vertical-align: middle;\n",
       "    }\n",
       "\n",
       "    .dataframe tbody tr th {\n",
       "        vertical-align: top;\n",
       "    }\n",
       "\n",
       "    .dataframe thead th {\n",
       "        text-align: right;\n",
       "    }\n",
       "</style>\n",
       "<table border=\"1\" class=\"dataframe\">\n",
       "  <thead>\n",
       "    <tr style=\"text-align: right;\">\n",
       "      <th></th>\n",
       "      <th>age</th>\n",
       "      <th>education-num</th>\n",
       "      <th>hours-per-week</th>\n",
       "      <th>cpt-gain-loss</th>\n",
       "      <th>workclass_#1stCat</th>\n",
       "      <th>workclass_#2ndCat</th>\n",
       "      <th>workclass_#3rdCat</th>\n",
       "      <th>marital-status_Mari-Cat1</th>\n",
       "      <th>marital-status_Mari-Cat2</th>\n",
       "      <th>marital-status_Mari-Cat3</th>\n",
       "      <th>...</th>\n",
       "      <th>relationship_Supporting</th>\n",
       "      <th>race_Class1</th>\n",
       "      <th>race_Class2</th>\n",
       "      <th>sex_Female</th>\n",
       "      <th>sex_Male</th>\n",
       "      <th>native-country_Hispanic</th>\n",
       "      <th>native-country_Overseas</th>\n",
       "      <th>native-country_United-States</th>\n",
       "      <th>binned-wgt_Low-wgt</th>\n",
       "      <th>binned-wgt_High-wgt</th>\n",
       "    </tr>\n",
       "  </thead>\n",
       "  <tbody>\n",
       "    <tr>\n",
       "      <th>0</th>\n",
       "      <td>-1</td>\n",
       "      <td>-1</td>\n",
       "      <td>-0</td>\n",
       "      <td>-0</td>\n",
       "      <td>0</td>\n",
       "      <td>1</td>\n",
       "      <td>0</td>\n",
       "      <td>0</td>\n",
       "      <td>1</td>\n",
       "      <td>0</td>\n",
       "      <td>...</td>\n",
       "      <td>0</td>\n",
       "      <td>1</td>\n",
       "      <td>0</td>\n",
       "      <td>0</td>\n",
       "      <td>1</td>\n",
       "      <td>0</td>\n",
       "      <td>0</td>\n",
       "      <td>1</td>\n",
       "      <td>0</td>\n",
       "      <td>1</td>\n",
       "    </tr>\n",
       "    <tr>\n",
       "      <th>1</th>\n",
       "      <td>0</td>\n",
       "      <td>-0</td>\n",
       "      <td>1</td>\n",
       "      <td>-0</td>\n",
       "      <td>0</td>\n",
       "      <td>1</td>\n",
       "      <td>0</td>\n",
       "      <td>0</td>\n",
       "      <td>1</td>\n",
       "      <td>0</td>\n",
       "      <td>...</td>\n",
       "      <td>0</td>\n",
       "      <td>1</td>\n",
       "      <td>0</td>\n",
       "      <td>1</td>\n",
       "      <td>0</td>\n",
       "      <td>0</td>\n",
       "      <td>0</td>\n",
       "      <td>1</td>\n",
       "      <td>1</td>\n",
       "      <td>0</td>\n",
       "    </tr>\n",
       "    <tr>\n",
       "      <th>2</th>\n",
       "      <td>-0</td>\n",
       "      <td>1</td>\n",
       "      <td>1</td>\n",
       "      <td>-0</td>\n",
       "      <td>0</td>\n",
       "      <td>1</td>\n",
       "      <td>0</td>\n",
       "      <td>0</td>\n",
       "      <td>0</td>\n",
       "      <td>1</td>\n",
       "      <td>...</td>\n",
       "      <td>0</td>\n",
       "      <td>1</td>\n",
       "      <td>0</td>\n",
       "      <td>1</td>\n",
       "      <td>0</td>\n",
       "      <td>0</td>\n",
       "      <td>1</td>\n",
       "      <td>0</td>\n",
       "      <td>0</td>\n",
       "      <td>1</td>\n",
       "    </tr>\n",
       "    <tr>\n",
       "      <th>3</th>\n",
       "      <td>2</td>\n",
       "      <td>0</td>\n",
       "      <td>-0</td>\n",
       "      <td>-0</td>\n",
       "      <td>0</td>\n",
       "      <td>1</td>\n",
       "      <td>0</td>\n",
       "      <td>0</td>\n",
       "      <td>1</td>\n",
       "      <td>0</td>\n",
       "      <td>...</td>\n",
       "      <td>0</td>\n",
       "      <td>1</td>\n",
       "      <td>0</td>\n",
       "      <td>1</td>\n",
       "      <td>0</td>\n",
       "      <td>0</td>\n",
       "      <td>0</td>\n",
       "      <td>1</td>\n",
       "      <td>1</td>\n",
       "      <td>0</td>\n",
       "    </tr>\n",
       "    <tr>\n",
       "      <th>4</th>\n",
       "      <td>-1</td>\n",
       "      <td>-0</td>\n",
       "      <td>2</td>\n",
       "      <td>-0</td>\n",
       "      <td>0</td>\n",
       "      <td>1</td>\n",
       "      <td>0</td>\n",
       "      <td>1</td>\n",
       "      <td>0</td>\n",
       "      <td>0</td>\n",
       "      <td>...</td>\n",
       "      <td>1</td>\n",
       "      <td>1</td>\n",
       "      <td>0</td>\n",
       "      <td>0</td>\n",
       "      <td>1</td>\n",
       "      <td>0</td>\n",
       "      <td>0</td>\n",
       "      <td>1</td>\n",
       "      <td>1</td>\n",
       "      <td>0</td>\n",
       "    </tr>\n",
       "    <tr>\n",
       "      <th>...</th>\n",
       "      <td>...</td>\n",
       "      <td>...</td>\n",
       "      <td>...</td>\n",
       "      <td>...</td>\n",
       "      <td>...</td>\n",
       "      <td>...</td>\n",
       "      <td>...</td>\n",
       "      <td>...</td>\n",
       "      <td>...</td>\n",
       "      <td>...</td>\n",
       "      <td>...</td>\n",
       "      <td>...</td>\n",
       "      <td>...</td>\n",
       "      <td>...</td>\n",
       "      <td>...</td>\n",
       "      <td>...</td>\n",
       "      <td>...</td>\n",
       "      <td>...</td>\n",
       "      <td>...</td>\n",
       "      <td>...</td>\n",
       "      <td>...</td>\n",
       "    </tr>\n",
       "    <tr>\n",
       "      <th>29300</th>\n",
       "      <td>-1</td>\n",
       "      <td>-0</td>\n",
       "      <td>-0</td>\n",
       "      <td>-0</td>\n",
       "      <td>0</td>\n",
       "      <td>1</td>\n",
       "      <td>0</td>\n",
       "      <td>0</td>\n",
       "      <td>0</td>\n",
       "      <td>1</td>\n",
       "      <td>...</td>\n",
       "      <td>0</td>\n",
       "      <td>0</td>\n",
       "      <td>1</td>\n",
       "      <td>0</td>\n",
       "      <td>1</td>\n",
       "      <td>1</td>\n",
       "      <td>0</td>\n",
       "      <td>0</td>\n",
       "      <td>1</td>\n",
       "      <td>0</td>\n",
       "    </tr>\n",
       "    <tr>\n",
       "      <th>29301</th>\n",
       "      <td>-1</td>\n",
       "      <td>-0</td>\n",
       "      <td>-0</td>\n",
       "      <td>-0</td>\n",
       "      <td>0</td>\n",
       "      <td>1</td>\n",
       "      <td>0</td>\n",
       "      <td>0</td>\n",
       "      <td>0</td>\n",
       "      <td>1</td>\n",
       "      <td>...</td>\n",
       "      <td>0</td>\n",
       "      <td>0</td>\n",
       "      <td>1</td>\n",
       "      <td>0</td>\n",
       "      <td>1</td>\n",
       "      <td>0</td>\n",
       "      <td>0</td>\n",
       "      <td>1</td>\n",
       "      <td>0</td>\n",
       "      <td>1</td>\n",
       "    </tr>\n",
       "    <tr>\n",
       "      <th>29302</th>\n",
       "      <td>-2</td>\n",
       "      <td>-2</td>\n",
       "      <td>-0</td>\n",
       "      <td>-0</td>\n",
       "      <td>0</td>\n",
       "      <td>1</td>\n",
       "      <td>0</td>\n",
       "      <td>0</td>\n",
       "      <td>0</td>\n",
       "      <td>1</td>\n",
       "      <td>...</td>\n",
       "      <td>0</td>\n",
       "      <td>1</td>\n",
       "      <td>0</td>\n",
       "      <td>0</td>\n",
       "      <td>1</td>\n",
       "      <td>0</td>\n",
       "      <td>0</td>\n",
       "      <td>1</td>\n",
       "      <td>0</td>\n",
       "      <td>1</td>\n",
       "    </tr>\n",
       "    <tr>\n",
       "      <th>29303</th>\n",
       "      <td>-0</td>\n",
       "      <td>-1</td>\n",
       "      <td>2</td>\n",
       "      <td>-0</td>\n",
       "      <td>0</td>\n",
       "      <td>1</td>\n",
       "      <td>0</td>\n",
       "      <td>0</td>\n",
       "      <td>0</td>\n",
       "      <td>1</td>\n",
       "      <td>...</td>\n",
       "      <td>0</td>\n",
       "      <td>1</td>\n",
       "      <td>0</td>\n",
       "      <td>0</td>\n",
       "      <td>1</td>\n",
       "      <td>0</td>\n",
       "      <td>0</td>\n",
       "      <td>1</td>\n",
       "      <td>1</td>\n",
       "      <td>0</td>\n",
       "    </tr>\n",
       "    <tr>\n",
       "      <th>29304</th>\n",
       "      <td>2</td>\n",
       "      <td>-0</td>\n",
       "      <td>-0</td>\n",
       "      <td>-0</td>\n",
       "      <td>0</td>\n",
       "      <td>1</td>\n",
       "      <td>0</td>\n",
       "      <td>0</td>\n",
       "      <td>1</td>\n",
       "      <td>0</td>\n",
       "      <td>...</td>\n",
       "      <td>0</td>\n",
       "      <td>1</td>\n",
       "      <td>0</td>\n",
       "      <td>1</td>\n",
       "      <td>0</td>\n",
       "      <td>0</td>\n",
       "      <td>0</td>\n",
       "      <td>1</td>\n",
       "      <td>1</td>\n",
       "      <td>0</td>\n",
       "    </tr>\n",
       "  </tbody>\n",
       "</table>\n",
       "<p>29305 rows × 25 columns</p>\n",
       "</div>"
      ],
      "text/plain": [
       "       age  education-num  hours-per-week  cpt-gain-loss  workclass_#1stCat  \\\n",
       "0       -1             -1              -0             -0                  0   \n",
       "1        0             -0               1             -0                  0   \n",
       "2       -0              1               1             -0                  0   \n",
       "3        2              0              -0             -0                  0   \n",
       "4       -1             -0               2             -0                  0   \n",
       "...    ...            ...             ...            ...                ...   \n",
       "29300   -1             -0              -0             -0                  0   \n",
       "29301   -1             -0              -0             -0                  0   \n",
       "29302   -2             -2              -0             -0                  0   \n",
       "29303   -0             -1               2             -0                  0   \n",
       "29304    2             -0              -0             -0                  0   \n",
       "\n",
       "       workclass_#2ndCat  workclass_#3rdCat  marital-status_Mari-Cat1  \\\n",
       "0                      1                  0                         0   \n",
       "1                      1                  0                         0   \n",
       "2                      1                  0                         0   \n",
       "3                      1                  0                         0   \n",
       "4                      1                  0                         1   \n",
       "...                  ...                ...                       ...   \n",
       "29300                  1                  0                         0   \n",
       "29301                  1                  0                         0   \n",
       "29302                  1                  0                         0   \n",
       "29303                  1                  0                         0   \n",
       "29304                  1                  0                         0   \n",
       "\n",
       "       marital-status_Mari-Cat2  marital-status_Mari-Cat3  ...  \\\n",
       "0                             1                         0  ...   \n",
       "1                             1                         0  ...   \n",
       "2                             0                         1  ...   \n",
       "3                             1                         0  ...   \n",
       "4                             0                         0  ...   \n",
       "...                         ...                       ...  ...   \n",
       "29300                         0                         1  ...   \n",
       "29301                         0                         1  ...   \n",
       "29302                         0                         1  ...   \n",
       "29303                         0                         1  ...   \n",
       "29304                         1                         0  ...   \n",
       "\n",
       "       relationship_Supporting  race_Class1  race_Class2  sex_Female  \\\n",
       "0                            0            1            0           0   \n",
       "1                            0            1            0           1   \n",
       "2                            0            1            0           1   \n",
       "3                            0            1            0           1   \n",
       "4                            1            1            0           0   \n",
       "...                        ...          ...          ...         ...   \n",
       "29300                        0            0            1           0   \n",
       "29301                        0            0            1           0   \n",
       "29302                        0            1            0           0   \n",
       "29303                        0            1            0           0   \n",
       "29304                        0            1            0           1   \n",
       "\n",
       "       sex_Male  native-country_Hispanic  native-country_Overseas  \\\n",
       "0             1                        0                        0   \n",
       "1             0                        0                        0   \n",
       "2             0                        0                        1   \n",
       "3             0                        0                        0   \n",
       "4             1                        0                        0   \n",
       "...         ...                      ...                      ...   \n",
       "29300         1                        1                        0   \n",
       "29301         1                        0                        0   \n",
       "29302         1                        0                        0   \n",
       "29303         1                        0                        0   \n",
       "29304         0                        0                        0   \n",
       "\n",
       "       native-country_United-States  binned-wgt_Low-wgt  binned-wgt_High-wgt  \n",
       "0                                 1                   0                    1  \n",
       "1                                 1                   1                    0  \n",
       "2                                 0                   0                    1  \n",
       "3                                 1                   1                    0  \n",
       "4                                 1                   1                    0  \n",
       "...                             ...                 ...                  ...  \n",
       "29300                             0                   1                    0  \n",
       "29301                             1                   0                    1  \n",
       "29302                             1                   0                    1  \n",
       "29303                             1                   1                    0  \n",
       "29304                             1                   1                    0  \n",
       "\n",
       "[29305 rows x 25 columns]"
      ]
     },
     "execution_count": 120,
     "metadata": {},
     "output_type": "execute_result"
    }
   ],
   "source": [
    "X_train"
   ]
  },
  {
   "cell_type": "markdown",
   "id": "cb1250d2",
   "metadata": {},
   "source": [
    "# 모델 선택 & 교차검증\n",
    "    - for the catwalk\n",
    "    - Voting? Stack? What?\n",
    "    - 빠른 실행 위해서 생성자 파라미터 내부 지웠음"
   ]
  },
  {
   "cell_type": "code",
   "execution_count": 121,
   "id": "61223c59",
   "metadata": {
    "ExecuteTime": {
     "end_time": "2023-05-31T07:00:23.943255Z",
     "start_time": "2023-05-31T07:00:23.789716Z"
    }
   },
   "outputs": [],
   "source": [
    "#============================RF============================\n",
    "from sklearn.ensemble import RandomForestClassifier"
   ]
  },
  {
   "cell_type": "code",
   "execution_count": 122,
   "id": "ca9cece2",
   "metadata": {
    "ExecuteTime": {
     "end_time": "2023-05-31T07:00:23.959212Z",
     "start_time": "2023-05-31T07:00:23.945251Z"
    }
   },
   "outputs": [],
   "source": [
    "from sklearn.model_selection import cross_val_score"
   ]
  },
  {
   "cell_type": "code",
   "execution_count": 123,
   "id": "906080ff",
   "metadata": {
    "ExecuteTime": {
     "end_time": "2023-05-31T07:00:23.975196Z",
     "start_time": "2023-05-31T07:00:23.961207Z"
    }
   },
   "outputs": [],
   "source": [
    "rand_tree = RandomForestClassifier()"
   ]
  },
  {
   "cell_type": "code",
   "execution_count": 124,
   "id": "55f10a52",
   "metadata": {
    "ExecuteTime": {
     "end_time": "2023-05-31T07:00:26.431156Z",
     "start_time": "2023-05-31T07:00:23.977166Z"
    }
   },
   "outputs": [
    {
     "data": {
      "text/plain": [
       "RandomForestClassifier()"
      ]
     },
     "execution_count": 124,
     "metadata": {},
     "output_type": "execute_result"
    }
   ],
   "source": [
    "rand_tree.fit(X_train, y_train)"
   ]
  },
  {
   "cell_type": "code",
   "execution_count": 125,
   "id": "78d3ac0e",
   "metadata": {
    "ExecuteTime": {
     "end_time": "2023-05-31T07:00:32.515784Z",
     "start_time": "2023-05-31T07:00:26.432157Z"
    }
   },
   "outputs": [
    {
     "data": {
      "text/plain": [
       "0.8382870448377101"
      ]
     },
     "execution_count": 125,
     "metadata": {},
     "output_type": "execute_result"
    }
   ],
   "source": [
    "cross_val_score(rand_tree, X_train, y_train, cv=6, n_jobs=-1).mean()"
   ]
  },
  {
   "cell_type": "code",
   "execution_count": 126,
   "id": "ad279806",
   "metadata": {
    "ExecuteTime": {
     "end_time": "2023-05-31T07:00:32.561782Z",
     "start_time": "2023-05-31T07:00:32.517754Z"
    }
   },
   "outputs": [],
   "source": [
    "#============================XGBoost============================\n",
    "from xgboost import XGBClassifier\n",
    "xgb = XGBClassifier()"
   ]
  },
  {
   "cell_type": "code",
   "execution_count": 127,
   "id": "5c438e05",
   "metadata": {
    "ExecuteTime": {
     "end_time": "2023-05-31T07:00:33.286747Z",
     "start_time": "2023-05-31T07:00:32.563777Z"
    },
    "scrolled": true
   },
   "outputs": [
    {
     "data": {
      "text/plain": [
       "XGBClassifier(base_score=None, booster=None, callbacks=None,\n",
       "              colsample_bylevel=None, colsample_bynode=None,\n",
       "              colsample_bytree=None, early_stopping_rounds=None,\n",
       "              enable_categorical=False, eval_metric=None, feature_types=None,\n",
       "              gamma=None, gpu_id=None, grow_policy=None, importance_type=None,\n",
       "              interaction_constraints=None, learning_rate=None, max_bin=None,\n",
       "              max_cat_threshold=None, max_cat_to_onehot=None,\n",
       "              max_delta_step=None, max_depth=None, max_leaves=None,\n",
       "              min_child_weight=None, missing=nan, monotone_constraints=None,\n",
       "              n_estimators=100, n_jobs=None, num_parallel_tree=None,\n",
       "              predictor=None, random_state=None, ...)"
      ]
     },
     "execution_count": 127,
     "metadata": {},
     "output_type": "execute_result"
    }
   ],
   "source": [
    "xgb.fit(X_train, y_train)"
   ]
  },
  {
   "cell_type": "code",
   "execution_count": 128,
   "id": "3f51461a",
   "metadata": {
    "ExecuteTime": {
     "end_time": "2023-05-31T07:00:37.991298Z",
     "start_time": "2023-05-31T07:00:33.288741Z"
    }
   },
   "outputs": [
    {
     "data": {
      "text/plain": [
       "0.8667803795234704"
      ]
     },
     "execution_count": 128,
     "metadata": {},
     "output_type": "execute_result"
    }
   ],
   "source": [
    "cross_val_score(xgb, X_train, y_train, cv=6, n_jobs=-1).mean()"
   ]
  },
  {
   "cell_type": "code",
   "execution_count": 129,
   "id": "3a998ba0",
   "metadata": {
    "ExecuteTime": {
     "end_time": "2023-05-31T07:00:38.006400Z",
     "start_time": "2023-05-31T07:00:37.993271Z"
    }
   },
   "outputs": [],
   "source": [
    "#============================GradBoost============================\n",
    "from sklearn.ensemble import GradientBoostingClassifier\n",
    "gbm = GradientBoostingClassifier()"
   ]
  },
  {
   "cell_type": "code",
   "execution_count": 130,
   "id": "68bfb0f1",
   "metadata": {
    "ExecuteTime": {
     "end_time": "2023-05-31T07:00:40.894778Z",
     "start_time": "2023-05-31T07:00:38.008393Z"
    }
   },
   "outputs": [
    {
     "data": {
      "text/plain": [
       "GradientBoostingClassifier()"
      ]
     },
     "execution_count": 130,
     "metadata": {},
     "output_type": "execute_result"
    }
   ],
   "source": [
    "gbm.fit(X_train, y_train)"
   ]
  },
  {
   "cell_type": "code",
   "execution_count": 131,
   "id": "4f84d7b3",
   "metadata": {
    "ExecuteTime": {
     "end_time": "2023-05-31T07:00:44.929516Z",
     "start_time": "2023-05-31T07:00:40.896773Z"
    }
   },
   "outputs": [
    {
     "data": {
      "text/plain": [
       "0.8647671003095773"
      ]
     },
     "execution_count": 131,
     "metadata": {},
     "output_type": "execute_result"
    }
   ],
   "source": [
    "cross_val_score(gbm, X_train, y_train, cv=6, n_jobs=-1).mean()"
   ]
  },
  {
   "cell_type": "code",
   "execution_count": 132,
   "id": "ad1bb76e",
   "metadata": {
    "ExecuteTime": {
     "end_time": "2023-05-31T07:00:44.944243Z",
     "start_time": "2023-05-31T07:00:44.931179Z"
    }
   },
   "outputs": [],
   "source": [
    "#============================Ada============================\n",
    "from sklearn.ensemble import AdaBoostClassifier\n",
    "ada = AdaBoostClassifier()"
   ]
  },
  {
   "cell_type": "code",
   "execution_count": 133,
   "id": "6d8ee2e7",
   "metadata": {
    "ExecuteTime": {
     "end_time": "2023-05-31T07:00:45.935527Z",
     "start_time": "2023-05-31T07:00:44.946212Z"
    }
   },
   "outputs": [
    {
     "data": {
      "text/plain": [
       "AdaBoostClassifier()"
      ]
     },
     "execution_count": 133,
     "metadata": {},
     "output_type": "execute_result"
    }
   ],
   "source": [
    "ada.fit(X_train, y_train)"
   ]
  },
  {
   "cell_type": "code",
   "execution_count": 134,
   "id": "2bfb6f62",
   "metadata": {
    "ExecuteTime": {
     "end_time": "2023-05-31T07:00:47.162479Z",
     "start_time": "2023-05-31T07:00:45.937498Z"
    },
    "scrolled": true
   },
   "outputs": [
    {
     "data": {
      "text/plain": [
       "0.8586247268949417"
      ]
     },
     "execution_count": 134,
     "metadata": {},
     "output_type": "execute_result"
    }
   ],
   "source": [
    "cross_val_score(ada, X_train, y_train, cv=6, n_jobs=-1).mean()"
   ]
  },
  {
   "cell_type": "code",
   "execution_count": 135,
   "id": "a601a94a",
   "metadata": {
    "ExecuteTime": {
     "end_time": "2023-05-31T07:00:48.061955Z",
     "start_time": "2023-05-31T07:00:47.164451Z"
    }
   },
   "outputs": [],
   "source": [
    "#============================LGBM============================\n",
    "from lightgbm import LGBMClassifier\n",
    "lgbm = LGBMClassifier()"
   ]
  },
  {
   "cell_type": "code",
   "execution_count": 136,
   "id": "01fc5e62",
   "metadata": {
    "ExecuteTime": {
     "end_time": "2023-05-31T07:00:48.251446Z",
     "start_time": "2023-05-31T07:00:48.063950Z"
    }
   },
   "outputs": [
    {
     "data": {
      "text/plain": [
       "LGBMClassifier()"
      ]
     },
     "execution_count": 136,
     "metadata": {},
     "output_type": "execute_result"
    }
   ],
   "source": [
    "lgbm.fit(X_train, y_train)"
   ]
  },
  {
   "cell_type": "code",
   "execution_count": 137,
   "id": "c784d9db",
   "metadata": {
    "ExecuteTime": {
     "end_time": "2023-05-31T07:00:49.902638Z",
     "start_time": "2023-05-31T07:00:48.253441Z"
    }
   },
   "outputs": [
    {
     "data": {
      "text/plain": [
       "0.8685207772208795"
      ]
     },
     "execution_count": 137,
     "metadata": {},
     "output_type": "execute_result"
    }
   ],
   "source": [
    "cross_val_score(lgbm, X_train, y_train, cv=6, n_jobs=-1).mean()"
   ]
  },
  {
   "cell_type": "markdown",
   "id": "bb310441",
   "metadata": {},
   "source": [
    "# 하잎보이 튜닝 & 극기훈련 & 평가\n",
    "    - GridSearchCV"
   ]
  },
  {
   "cell_type": "code",
   "execution_count": 138,
   "id": "4bc85e55",
   "metadata": {
    "ExecuteTime": {
     "end_time": "2023-05-31T07:00:49.917599Z",
     "start_time": "2023-05-31T07:00:49.904634Z"
    }
   },
   "outputs": [],
   "source": [
    "from sklearn.model_selection import GridSearchCV, KFold"
   ]
  },
  {
   "cell_type": "markdown",
   "id": "30fb4466",
   "metadata": {},
   "source": [
    "## GBM 튜닝"
   ]
  },
  {
   "cell_type": "code",
   "execution_count": 139,
   "id": "2ca44f33",
   "metadata": {
    "ExecuteTime": {
     "end_time": "2023-05-31T07:00:49.932559Z",
     "start_time": "2023-05-31T07:00:49.919595Z"
    }
   },
   "outputs": [],
   "source": [
    "# GBM GSCV용 파라미터 : 서치, 조절 서치, 조절\n",
    "gbm_param = {\n",
    "    'loss':['exponential'],\n",
    "    'learning_rate':[0.08],#, 0.05, 0.1],\n",
    "    'n_estimators':[500],\n",
    "    'min_samples_split':[2],#, 6],\n",
    "    'min_samples_leaf':[1],#, 3],\n",
    "    'max_depth':[3],#, 7],\n",
    "    'random_state':[5],#, 33],\n",
    "}"
   ]
  },
  {
   "cell_type": "code",
   "execution_count": 140,
   "id": "e1022270",
   "metadata": {
    "ExecuteTime": {
     "end_time": "2023-05-31T07:00:49.948516Z",
     "start_time": "2023-05-31T07:00:49.934555Z"
    }
   },
   "outputs": [],
   "source": [
    "# GSCV 컨스트럭터\n",
    "grid = GridSearchCV(gbm,\n",
    "                   gbm_param,\n",
    "                   n_jobs=-1,\n",
    "                   refit=True,\n",
    "                   cv=KFold(n_splits=5, shuffle=True, random_state=5),\n",
    "                   verbose=1)"
   ]
  },
  {
   "cell_type": "code",
   "execution_count": 141,
   "id": "7973a3cc",
   "metadata": {
    "ExecuteTime": {
     "end_time": "2023-05-31T07:01:16.558859Z",
     "start_time": "2023-05-31T07:00:49.950512Z"
    }
   },
   "outputs": [
    {
     "name": "stdout",
     "output_type": "stream",
     "text": [
      "Fitting 5 folds for each of 1 candidates, totalling 5 fits\n"
     ]
    },
    {
     "data": {
      "text/plain": [
       "GridSearchCV(cv=KFold(n_splits=5, random_state=5, shuffle=True),\n",
       "             estimator=GradientBoostingClassifier(), n_jobs=-1,\n",
       "             param_grid={'learning_rate': [0.08], 'loss': ['exponential'],\n",
       "                         'max_depth': [3], 'min_samples_leaf': [1],\n",
       "                         'min_samples_split': [2], 'n_estimators': [500],\n",
       "                         'random_state': [5]},\n",
       "             verbose=1)"
      ]
     },
     "execution_count": 141,
     "metadata": {},
     "output_type": "execute_result"
    }
   ],
   "source": [
    "# 피팅룸\n",
    "grid.fit(X_train, y_train)"
   ]
  },
  {
   "cell_type": "code",
   "execution_count": 142,
   "id": "5b09e546",
   "metadata": {
    "ExecuteTime": {
     "end_time": "2023-05-31T07:01:16.574625Z",
     "start_time": "2023-05-31T07:01:16.559854Z"
    }
   },
   "outputs": [
    {
     "data": {
      "text/plain": [
       "0.8675311380310526"
      ]
     },
     "execution_count": 142,
     "metadata": {},
     "output_type": "execute_result"
    }
   ],
   "source": [
    "# 타이완 남바완\n",
    "grid.best_score_"
   ]
  },
  {
   "cell_type": "code",
   "execution_count": 143,
   "id": "2775f9ab",
   "metadata": {
    "ExecuteTime": {
     "end_time": "2023-05-31T07:01:16.606515Z",
     "start_time": "2023-05-31T07:01:16.576594Z"
    }
   },
   "outputs": [
    {
     "data": {
      "text/plain": [
       "{'learning_rate': 0.08,\n",
       " 'loss': 'exponential',\n",
       " 'max_depth': 3,\n",
       " 'min_samples_leaf': 1,\n",
       " 'min_samples_split': 2,\n",
       " 'n_estimators': 500,\n",
       " 'random_state': 5}"
      ]
     },
     "execution_count": 143,
     "metadata": {},
     "output_type": "execute_result"
    }
   ],
   "source": [
    "# 호옹\n",
    "grid.best_params_"
   ]
  },
  {
   "cell_type": "code",
   "execution_count": 144,
   "id": "77dd2ea0",
   "metadata": {
    "ExecuteTime": {
     "end_time": "2023-05-31T07:02:12.471725Z",
     "start_time": "2023-05-31T07:01:16.608510Z"
    }
   },
   "outputs": [
    {
     "data": {
      "text/plain": [
       "array([0.86435762, 0.87681283, 0.86469886, 0.8703293 , 0.86811124])"
      ]
     },
     "metadata": {},
     "output_type": "display_data"
    }
   ],
   "source": [
    "# 에이다 앙상블을 위해서 모델에 집어넣고\n",
    "gbm=grid.best_estimator_\n",
    "display(cross_val_score(gbm, X_train, y_train, cv=5))"
   ]
  },
  {
   "cell_type": "markdown",
   "id": "e6694ba2",
   "metadata": {},
   "source": [
    "## XGB"
   ]
  },
  {
   "cell_type": "code",
   "execution_count": 145,
   "id": "caa32373",
   "metadata": {
    "ExecuteTime": {
     "end_time": "2023-05-31T07:02:39.392236Z",
     "start_time": "2023-05-31T07:02:12.473691Z"
    }
   },
   "outputs": [
    {
     "name": "stdout",
     "output_type": "stream",
     "text": [
      "Fitting 5 folds for each of 2 candidates, totalling 10 fits\n"
     ]
    },
    {
     "data": {
      "text/plain": [
       "\"best score:0.8662685548541205, best param:{'booster': 'gbtree', 'max_delta_step': 0.2, 'max_depth': 3, 'max_leaves': 0, 'n_estimators': 500, 'n_jobs': -1, 'random_state': 5, 'subsample': 0.5, 'verbosity': 1}\""
      ]
     },
     "metadata": {},
     "output_type": "display_data"
    },
    {
     "data": {
      "text/plain": [
       "0.8650400955468351"
      ]
     },
     "metadata": {},
     "output_type": "display_data"
    },
    {
     "data": {
      "text/plain": [
       "0.8779389182733321"
      ]
     },
     "metadata": {},
     "output_type": "display_data"
    }
   ],
   "source": [
    "from xgboost import XGBClassifier\n",
    "xgb = XGBClassifier()\n",
    "xgb_param = {\n",
    "    'n_estimators':[500],\n",
    "    'max_depth':[3],\n",
    "    'max_leaves':[0],\n",
    "    'n_jobs':[-1],\n",
    "    'verbosity':[1],\n",
    "    'booster':['gbtree'],\n",
    "    'subsample':[0.5],\n",
    "    'max_delta_step':[0.1,0.2],\n",
    "    'random_state':[5]\n",
    "}\n",
    "grid = GridSearchCV(xgb,\n",
    "                   xgb_param,\n",
    "                   n_jobs=-1,\n",
    "                   cv=KFold(n_splits=5, shuffle=True, random_state=5),\n",
    "                   verbose=1)\n",
    "\n",
    "grid.fit(X_train, y_train)\n",
    "display(f'best score:{grid.best_score_}, best param:{grid.best_params_}')\n",
    "xgb = grid.best_estimator_\n",
    "display(cross_val_score(xgb\n",
    "                        , X_train\n",
    "                        , y_train\n",
    "                        , cv=KFold(n_splits=5\n",
    "                                   , shuffle=True, random_state=7)).mean())\n",
    "display(xgb.score(X_train, y_train))\n"
   ]
  },
  {
   "cell_type": "markdown",
   "id": "57786996",
   "metadata": {},
   "source": [
    "## LGBM 튜닝\n",
    "    - 파라미터 하나씩 추가해가면서 fine tuning 함"
   ]
  },
  {
   "cell_type": "code",
   "execution_count": 146,
   "id": "4057e9e7",
   "metadata": {
    "ExecuteTime": {
     "end_time": "2023-05-31T07:02:44.284222Z",
     "start_time": "2023-05-31T07:02:39.394230Z"
    }
   },
   "outputs": [
    {
     "name": "stdout",
     "output_type": "stream",
     "text": [
      "Fitting 3 folds for each of 1 candidates, totalling 3 fits\n"
     ]
    },
    {
     "data": {
      "text/plain": [
       "0.8704999178819427"
      ]
     },
     "metadata": {},
     "output_type": "display_data"
    },
    {
     "data": {
      "text/plain": [
       "{'boosting_type': 'gbdt',\n",
       " 'class_weight': None,\n",
       " 'colsample_bytree': 0.6,\n",
       " 'importance_type': 'split',\n",
       " 'learning_rate': 0.03,\n",
       " 'max_depth': 5,\n",
       " 'min_child_samples': 20,\n",
       " 'n_estimators': 500,\n",
       " 'n_jobs': -1,\n",
       " 'num_leaves': 15,\n",
       " 'random_state': 5,\n",
       " 'subsample': 0.3,\n",
       " 'subsample_for_bin': 200000,\n",
       " 'subsample_freq': 0}"
      ]
     },
     "metadata": {},
     "output_type": "display_data"
    },
    {
     "name": "stdout",
     "output_type": "stream",
     "text": [
      "Cross val mean : 0.8689643405562191\n"
     ]
    },
    {
     "data": {
      "text/plain": [
       "0.8739123016550077"
      ]
     },
     "metadata": {},
     "output_type": "display_data"
    }
   ],
   "source": [
    "lgbm = LGBMClassifier()\n",
    "# 르그브므 파라미터 (gridsearch fit < > best_param_으로 반복하면서 조절함)\n",
    "lgbm_param = {\n",
    "    'boosting_type':['gbdt'],\n",
    "    'num_leaves':[15],\n",
    "    'max_depth':[5],\n",
    "    'learning_rate':[0.03],\n",
    "    'n_estimators':[500],\n",
    "    'class_weight':[None],\n",
    "    'min_child_samples':[20],\n",
    "    'colsample_bytree':[0.6],\n",
    "    'random_state':[5],\n",
    "    'n_jobs':[-1],\n",
    "    'subsample_for_bin':[200000],\n",
    "    'subsample':[0.3],\n",
    "    'subsample_freq':[0],\n",
    "    'importance_type':['split']\n",
    "}\n",
    "# ㅇㅇ\n",
    "grid = GridSearchCV(lgbm,\n",
    "                   param_grid=lgbm_param,\n",
    "                   cv=KFold(n_splits=3, shuffle=True, random_state=14),\n",
    "                   n_jobs=-1,\n",
    "                   verbose=1\n",
    "                   )\n",
    "grid.fit(X_train, y_train)\n",
    "display(grid.best_score_)\n",
    "display(grid.best_params_)\n",
    "#담자\n",
    "lgbm = grid.best_estimator_\n",
    "print(f'Cross val mean : {cross_val_score(lgbm, X_train, y_train, cv=KFold(n_splits=5, shuffle=True, random_state=7)).mean()}')\n",
    "display(lgbm.score(X_train, y_train))\n",
    "# wow that's high? ... right?"
   ]
  },
  {
   "cell_type": "markdown",
   "id": "7ffba91f",
   "metadata": {},
   "source": [
    "## RF 튀잉"
   ]
  },
  {
   "cell_type": "code",
   "execution_count": 147,
   "id": "9519c28f",
   "metadata": {
    "ExecuteTime": {
     "end_time": "2023-05-31T07:02:50.195955Z",
     "start_time": "2023-05-31T07:02:44.286218Z"
    }
   },
   "outputs": [
    {
     "name": "stdout",
     "output_type": "stream",
     "text": [
      "Fitting 6 folds for each of 1 candidates, totalling 6 fits\n"
     ]
    },
    {
     "name": "stderr",
     "output_type": "stream",
     "text": [
      "[Parallel(n_jobs=-1)]: Using backend ThreadingBackend with 16 concurrent workers.\n",
      "[Parallel(n_jobs=-1)]: Done  18 tasks      | elapsed:    0.0s\n",
      "[Parallel(n_jobs=-1)]: Done 168 tasks      | elapsed:    0.3s\n",
      "[Parallel(n_jobs=-1)]: Done 418 tasks      | elapsed:    0.8s\n",
      "[Parallel(n_jobs=-1)]: Done 500 out of 500 | elapsed:    1.0s finished\n",
      "[Parallel(n_jobs=-1)]: Using backend LokyBackend with 16 concurrent workers.\n"
     ]
    },
    {
     "name": "stdout",
     "output_type": "stream",
     "text": [
      "best score: 0.7734855191098794, best params : {'bootstrap': True, 'ccp_alpha': 0.0, 'class_weight': 'balanced_subsample', 'criterion': 'entropy', 'max_depth': 5, 'max_features': 'sqrt', 'max_leaf_nodes': None, 'max_samples': 0.03, 'min_impurity_decrease': 0.0, 'min_samples_leaf': 2, 'min_samples_split': 2, 'min_weight_fraction_leaf': 0.0, 'n_estimators': 500, 'n_jobs': -1, 'random_state': 3, 'verbose': 1, 'warm_start': True}\n"
     ]
    },
    {
     "name": "stderr",
     "output_type": "stream",
     "text": [
      "[Parallel(n_jobs=-1)]: Done   5 out of   5 | elapsed:    2.0s finished\n"
     ]
    },
    {
     "data": {
      "text/plain": [
       "array([0.76164477, 0.77904794, 0.77751237, 0.77853609, 0.7804129 ])"
      ]
     },
     "metadata": {},
     "output_type": "display_data"
    },
    {
     "name": "stdout",
     "output_type": "stream",
     "text": [
      "0.7725985326736052\n"
     ]
    },
    {
     "name": "stderr",
     "output_type": "stream",
     "text": [
      "[Parallel(n_jobs=16)]: Using backend ThreadingBackend with 16 concurrent workers.\n",
      "[Parallel(n_jobs=16)]: Done  18 tasks      | elapsed:    0.0s\n",
      "[Parallel(n_jobs=16)]: Done 168 tasks      | elapsed:    0.0s\n",
      "[Parallel(n_jobs=16)]: Done 418 tasks      | elapsed:    0.1s\n",
      "[Parallel(n_jobs=16)]: Done 500 out of 500 | elapsed:    0.1s finished\n"
     ]
    }
   ],
   "source": [
    "# ㄹㄷㅍㄽㅌ ㅍ ㄹ ㅁ ㅌ : 역시 노가다 함\n",
    "rf = RandomForestClassifier()\n",
    "rf_param = {\n",
    "    'n_estimators':[500],\n",
    "    'criterion':['entropy'],\n",
    "    'max_depth':[5],\n",
    "    'min_samples_split':[2],\n",
    "    'min_samples_leaf':[2],\n",
    "    'min_weight_fraction_leaf':[0.0],\n",
    "    'max_features':['sqrt'],\n",
    "    'max_leaf_nodes':[None],\n",
    "    'min_impurity_decrease':[0.0],\n",
    "    'bootstrap':[True],\n",
    "    'n_jobs':[-1],\n",
    "    'random_state':[3],\n",
    "    'verbose':[1],\n",
    "    'warm_start':[True],\n",
    "    'class_weight':[\"balanced_subsample\"],\n",
    "    'ccp_alpha':[0.0],\n",
    "    'max_samples':[0.03]\n",
    "}\n",
    "grid = GridSearchCV(rf,\n",
    "                   param_grid=rf_param,\n",
    "                   cv=KFold(n_splits=6, shuffle=True),\n",
    "                   n_jobs=-1,\n",
    "                   verbose=1\n",
    "                   )\n",
    "grid.fit(X_train, y_train)\n",
    "print(f'best score: {grid.best_score_}, best params : {grid.best_params_}')\n",
    "rf = grid.best_estimator_\n",
    "display(cross_val_score(rf, X_train, y_train, cv=KFold(n_splits=5, shuffle=True), verbose=1, n_jobs=-1))\n",
    "print(rf.score(X_train, y_train))\n",
    "## 그러쿠만요\n",
    "## 버보스 조타 "
   ]
  },
  {
   "cell_type": "markdown",
   "id": "dbd4946c",
   "metadata": {},
   "source": [
    "## KNN 튜민ㅇ"
   ]
  },
  {
   "cell_type": "code",
   "execution_count": 148,
   "id": "addaed72",
   "metadata": {
    "ExecuteTime": {
     "end_time": "2023-05-31T07:02:50.211012Z",
     "start_time": "2023-05-31T07:02:50.196952Z"
    }
   },
   "outputs": [],
   "source": [
    "from sklearn.neighbors import KNeighborsClassifier"
   ]
  },
  {
   "cell_type": "code",
   "execution_count": 149,
   "id": "f0c20c77",
   "metadata": {
    "ExecuteTime": {
     "end_time": "2023-05-31T07:03:31.864434Z",
     "start_time": "2023-05-31T07:02:50.213009Z"
    }
   },
   "outputs": [
    {
     "name": "stdout",
     "output_type": "stream",
     "text": [
      "Fitting 6 folds for each of 1 candidates, totalling 6 fits\n",
      "best score: 0.8317013743062872, best params : {'leaf_size': 10, 'n_jobs': -1, 'n_neighbors': 7, 'p': 1, 'weights': 'uniform'}\n"
     ]
    },
    {
     "name": "stderr",
     "output_type": "stream",
     "text": [
      "[Parallel(n_jobs=-1)]: Using backend LokyBackend with 16 concurrent workers.\n",
      "[Parallel(n_jobs=-1)]: Done   5 out of   5 | elapsed:    8.6s finished\n"
     ]
    },
    {
     "data": {
      "text/plain": [
       "array([0.83381675, 0.83091623, 0.82528579, 0.83791162, 0.83620543])"
      ]
     },
     "metadata": {},
     "output_type": "display_data"
    },
    {
     "name": "stdout",
     "output_type": "stream",
     "text": [
      "0.8687254734686913\n"
     ]
    }
   ],
   "source": [
    "# 코리안 노 노 클래시파이어 ㅇㅇ\n",
    "knn = KNeighborsClassifier()\n",
    "knn_param = {\n",
    "    'n_neighbors':[7],\n",
    "    'weights':['uniform'],\n",
    "    'leaf_size':[10],\n",
    "    'p':[1],\n",
    "    'n_jobs':[-1],\n",
    "}\n",
    "grid = GridSearchCV(knn,\n",
    "                   param_grid=knn_param,\n",
    "                   cv=KFold(n_splits=6, shuffle=True),\n",
    "                   n_jobs=-1,\n",
    "                   verbose=1\n",
    "                   )\n",
    "grid.fit(X_train, y_train)\n",
    "print(f'best score: {grid.best_score_}, best params : {grid.best_params_}')\n",
    "knn = grid.best_estimator_\n",
    "display(cross_val_score(knn, X_train, y_train, cv=KFold(n_splits=5, shuffle=True), verbose=1, n_jobs=-1))\n",
    "print(knn.score(X_train, y_train))\n",
    "## KNN 무시 ㄴㄴ ㅋㅋ ㅠㅠ"
   ]
  },
  {
   "cell_type": "markdown",
   "id": "66744518",
   "metadata": {},
   "source": [
    "## ADA 튠ㅁ잉"
   ]
  },
  {
   "cell_type": "code",
   "execution_count": 150,
   "id": "b2c9c268",
   "metadata": {
    "ExecuteTime": {
     "end_time": "2023-05-31T07:11:48.701330Z",
     "start_time": "2023-05-31T07:03:31.868383Z"
    }
   },
   "outputs": [
    {
     "name": "stdout",
     "output_type": "stream",
     "text": [
      "Fitting 3 folds for each of 2 candidates, totalling 6 fits\n",
      "best score: 0.8655176489269026, best params : {'base_estimator': LGBMClassifier(colsample_bytree=0.6, learning_rate=0.03, max_depth=5,\n",
      "               n_estimators=500, num_leaves=15, random_state=5, subsample=0.3), 'learning_rate': 0.2, 'n_estimators': 80, 'random_state': None}\n"
     ]
    },
    {
     "name": "stderr",
     "output_type": "stream",
     "text": [
      "[Parallel(n_jobs=-1)]: Using backend LokyBackend with 16 concurrent workers.\n",
      "[Parallel(n_jobs=-1)]: Done   5 out of   5 | elapsed:  2.4min finished\n"
     ]
    },
    {
     "data": {
      "text/plain": [
       "0.8654837058522435"
      ]
     },
     "metadata": {},
     "output_type": "display_data"
    },
    {
     "name": "stdout",
     "output_type": "stream",
     "text": [
      "0.8801228459307285\n"
     ]
    }
   ],
   "source": [
    "### 이거 오래걸림 각오하슈\n",
    "ada = AdaBoostClassifier()\n",
    "ada_param = {\n",
    "    'base_estimator':[xgb, lgbm],\n",
    "    'n_estimators':[80],\n",
    "    'learning_rate':[0.2],\n",
    "    'random_state':[None]\n",
    "}\n",
    "grid = GridSearchCV(ada,\n",
    "                   param_grid=ada_param,\n",
    "                   cv=KFold(n_splits=3, shuffle=True),\n",
    "                   n_jobs=-1,\n",
    "                   verbose=1\n",
    "                   )\n",
    "grid.fit(X_train, y_train)\n",
    "print(f'best score: {grid.best_score_}, best params : {grid.best_params_}')\n",
    "ada = grid.best_estimator_\n",
    "display(cross_val_score(ada, X_train, y_train, cv=KFold(n_splits=5, shuffle=True), verbose=1, n_jobs=-1).mean())\n",
    "print(ada.score(X_train, y_train))"
   ]
  },
  {
   "cell_type": "markdown",
   "id": "d6906b9a",
   "metadata": {},
   "source": [
    "## VC 튜닝"
   ]
  },
  {
   "cell_type": "code",
   "execution_count": 151,
   "id": "07db224a",
   "metadata": {
    "ExecuteTime": {
     "end_time": "2023-05-31T07:11:48.716291Z",
     "start_time": "2023-05-31T07:11:48.703326Z"
    }
   },
   "outputs": [],
   "source": [
    "from sklearn.ensemble import VotingClassifier"
   ]
  },
  {
   "cell_type": "code",
   "execution_count": 152,
   "id": "7aab1b23",
   "metadata": {
    "ExecuteTime": {
     "end_time": "2023-05-31T07:12:20.838856Z",
     "start_time": "2023-05-31T07:11:48.718286Z"
    }
   },
   "outputs": [
    {
     "name": "stderr",
     "output_type": "stream",
     "text": [
      "[Parallel(n_jobs=-1)]: Using backend LokyBackend with 16 concurrent workers.\n",
      "[Parallel(n_jobs=-1)]: Done   5 out of   5 | elapsed:   17.1s finished\n"
     ]
    },
    {
     "data": {
      "text/plain": [
       "array([0.86435762, 0.86879372, 0.86077461, 0.87425354, 0.87237673])"
      ]
     },
     "metadata": {},
     "output_type": "display_data"
    },
    {
     "name": "stdout",
     "output_type": "stream",
     "text": [
      "0.8753796280498208\n"
     ]
    }
   ],
   "source": [
    "### 이거도 오래걸림 각오하슈\n",
    "voter = VotingClassifier(n_jobs=-1, estimators=[('gbm',gbm),('lgbm',lgbm), ('xgb', xgb)])\n",
    "\n",
    "voter.fit(X_train, y_train)\n",
    "\n",
    "display(cross_val_score(voter, X_train, y_train, cv=KFold(n_splits=5, shuffle=True), verbose=1, n_jobs=-1))\n",
    "\n",
    "print(voter.score(X_train, y_train))"
   ]
  },
  {
   "cell_type": "markdown",
   "id": "a6e3c7b2",
   "metadata": {},
   "source": [
    "## Stack 투닝"
   ]
  },
  {
   "cell_type": "code",
   "execution_count": 153,
   "id": "fb3197ea",
   "metadata": {
    "ExecuteTime": {
     "end_time": "2023-05-31T07:12:58.361486Z",
     "start_time": "2023-05-31T07:12:20.840809Z"
    }
   },
   "outputs": [
    {
     "name": "stderr",
     "output_type": "stream",
     "text": [
      "[Parallel(n_jobs=-1)]: Using backend LokyBackend with 16 concurrent workers.\n",
      "[Parallel(n_jobs=-1)]: Done   1 out of   1 | elapsed:    0.0s finished\n"
     ]
    },
    {
     "data": {
      "text/plain": [
       "0.8714895069100836"
      ]
     },
     "execution_count": 153,
     "metadata": {},
     "output_type": "execute_result"
    }
   ],
   "source": [
    "from sklearn.ensemble import StackingClassifier\n",
    "from sklearn.linear_model import LogisticRegression\n",
    "logi = LogisticRegression(\n",
    "    penalty='l2',\n",
    "    dual=False,\n",
    "    tol=0.0001,\n",
    "    C=0.8,\n",
    "    fit_intercept=True,\n",
    "    intercept_scaling=1,\n",
    "    class_weight=None,\n",
    "    random_state=None,\n",
    "    solver='lbfgs',\n",
    "    max_iter=1000,\n",
    "    multi_class='auto',\n",
    "    verbose=1,\n",
    "    warm_start=False,\n",
    "    n_jobs=-1,\n",
    ")\n",
    "stack = StackingClassifier(estimators=[('xgb',xgb), ('lgbm',lgbm), ('voter', voter)],\n",
    "                          final_estimator=logi,\n",
    "                          cv=3,\n",
    "                          n_jobs=-1)\n",
    "stack.fit(X_train, y_train)\n",
    "stack.score(X_train, y_train)"
   ]
  },
  {
   "cell_type": "markdown",
   "id": "798d2884",
   "metadata": {},
   "source": [
    "# 루프!! ->> 6번으로 다시 ㄱ\n",
    "    - fnlwgt 관련 피쳐를 없애고 하는 방법\n",
    "    - continuos를 다시 분류화 시키는 방법"
   ]
  },
  {
   "cell_type": "markdown",
   "id": "d2aaffdf",
   "metadata": {},
   "source": [
    "# 서브미션"
   ]
  },
  {
   "cell_type": "markdown",
   "id": "45d26474",
   "metadata": {},
   "source": [
    "## Ada submission"
   ]
  },
  {
   "cell_type": "code",
   "execution_count": 154,
   "id": "6dc576ed",
   "metadata": {
    "ExecuteTime": {
     "end_time": "2023-05-31T07:13:04.421784Z",
     "start_time": "2023-05-31T07:12:58.362483Z"
    }
   },
   "outputs": [],
   "source": [
    "# 이것도오래걸려\n",
    "y_test = ada.predict(X_test)"
   ]
  },
  {
   "cell_type": "code",
   "execution_count": 155,
   "id": "1dfaff22",
   "metadata": {
    "ExecuteTime": {
     "end_time": "2023-05-31T07:13:04.437742Z",
     "start_time": "2023-05-31T07:13:04.423779Z"
    }
   },
   "outputs": [],
   "source": [
    "submission = pd.read_csv('./sample_submission.csv')"
   ]
  },
  {
   "cell_type": "code",
   "execution_count": 156,
   "id": "815bdbf9",
   "metadata": {
    "ExecuteTime": {
     "end_time": "2023-05-31T07:13:04.453699Z",
     "start_time": "2023-05-31T07:13:04.439737Z"
    }
   },
   "outputs": [],
   "source": [
    "submission['income'] = y_test"
   ]
  },
  {
   "cell_type": "code",
   "execution_count": 157,
   "id": "37646c20",
   "metadata": {
    "ExecuteTime": {
     "end_time": "2023-05-31T07:13:04.501081Z",
     "start_time": "2023-05-31T07:13:04.455694Z"
    }
   },
   "outputs": [],
   "source": [
    "submission.to_csv('submission_Dee01.csv', index=False)"
   ]
  },
  {
   "cell_type": "markdown",
   "id": "be7a4124",
   "metadata": {},
   "source": [
    "## VC submission"
   ]
  },
  {
   "cell_type": "code",
   "execution_count": 158,
   "id": "50142f9d",
   "metadata": {
    "ExecuteTime": {
     "end_time": "2023-05-31T07:13:04.943110Z",
     "start_time": "2023-05-31T07:13:04.503075Z"
    },
    "scrolled": true
   },
   "outputs": [],
   "source": [
    "y_test = voter.predict(X_test)\n",
    "submission = pd.read_csv('./sample_submission.csv')\n",
    "submission['income'] = y_test\n",
    "submission.to_csv('submission_Dee_Voter.csv', index=False)"
   ]
  },
  {
   "cell_type": "markdown",
   "id": "4c144889",
   "metadata": {},
   "source": [
    "## LGBM submission"
   ]
  },
  {
   "cell_type": "code",
   "execution_count": 159,
   "id": "a7e56ad5",
   "metadata": {
    "ExecuteTime": {
     "end_time": "2023-05-31T07:13:05.086724Z",
     "start_time": "2023-05-31T07:13:04.944106Z"
    }
   },
   "outputs": [],
   "source": [
    "y_test = lgbm.predict(X_test)\n",
    "submission = pd.read_csv('./sample_submission.csv')\n",
    "submission['income'] = y_test\n",
    "submission.to_csv('submission_Dee_LGBM.csv', index=False)"
   ]
  },
  {
   "cell_type": "markdown",
   "id": "8f91b717",
   "metadata": {},
   "source": [
    "## GBM submission"
   ]
  },
  {
   "cell_type": "code",
   "execution_count": 160,
   "id": "621a9b80",
   "metadata": {
    "ExecuteTime": {
     "end_time": "2023-05-31T07:13:05.260651Z",
     "start_time": "2023-05-31T07:13:05.088719Z"
    }
   },
   "outputs": [],
   "source": [
    "y_test = gbm.predict(X_test)\n",
    "submission = pd.read_csv('./sample_submission.csv')\n",
    "submission['income'] = y_test\n",
    "submission.to_csv('submission_Dee_GBM.csv', index=False)"
   ]
  },
  {
   "cell_type": "markdown",
   "id": "92c1bd33",
   "metadata": {},
   "source": [
    "## RF submission"
   ]
  },
  {
   "cell_type": "code",
   "execution_count": 161,
   "id": "85212e6e",
   "metadata": {
    "ExecuteTime": {
     "end_time": "2023-05-31T07:13:05.479054Z",
     "start_time": "2023-05-31T07:13:05.262599Z"
    }
   },
   "outputs": [
    {
     "name": "stderr",
     "output_type": "stream",
     "text": [
      "[Parallel(n_jobs=16)]: Using backend ThreadingBackend with 16 concurrent workers.\n",
      "[Parallel(n_jobs=16)]: Done  18 tasks      | elapsed:    0.0s\n",
      "[Parallel(n_jobs=16)]: Done 168 tasks      | elapsed:    0.0s\n",
      "[Parallel(n_jobs=16)]: Done 418 tasks      | elapsed:    0.0s\n",
      "[Parallel(n_jobs=16)]: Done 500 out of 500 | elapsed:    0.1s finished\n"
     ]
    }
   ],
   "source": [
    "y_test = rf.predict(X_test)\n",
    "submission = pd.read_csv('./sample_submission.csv')\n",
    "submission['income'] = y_test\n",
    "submission.to_csv('submission_Dee05.csv', index=False)"
   ]
  },
  {
   "cell_type": "markdown",
   "id": "d9ff2635",
   "metadata": {},
   "source": [
    "## KNN submission"
   ]
  },
  {
   "cell_type": "code",
   "execution_count": 162,
   "id": "3f571a3e",
   "metadata": {
    "ExecuteTime": {
     "end_time": "2023-05-31T07:13:21.510392Z",
     "start_time": "2023-05-31T07:13:05.481018Z"
    }
   },
   "outputs": [],
   "source": [
    "y_test = knn.predict(X_test)\n",
    "submission = pd.read_csv('./sample_submission.csv')\n",
    "submission['income'] = y_test\n",
    "submission.to_csv('submission_Dee_KNN.csv', index=False)"
   ]
  },
  {
   "cell_type": "markdown",
   "id": "a639fd00",
   "metadata": {},
   "source": [
    "## Stack submission"
   ]
  },
  {
   "cell_type": "code",
   "execution_count": 165,
   "id": "27a2963d",
   "metadata": {
    "ExecuteTime": {
     "end_time": "2023-05-31T07:14:19.415336Z",
     "start_time": "2023-05-31T07:14:18.875419Z"
    },
    "scrolled": true
   },
   "outputs": [],
   "source": [
    "y_test = stack.predict(X_test)\n",
    "submission = pd.read_csv('./sample_submission.csv')\n",
    "submission['income'] = y_test\n",
    "submission.to_csv('submission_Dee_Stack.csv', index=False)"
   ]
  },
  {
   "cell_type": "markdown",
   "id": "c33db7f8",
   "metadata": {},
   "source": [
    "## XGB submission"
   ]
  },
  {
   "cell_type": "code",
   "execution_count": 164,
   "id": "0e1c83c5",
   "metadata": {
    "ExecuteTime": {
     "end_time": "2023-05-31T07:13:22.138667Z",
     "start_time": "2023-05-31T07:13:22.061917Z"
    }
   },
   "outputs": [],
   "source": [
    "y_test = xgb.predict(X_test)\n",
    "submission = pd.read_csv('./sample_submission.csv')\n",
    "submission['income'] = y_test\n",
    "submission.to_csv('submission_Dee_XGB.csv', index=False)"
   ]
  },
  {
   "cell_type": "markdown",
   "id": "1f20bdd0",
   "metadata": {},
   "source": [
    "<hr style=\"background-color:salmon; height:2px;\">\n",
    "<hr style=\"background-color:orange; height:2px\">\n",
    "<hr style=\"background-color:lightyellow; height:2px;\">\n",
    "<hr style=\"background-color:lightgreen; height:2px;\">\n",
    "<hr style=\"background-color:skyblue; height:2px;\">\n",
    "<hr style=\"background-color:pink; height:2px;\">\n",
    "\n",
    "- 마무리\n",
    "\n",
    "<hr style=\"background-color:salmon; height:2px;\">\n",
    "<hr style=\"background-color:orange; height:2px\">\n",
    "<hr style=\"background-color:lightyellow; height:2px;\">\n",
    "<hr style=\"background-color:lightgreen; height:2px;\">\n",
    "<hr style=\"background-color:skyblue; height:2px;\">\n",
    "<hr style=\"background-color:pink; height:2px;\">"
   ]
  }
 ],
 "metadata": {
  "kernelspec": {
   "display_name": "Python 3 (ipykernel)",
   "language": "python",
   "name": "python3"
  },
  "language_info": {
   "codemirror_mode": {
    "name": "ipython",
    "version": 3
   },
   "file_extension": ".py",
   "mimetype": "text/x-python",
   "name": "python",
   "nbconvert_exporter": "python",
   "pygments_lexer": "ipython3",
   "version": "3.9.13"
  },
  "toc": {
   "base_numbering": 1,
   "nav_menu": {
    "height": "97px",
    "width": "160px"
   },
   "number_sections": true,
   "sideBar": true,
   "skip_h1_title": false,
   "title_cell": "Table of Contents",
   "title_sidebar": "Contents",
   "toc_cell": false,
   "toc_position": {
    "height": "calc(100% - 180px)",
    "left": "10px",
    "top": "150px",
    "width": "279px"
   },
   "toc_section_display": true,
   "toc_window_display": true
  },
  "varInspector": {
   "cols": {
    "lenName": 16,
    "lenType": 16,
    "lenVar": 40
   },
   "kernels_config": {
    "python": {
     "delete_cmd_postfix": "",
     "delete_cmd_prefix": "del ",
     "library": "var_list.py",
     "varRefreshCmd": "print(var_dic_list())"
    },
    "r": {
     "delete_cmd_postfix": ") ",
     "delete_cmd_prefix": "rm(",
     "library": "var_list.r",
     "varRefreshCmd": "cat(var_dic_list()) "
    }
   },
   "types_to_exclude": [
    "module",
    "function",
    "builtin_function_or_method",
    "instance",
    "_Feature"
   ],
   "window_display": false
  }
 },
 "nbformat": 4,
 "nbformat_minor": 5
}
